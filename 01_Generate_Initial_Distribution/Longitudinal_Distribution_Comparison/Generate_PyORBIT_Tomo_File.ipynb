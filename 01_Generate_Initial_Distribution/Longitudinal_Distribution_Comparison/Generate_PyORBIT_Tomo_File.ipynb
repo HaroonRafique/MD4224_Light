{
 "cells": [
  {
   "cell_type": "markdown",
   "metadata": {},
   "source": [
    "# Generate PyORBIT-readable tomo file to create longitudinal distribution in PyORBIT\n",
    "- Uses measured tomo file ../../00_Longitudinal_Distribution/C200_001_001_002.dat\n",
    "\n",
    "This script takes an output from the tomo (.dat format), and runs the file through the executable tomo_vo.intelmp, thus generating a .mat file to be read by a PyORBIT distribution generator (written by CERN BE-ABP-HSI members Hannes Bartosik, Foteini Asvesta, and Haroon Rafique) which generates the longitudinal distribution\n",
    "based on the measured tomo data.\n",
    "\n",
    "### This script is based on the work of:\n",
    "- Simon Albright (BE-RF)\n",
    "- Andrea Santamaria Garcia (BE-OP)\n",
    "- Eirini Koukovini-Platia (BE-ABP-HSC)\n",
    "\n",
    "and is made available by Haroon Rafique (CERN BE-ABP-HSI) as is."
   ]
  },
  {
   "cell_type": "code",
   "execution_count": 1,
   "metadata": {},
   "outputs": [],
   "source": [
    "import os\n",
    "import re\n",
    "import sys\n",
    "import subprocess\n",
    "import numpy as np\n",
    "from scipy.io import savemat\n",
    "import matplotlib.pyplot as plt"
   ]
  },
  {
   "cell_type": "code",
   "execution_count": 2,
   "metadata": {},
   "outputs": [],
   "source": [
    "input_file_name='../../00_Longitudinal_Distribution/C200_001_001_002.dat'\n",
    "input_file_path=input_file_name"
   ]
  },
  {
   "cell_type": "markdown",
   "metadata": {},
   "source": [
    "## Run the provided tomo executable using the input file\n",
    "- subprocess allows us to spawn new processes, connect to their input/output/error pipes, and obtain their return codes."
   ]
  },
  {
   "cell_type": "code",
   "execution_count": 3,
   "metadata": {},
   "outputs": [],
   "source": [
    "result = subprocess.Popen(['./tomo_vo.intelmp'], stdin=open(input_file_path, 'r'), stdout=subprocess.PIPE, stderr=subprocess.PIPE)\n",
    "out, err = result.communicate()\n",
    "out = out.splitlines()"
   ]
  },
  {
   "cell_type": "markdown",
   "metadata": {},
   "source": [
    "### executable output:\n",
    "- here we find useful output such as the width of each bin in time and energy"
   ]
  },
  {
   "cell_type": "code",
   "execution_count": 4,
   "metadata": {},
   "outputs": [
    {
     "data": {
      "text/plain": [
       "[' Start',\n",
       " ' plotinfo.data',\n",
       " 'Number of profiles used in each reconstruction,',\n",
       " ' profilecount = 150',\n",
       " 'Width (in pixels) of each image = length (in bins) of each profile,',\n",
       " ' profilelength = 100',\n",
       " 'Width (in s) of each pixel = width of each profile bin,',\n",
       " ' dtbin = 2.5000E-09',\n",
       " 'Height (in eV) of each pixel,',\n",
       " ' dEbin = 1.4344E+05',\n",
       " 'Number of elementary charges in each image,',\n",
       " ' eperimage = 7.187E+11',\n",
       " 'Position (in pixels) of the reference synchronous point:',\n",
       " ' xat0 =  46.037',\n",
       " ' yat0 =  50.000',\n",
       " 'Foot tangent fit results (in bins):',\n",
       " ' tangentfootl =   17.420',\n",
       " ' tangentfootu =   74.539',\n",
       " ' fit xat0 =  46.037',\n",
       " 'Synchronous phase (in radians):',\n",
       " ' phi0(  2) =-0.0044',\n",
       " 'Horizontal range (in pixels) of the region in phase space of map elements:',\n",
       " ' imin(  2) =   2 and imax(  2) =  90',\n",
       " ' Tracking from time slice   2 to   3,   0.000% went outside the image width.',\n",
       " ' Tracking from time slice   2 to   4,   0.000% went outside the image width.',\n",
       " ' Tracking from time slice   2 to   5,   0.000% went outside the image width.',\n",
       " ' Tracking from time slice   2 to   6,   0.000% went outside the image width.',\n",
       " ' Tracking from time slice   2 to   7,   0.000% went outside the image width.',\n",
       " ' Tracking from time slice   2 to   8,   0.000% went outside the image width.',\n",
       " ' Tracking from time slice   2 to   9,   0.000% went outside the image width.',\n",
       " ' Tracking from time slice   2 to  10,   0.000% went outside the image width.',\n",
       " ' Tracking from time slice   2 to  11,   0.000% went outside the image width.',\n",
       " ' Tracking from time slice   2 to  12,   0.000% went outside the image width.',\n",
       " ' Tracking from time slice   2 to  13,   0.000% went outside the image width.',\n",
       " ' Tracking from time slice   2 to  14,   0.000% went outside the image width.',\n",
       " ' Tracking from time slice   2 to  15,   0.000% went outside the image width.',\n",
       " ' Tracking from time slice   2 to  16,   0.000% went outside the image width.',\n",
       " ' Tracking from time slice   2 to  17,   0.000% went outside the image width.',\n",
       " ' Tracking from time slice   2 to  18,   0.000% went outside the image width.',\n",
       " ' Tracking from time slice   2 to  19,   0.000% went outside the image width.',\n",
       " ' Tracking from time slice   2 to  20,   0.000% went outside the image width.',\n",
       " ' Tracking from time slice   2 to  21,   0.000% went outside the image width.',\n",
       " ' Tracking from time slice   2 to  22,   0.000% went outside the image width.',\n",
       " ' Tracking from time slice   2 to  23,   0.000% went outside the image width.',\n",
       " ' Tracking from time slice   2 to  24,   0.000% went outside the image width.',\n",
       " ' Tracking from time slice   2 to  25,   0.000% went outside the image width.',\n",
       " ' Tracking from time slice   2 to  26,   0.000% went outside the image width.',\n",
       " ' Tracking from time slice   2 to  27,   0.000% went outside the image width.',\n",
       " ' Tracking from time slice   2 to  28,   0.000% went outside the image width.',\n",
       " ' Tracking from time slice   2 to  29,   0.000% went outside the image width.',\n",
       " ' Tracking from time slice   2 to  30,   0.000% went outside the image width.',\n",
       " ' Tracking from time slice   2 to  31,   0.000% went outside the image width.',\n",
       " ' Tracking from time slice   2 to  32,   0.000% went outside the image width.',\n",
       " ' Tracking from time slice   2 to  33,   0.000% went outside the image width.',\n",
       " ' Tracking from time slice   2 to  34,   0.000% went outside the image width.',\n",
       " ' Tracking from time slice   2 to  35,   0.000% went outside the image width.',\n",
       " ' Tracking from time slice   2 to  36,   0.000% went outside the image width.',\n",
       " ' Tracking from time slice   2 to  37,   0.000% went outside the image width.',\n",
       " ' Tracking from time slice   2 to  38,   0.000% went outside the image width.',\n",
       " ' Tracking from time slice   2 to  39,   0.000% went outside the image width.',\n",
       " ' Tracking from time slice   2 to  40,   0.000% went outside the image width.',\n",
       " ' Tracking from time slice   2 to  41,   0.000% went outside the image width.',\n",
       " ' Tracking from time slice   2 to  42,   0.000% went outside the image width.',\n",
       " ' Tracking from time slice   2 to  43,   0.000% went outside the image width.',\n",
       " ' Tracking from time slice   2 to  44,   0.000% went outside the image width.',\n",
       " ' Tracking from time slice   2 to  45,   0.000% went outside the image width.',\n",
       " ' Tracking from time slice   2 to  46,   0.000% went outside the image width.',\n",
       " ' Tracking from time slice   2 to  47,   0.000% went outside the image width.',\n",
       " ' Tracking from time slice   2 to  48,   0.000% went outside the image width.',\n",
       " ' Tracking from time slice   2 to  49,   0.000% went outside the image width.',\n",
       " ' Tracking from time slice   2 to  50,   0.000% went outside the image width.',\n",
       " ' Tracking from time slice   2 to  51,   0.000% went outside the image width.',\n",
       " ' Tracking from time slice   2 to  52,   0.000% went outside the image width.',\n",
       " ' Tracking from time slice   2 to  53,   0.000% went outside the image width.',\n",
       " ' Tracking from time slice   2 to  54,   0.000% went outside the image width.',\n",
       " ' Tracking from time slice   2 to  55,   0.000% went outside the image width.',\n",
       " ' Tracking from time slice   2 to  56,   0.000% went outside the image width.',\n",
       " ' Tracking from time slice   2 to  57,   0.000% went outside the image width.',\n",
       " ' Tracking from time slice   2 to  58,   0.000% went outside the image width.',\n",
       " ' Tracking from time slice   2 to  59,   0.000% went outside the image width.',\n",
       " ' Tracking from time slice   2 to  60,   0.000% went outside the image width.',\n",
       " ' Tracking from time slice   2 to  61,   0.000% went outside the image width.',\n",
       " ' Tracking from time slice   2 to  62,   0.000% went outside the image width.',\n",
       " ' Tracking from time slice   2 to  63,   0.000% went outside the image width.',\n",
       " ' Tracking from time slice   2 to  64,   0.000% went outside the image width.',\n",
       " ' Tracking from time slice   2 to  65,   0.000% went outside the image width.',\n",
       " ' Tracking from time slice   2 to  66,   0.000% went outside the image width.',\n",
       " ' Tracking from time slice   2 to  67,   0.000% went outside the image width.',\n",
       " ' Tracking from time slice   2 to  68,   0.000% went outside the image width.',\n",
       " ' Tracking from time slice   2 to  69,   0.000% went outside the image width.',\n",
       " ' Tracking from time slice   2 to  70,   0.000% went outside the image width.',\n",
       " ' Tracking from time slice   2 to  71,   0.000% went outside the image width.',\n",
       " ' Tracking from time slice   2 to  72,   0.000% went outside the image width.',\n",
       " ' Tracking from time slice   2 to  73,   0.000% went outside the image width.',\n",
       " ' Tracking from time slice   2 to  74,   0.000% went outside the image width.',\n",
       " ' Tracking from time slice   2 to  75,   0.000% went outside the image width.',\n",
       " ' Tracking from time slice   2 to  76,   0.000% went outside the image width.',\n",
       " ' Tracking from time slice   2 to  77,   0.000% went outside the image width.',\n",
       " ' Tracking from time slice   2 to  78,   0.000% went outside the image width.',\n",
       " ' Tracking from time slice   2 to  79,   0.000% went outside the image width.',\n",
       " ' Tracking from time slice   2 to  80,   0.000% went outside the image width.',\n",
       " ' Tracking from time slice   2 to  81,   0.000% went outside the image width.',\n",
       " ' Tracking from time slice   2 to  82,   0.000% went outside the image width.',\n",
       " ' Tracking from time slice   2 to  83,   0.000% went outside the image width.',\n",
       " ' Tracking from time slice   2 to  84,   0.000% went outside the image width.',\n",
       " ' Tracking from time slice   2 to  85,   0.000% went outside the image width.',\n",
       " ' Tracking from time slice   2 to  86,   0.000% went outside the image width.',\n",
       " ' Tracking from time slice   2 to  87,   0.000% went outside the image width.',\n",
       " ' Tracking from time slice   2 to  88,   0.000% went outside the image width.',\n",
       " ' Tracking from time slice   2 to  89,   0.000% went outside the image width.',\n",
       " ' Tracking from time slice   2 to  90,   0.000% went outside the image width.',\n",
       " ' Tracking from time slice   2 to  91,   0.000% went outside the image width.',\n",
       " ' Tracking from time slice   2 to  92,   0.000% went outside the image width.',\n",
       " ' Tracking from time slice   2 to  93,   0.000% went outside the image width.',\n",
       " ' Tracking from time slice   2 to  94,   0.000% went outside the image width.',\n",
       " ' Tracking from time slice   2 to  95,   0.000% went outside the image width.',\n",
       " ' Tracking from time slice   2 to  96,   0.000% went outside the image width.',\n",
       " ' Tracking from time slice   2 to  97,   0.000% went outside the image width.',\n",
       " ' Tracking from time slice   2 to  98,   0.000% went outside the image width.',\n",
       " ' Tracking from time slice   2 to  99,   0.000% went outside the image width.',\n",
       " ' Tracking from time slice   2 to 100,   0.000% went outside the image width.',\n",
       " ' Tracking from time slice   2 to 101,   0.000% went outside the image width.',\n",
       " ' Tracking from time slice   2 to 102,   0.000% went outside the image width.',\n",
       " ' Tracking from time slice   2 to 103,   0.000% went outside the image width.',\n",
       " ' Tracking from time slice   2 to 104,   0.000% went outside the image width.',\n",
       " ' Tracking from time slice   2 to 105,   0.000% went outside the image width.',\n",
       " ' Tracking from time slice   2 to 106,   0.000% went outside the image width.',\n",
       " ' Tracking from time slice   2 to 107,   0.000% went outside the image width.',\n",
       " ' Tracking from time slice   2 to 108,   0.000% went outside the image width.',\n",
       " ' Tracking from time slice   2 to 109,   0.000% went outside the image width.',\n",
       " ' Tracking from time slice   2 to 110,   0.000% went outside the image width.',\n",
       " ' Tracking from time slice   2 to 111,   0.000% went outside the image width.',\n",
       " ' Tracking from time slice   2 to 112,   0.000% went outside the image width.',\n",
       " ' Tracking from time slice   2 to 113,   0.000% went outside the image width.',\n",
       " ' Tracking from time slice   2 to 114,   0.000% went outside the image width.',\n",
       " ' Tracking from time slice   2 to 115,   0.000% went outside the image width.',\n",
       " ' Tracking from time slice   2 to 116,   0.000% went outside the image width.',\n",
       " ' Tracking from time slice   2 to 117,   0.000% went outside the image width.',\n",
       " ' Tracking from time slice   2 to 118,   0.000% went outside the image width.',\n",
       " ' Tracking from time slice   2 to 119,   0.000% went outside the image width.',\n",
       " ' Tracking from time slice   2 to 120,   0.000% went outside the image width.',\n",
       " ' Tracking from time slice   2 to 121,   0.000% went outside the image width.',\n",
       " ' Tracking from time slice   2 to 122,   0.000% went outside the image width.',\n",
       " ' Tracking from time slice   2 to 123,   0.000% went outside the image width.',\n",
       " ' Tracking from time slice   2 to 124,   0.000% went outside the image width.',\n",
       " ' Tracking from time slice   2 to 125,   0.000% went outside the image width.',\n",
       " ' Tracking from time slice   2 to 126,   0.000% went outside the image width.',\n",
       " ' Tracking from time slice   2 to 127,   0.000% went outside the image width.',\n",
       " ' Tracking from time slice   2 to 128,   0.000% went outside the image width.',\n",
       " ' Tracking from time slice   2 to 129,   0.000% went outside the image width.',\n",
       " ' Tracking from time slice   2 to 130,   0.000% went outside the image width.',\n",
       " ' Tracking from time slice   2 to 131,   0.000% went outside the image width.',\n",
       " ' Tracking from time slice   2 to 132,   0.000% went outside the image width.',\n",
       " ' Tracking from time slice   2 to 133,   0.000% went outside the image width.',\n",
       " ' Tracking from time slice   2 to 134,   0.000% went outside the image width.',\n",
       " ' Tracking from time slice   2 to 135,   0.000% went outside the image width.',\n",
       " ' Tracking from time slice   2 to 136,   0.000% went outside the image width.',\n",
       " ' Tracking from time slice   2 to 137,   0.000% went outside the image width.',\n",
       " ' Tracking from time slice   2 to 138,   0.000% went outside the image width.',\n",
       " ' Tracking from time slice   2 to 139,   0.000% went outside the image width.',\n",
       " ' Tracking from time slice   2 to 140,   0.000% went outside the image width.',\n",
       " ' Tracking from time slice   2 to 141,   0.000% went outside the image width.',\n",
       " ' Tracking from time slice   2 to 142,   0.000% went outside the image width.',\n",
       " ' Tracking from time slice   2 to 143,   0.000% went outside the image width.',\n",
       " ' Tracking from time slice   2 to 144,   0.000% went outside the image width.',\n",
       " ' Tracking from time slice   2 to 145,   0.000% went outside the image width.',\n",
       " ' Tracking from time slice   2 to 146,   0.000% went outside the image width.',\n",
       " ' Tracking from time slice   2 to 147,   0.000% went outside the image width.',\n",
       " ' Tracking from time slice   2 to 148,   0.000% went outside the image width.',\n",
       " ' Tracking from time slice   2 to 149,   0.000% went outside the image width.',\n",
       " ' Tracking from time slice   2 to 150,   0.000% went outside the image width.',\n",
       " ' Tracking from time slice   2 to   1,   0.000% went outside the image width.',\n",
       " ' Iterating...',\n",
       " '  1',\n",
       " '  2',\n",
       " '  3',\n",
       " '  4',\n",
       " '  5',\n",
       " '  6',\n",
       " '  7',\n",
       " '  8',\n",
       " '  9',\n",
       " ' 10',\n",
       " ' 11',\n",
       " ' 12',\n",
       " ' 13',\n",
       " ' 14',\n",
       " ' 15',\n",
       " ' 16',\n",
       " ' 17',\n",
       " ' 18',\n",
       " ' 19',\n",
       " ' 20',\n",
       " ' 21',\n",
       " ' 22',\n",
       " ' 23',\n",
       " ' 24',\n",
       " ' 25',\n",
       " ' Done!']"
      ]
     },
     "execution_count": 4,
     "metadata": {},
     "output_type": "execute_result"
    }
   ],
   "source": [
    "out"
   ]
  },
  {
   "cell_type": "markdown",
   "metadata": {},
   "source": [
    "### executable error output:"
   ]
  },
  {
   "cell_type": "code",
   "execution_count": 5,
   "metadata": {},
   "outputs": [
    {
     "data": {
      "text/plain": [
       "''"
      ]
     },
     "execution_count": 5,
     "metadata": {},
     "output_type": "execute_result"
    }
   ],
   "source": [
    "err"
   ]
  },
  {
   "cell_type": "markdown",
   "metadata": {},
   "source": [
    "### Read the created image file\n",
    "- reshape from one column to a square"
   ]
  },
  {
   "cell_type": "code",
   "execution_count": 6,
   "metadata": {},
   "outputs": [],
   "source": [
    "dat = np.loadtxt(\"image002.data\") # This name may be different, please check if it doesnt work\n",
    "\n",
    "var = (int(np.sqrt(dat.shape[0])), int(np.sqrt(dat.shape[0])))\n",
    "dat = dat.reshape(var).T"
   ]
  },
  {
   "cell_type": "markdown",
   "metadata": {},
   "source": [
    "### Shape of data"
   ]
  },
  {
   "cell_type": "code",
   "execution_count": 7,
   "metadata": {},
   "outputs": [
    {
     "data": {
      "text/plain": [
       "(100, 100)"
      ]
     },
     "execution_count": 7,
     "metadata": {},
     "output_type": "execute_result"
    }
   ],
   "source": [
    "var"
   ]
  },
  {
   "cell_type": "markdown",
   "metadata": {},
   "source": [
    "# Data\n",
    "- because pyhton outputs a summary we see lots of zeroes as we observe the outer edges of the image"
   ]
  },
  {
   "cell_type": "code",
   "execution_count": 8,
   "metadata": {},
   "outputs": [
    {
     "data": {
      "text/plain": [
       "array([[0., 0., 0., ..., 0., 0., 0.],\n",
       "       [0., 0., 0., ..., 0., 0., 0.],\n",
       "       [0., 0., 0., ..., 0., 0., 0.],\n",
       "       ...,\n",
       "       [0., 0., 0., ..., 0., 0., 0.],\n",
       "       [0., 0., 0., ..., 0., 0., 0.],\n",
       "       [0., 0., 0., ..., 0., 0., 0.]])"
      ]
     },
     "execution_count": 8,
     "metadata": {},
     "output_type": "execute_result"
    }
   ],
   "source": [
    "dat"
   ]
  },
  {
   "cell_type": "markdown",
   "metadata": {},
   "source": [
    "### Centre check\n",
    "- if we look at the centre things are different"
   ]
  },
  {
   "cell_type": "code",
   "execution_count": 9,
   "metadata": {},
   "outputs": [
    {
     "data": {
      "text/plain": [
       "0.00050528347"
      ]
     },
     "execution_count": 9,
     "metadata": {},
     "output_type": "execute_result"
    }
   ],
   "source": [
    "mid = var[0]/2\n",
    "dat[mid, mid]"
   ]
  },
  {
   "cell_type": "code",
   "execution_count": 10,
   "metadata": {},
   "outputs": [
    {
     "name": "stdout",
     "output_type": "stream",
     "text": [
      " dtbin = 2.5000E-09\n",
      " dEbin = 1.4344E+05\n"
     ]
    }
   ],
   "source": [
    "print(out[7])\n",
    "print(out[9])"
   ]
  },
  {
   "cell_type": "code",
   "execution_count": 11,
   "metadata": {},
   "outputs": [],
   "source": [
    "# formatter for output (out) binsizes\n",
    "regexp = re.compile(\"\\\\d+\\\\.?\\\\d*E?[-+]?\\\\d*\")\n",
    "\n",
    "# Save in units of nanoseconds and mega electron volts\n",
    "dt = float(regexp.findall(out[7])[0])/1E-9 # ns\n",
    "dE = float(regexp.findall(out[9])[0])/1E6  # MeV"
   ]
  },
  {
   "cell_type": "code",
   "execution_count": 12,
   "metadata": {},
   "outputs": [],
   "source": [
    "# make bins\n",
    "tAxis = np.arange(dat.shape[0])*dt\n",
    "EAxis = np.arange(dat.shape[0])*dE\n",
    "\n",
    "# centre on (0,0) - not exact\n",
    "tAxis -= np.mean(tAxis)\n",
    "EAxis -= np.mean(EAxis)"
   ]
  },
  {
   "cell_type": "markdown",
   "metadata": {},
   "source": [
    "## Plot raw data\n",
    "- note any outliers, filaments etc outside of the separatrix\n",
    "- These will cause losses or strange dynamics that will reduce the reliability of PyORBIT space charge simulations\n",
    "- For this specific example we see three `islands', near (-50 ns, -3 MeV), (-70 ns, 0 MeV), and (100 ns, 1 MeV)"
   ]
  },
  {
   "cell_type": "code",
   "execution_count": 13,
   "metadata": {},
   "outputs": [
    {
     "data": {
      "image/png": "[encoded data removed]",
      "text/plain": [
       "<Figure size 800x800 with 1 Axes>"
      ]
     },
     "metadata": {},
     "output_type": "display_data"
    }
   ],
   "source": [
    "fig, ax = plt.subplots(figsize=(4, 4), dpi= 200, facecolor='w', edgecolor='k')\n",
    "ax.pcolor(tAxis, EAxis, dat)\n",
    "ax.set_xlim(-140, 140)\n",
    "ax.set_ylim(-7.5, 7.5)\n",
    "ax.set(xlabel='dt [ns]', ylabel='dE [MeV]', title='Raw distribution from tomo data')\n",
    "ax.grid(True)\n",
    "plot_name = input_file_name + '_raw.png'\n",
    "fig.savefig(plot_name, dpi=600)"
   ]
  },
  {
   "cell_type": "markdown",
   "metadata": {},
   "source": [
    "## Manually shift centre for this example"
   ]
  },
  {
   "cell_type": "code",
   "execution_count": 14,
   "metadata": {},
   "outputs": [],
   "source": [
    "tAxis += 8\t#MD4224 Vertical 1"
   ]
  },
  {
   "cell_type": "markdown",
   "metadata": {},
   "source": [
    "## Simple filter\n",
    "- removes pixels if all surrounding pixels are zero\n",
    "- thus erroneous data points or fragments of binning are removed"
   ]
  },
  {
   "cell_type": "code",
   "execution_count": 15,
   "metadata": {},
   "outputs": [
    {
     "name": "stdout",
     "output_type": "stream",
     "text": [
      "outlier removed at [ 24 , 27 ]\n",
      "outlier removed at [ 25 , 25 ]\n",
      "outlier removed at [ 27 , 23 ]\n",
      "outlier removed at [ 47 , 89 ]\n",
      "outlier removed at [ 48 , 80 ]\n",
      "outlier removed at [ 52 , 1 ]\n",
      "outlier removed at [ 52 , 89 ]\n",
      "outlier removed at [ 54 , 88 ]\n",
      "outlier removed at [ 55 , 3 ]\n",
      "outlier removed at [ 58 , 85 ]\n",
      "outlier removed at [ 66 , 14 ]\n"
     ]
    }
   ],
   "source": [
    "filter_level = 5E-5\n",
    "\n",
    "for x,y in np.ndindex(dat.shape):\n",
    "\tif dat[x,y] < filter_level:\t\t\t\t\t# 1.3 eVs\n",
    "\t\tdat[x,y] = 0.0\t\n",
    "\t\t\n",
    "# This filters any pixel where surrounding pixels are 0\n",
    "# may need to be modified if your phase space isn't a bunch but\n",
    "# contains some sort of lines / filamentation that is wanted\n",
    "for x in range (0, dat.shape[0], 1):\n",
    "\tfor y in range( 0, dat.shape[1], 1):\n",
    "\t\tif x == 0 or y == 0 or x == (dat.shape[0]-1) or y == (dat.shape[1]-1) or dat[x,y] == 0.0:\n",
    "\t\t\tpass\n",
    "\t\telse: \n",
    "\t\t\tif dat[x, y-1] == 0.0 and dat[x, y+1] == 0.0:\n",
    "\t\t\t\tprint 'outlier removed at [',x, ',' ,y, ']'\n",
    "\t\t\t\tdat[x,y] = 0.0\t\t\t"
   ]
  },
  {
   "cell_type": "markdown",
   "metadata": {},
   "source": [
    "## Plot filtered and centred data\n",
    "- note any outliers, filaments etc outside of the separatrix\n",
    "- These will cause losses or strange dynamics that will reduce the reliability of PyORBIT space charge simulations\n",
    "- For this specific example we see three `islands', near (-50 ns, -3 MeV), (-70 ns, 0 MeV), and (100 ns, 1 MeV)"
   ]
  },
  {
   "cell_type": "code",
   "execution_count": 16,
   "metadata": {},
   "outputs": [
    {
     "data": {
      "image/png": "[encoded data removed]",
      "text/plain": [
       "<Figure size 800x800 with 1 Axes>"
      ]
     },
     "metadata": {},
     "output_type": "display_data"
    }
   ],
   "source": [
    "fig, ax = plt.subplots(figsize=(4, 4), dpi= 200, facecolor='w', edgecolor='k')\n",
    "ax.pcolor(tAxis, EAxis, dat)\n",
    "ax.set_xlim(-140, 140)\n",
    "ax.set_ylim(-7.5, 7.5)\n",
    "ax.set(xlabel='dt [ns]', ylabel='dE [MeV]', title='Filtered distribution from tomo data')\n",
    "ax.grid(True)\n",
    "plot_name = input_file_name + '_filtered.png'\n",
    "fig.savefig(plot_name, dpi=600)"
   ]
  },
  {
   "cell_type": "markdown",
   "metadata": {},
   "source": [
    "## Save file in text format\n",
    "- Not used in PyORBIT, only intended to be readable"
   ]
  },
  {
   "cell_type": "code",
   "execution_count": 18,
   "metadata": {},
   "outputs": [],
   "source": [
    "# Save file for PyORBIT - Format 1 (untested)\n",
    "thefile = open(\"PyORBIT_Tomo_file.txt\",\"w+\")\n",
    "\n",
    "# First line: Minimum dt, maximum dt, binsize, bins\n",
    "thefile.write(\"%f\\t%f\\t%f\\t%i\" % (min(tAxis), max(tAxis), dt, len(tAxis)))\n",
    "\n",
    "# Second line: Minimum dE, maximum dE, binsize, bins\n",
    "thefile.write(\"\\n%f\\t%f\\t%f\\t%i\" % (min(EAxis), max(EAxis), dE, len(EAxis)))\n",
    "\n",
    "# Write density as grid\n",
    "thefile.write(\"\\n\")\n",
    "data = dat.tolist()\n",
    "\n",
    "for i in range (0, (var[0]-1), 1):\n",
    "\tfor j in range (0, (var[1]-1), 1):\n",
    "\t\tthefile.write(\"%1.10f\\t\" % (data[i][j]))\n",
    "\tthefile.write(\"\\n\")\n",
    "\t\n",
    "thefile.close()"
   ]
  },
  {
   "cell_type": "markdown",
   "metadata": {},
   "source": [
    "## Save file in mat format\n",
    "- This file is read by PyORBIT to create our longitudinal distribution"
   ]
  },
  {
   "cell_type": "code",
   "execution_count": 19,
   "metadata": {},
   "outputs": [],
   "source": [
    "data_dict = {'time_nsec': tAxis, 'energy_MeV': EAxis, 'density_array': dat}\n",
    "savemat('PyORBIT_Tomo_file.mat', data_dict)"
   ]
  }
 ],
 "metadata": {
  "kernelspec": {
   "display_name": "Python 2",
   "language": "python",
   "name": "python2"
  },
  "language_info": {
   "codemirror_mode": {
    "name": "ipython",
    "version": 2
   },
   "file_extension": ".py",
   "mimetype": "text/x-python",
   "name": "python",
   "nbconvert_exporter": "python",
   "pygments_lexer": "ipython2",
   "version": "2.7.15"
  }
 },
 "nbformat": 4,
 "nbformat_minor": 2
}

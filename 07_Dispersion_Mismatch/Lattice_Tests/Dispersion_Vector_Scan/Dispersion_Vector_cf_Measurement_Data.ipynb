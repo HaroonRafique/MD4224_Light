{
 "cells": [
  {
   "cell_type": "code",
   "execution_count": 1,
   "metadata": {},
   "outputs": [],
   "source": [
    "import os\n",
    "import imageio\n",
    "import pickle\n",
    "import pandas as pd\n",
    "import numpy as np\n",
    "import PyNAFF as pnf\n",
    "import scipy.io as sio \n",
    "import matplotlib.cm as cm\n",
    "from math import log10, floor\n",
    "import matplotlib as mpl\n",
    "import matplotlib.pyplot as plt\n",
    "from matplotlib.lines import Line2D\n",
    "from matplotlib.patches import Patch\n",
    "import matplotlib.gridspec as gridspec\n",
    "from scipy.optimize import curve_fit"
   ]
  },
  {
   "cell_type": "code",
   "execution_count": 2,
   "metadata": {},
   "outputs": [],
   "source": [
    "plt.rcParams['figure.figsize'] = [5.0, 4.5]\n",
    "plt.rcParams['figure.dpi'] = 200\n",
    "plt.rcParams['savefig.dpi'] = 200\n",
    "\n",
    "plt.rcParams['axes.titlesize'] = 10\n",
    "plt.rcParams['axes.labelsize'] = 14\n",
    "\n",
    "plt.rcParams['xtick.labelsize'] = 10\n",
    "plt.rcParams['ytick.labelsize'] = 10\n",
    "\n",
    "plt.rcParams['font.size'] = 10\n",
    "plt.rcParams['legend.fontsize'] = 14\n",
    "\n",
    "plt.rcParams['lines.linewidth'] = 1\n",
    "plt.rcParams['lines.markersize'] = 5"
   ]
  },
  {
   "cell_type": "markdown",
   "metadata": {},
   "source": [
    "## Function declarations"
   ]
  },
  {
   "cell_type": "code",
   "execution_count": 3,
   "metadata": {},
   "outputs": [],
   "source": [
    "def make_directory(path):\n",
    "    try:\n",
    "        os.mkdir(path)\n",
    "    except OSError:\n",
    "        print (\"Creation of the directory %s failed\" % path)\n",
    "    else:\n",
    "        print (\"Successfully created the directory %s \" % path)  "
   ]
  },
  {
   "cell_type": "code",
   "execution_count": 4,
   "metadata": {},
   "outputs": [],
   "source": [
    "########################################################################\n",
    "# Read PTC Twiss and return dictionary of columns/values\n",
    "########################################################################\n",
    "def Read_PTC_Twiss_Return_Dict(filename, verbose=True):\n",
    "    # Dictionary for output\n",
    "    d = dict()\n",
    "    d['HEADER_FILENAME'] = [filename]\n",
    "    keywords = ''\n",
    "    \n",
    "    # First we open and count header lines\n",
    "    fin0=open(filename,'r').readlines()\n",
    "    headerlines = 0\n",
    "    for l in fin0:\n",
    "        # Store each header line\n",
    "        headerlines = headerlines + 1\n",
    "        # Stop if we find the line starting '* NAME'\n",
    "        if '* NAME' in l:\n",
    "            keywords = l\n",
    "            break\n",
    "        # Store the headers as d['HEADER_<name>'] = <value>\n",
    "        else:\n",
    "            #try:\n",
    "            #    d[str('HEADER_'+l.split()[1])]=[float(l.split()[-1])]     \n",
    "            #except ValueError:\n",
    "            #    d[str('HEADER_'+l.split()[1])]=[str(l.split()[-1])]   \n",
    "            if '\"' in l:\n",
    "                d[str('HEADER_'+l.split()[1])]=[str(l.split('\"')[1])]\n",
    "            else:\n",
    "                d[str('HEADER_'+l.split()[1])]=[float(l.split()[-1])]                 \n",
    "    headerlines = headerlines + 1    \n",
    "    \n",
    "    if verbose: print '\\nRead_PTC_Twiss_Return_Dict found Keywords: \\n',keywords\n",
    "    \n",
    "    # Make a list of column keywords to return (as an aid to iterating)\n",
    "    dict_keys = []\n",
    "    for key in keywords.split():\n",
    "        dict_keys.append(key)\n",
    "    dict_keys.remove('*')\n",
    "    \n",
    "    if verbose: print '\\nRead_PTC_Twiss_Return_Dict Dict Keys: \\n',dict_keys\n",
    "    \n",
    "    # Initialise empty dictionary entries for column keywords \n",
    "    for key in dict_keys:\n",
    "        d[key]=[]\n",
    "        \n",
    "    if verbose: \n",
    "        print '\\nRead_PTC_Twiss_Return_Dict header only dictionary \\n'\n",
    "        for i in d:\n",
    "            print i, d[i]\n",
    "    \n",
    "    # Strip header\n",
    "    fin1=open(filename,'r').readlines()[headerlines:]   \n",
    "    \n",
    "    # Populate the dictionary line by line\n",
    "    for l in fin1:\n",
    "        i = -1        \n",
    "        for value in l.split():\n",
    "            i = i+1\n",
    "            if 'NAME' in dict_keys[i]:\n",
    "                d[dict_keys[i]].append(str(value))\n",
    "            else:\n",
    "                d[dict_keys[i]].append(float(value))    \n",
    "                \n",
    "    # Return list of column keywords 'dict_keys', and dictionary 'd'\n",
    "    return dict_keys, d"
   ]
  },
  {
   "cell_type": "code",
   "execution_count": 5,
   "metadata": {},
   "outputs": [],
   "source": [
    "def return_initial_Parameter(d, parameter, sig_limit=3):\n",
    "    return d[parameter][0] \n",
    "\n",
    "def print_Twiss_Dict_Parameter(d, parameter, sig_limit=3):\n",
    "    print parameter, ' = ', round_sig(d[parameter][0],sig_limit) \n",
    "\n",
    "def print_Twiss_Dict_Tunes(d, sig_limit=3):\n",
    "    print '(Qx, Qy) = (', round_sig(d['HEADER_Q1'][0],sig_limit) , ',' , round_sig(d['HEADER_Q2'][0],sig_limit) , ')'\n",
    "\n",
    "def Extract_initial_values(master_dict, name, wp_dict, vals=['BETX', 'DISP1']):\n",
    "    # Note name format is 'V_24'\n",
    "    master_dict[name] = dict()\n",
    "    for value in vals:\n",
    "        master_dict[name][value] = wp_dict[value][0]    "
   ]
  },
  {
   "cell_type": "code",
   "execution_count": 6,
   "metadata": {},
   "outputs": [],
   "source": [
    "def harmonic_fn(x, a, b, c, d):\n",
    "    return a + b*np.cos(c + 2*np.pi*d*x)"
   ]
  },
  {
   "cell_type": "code",
   "execution_count": 7,
   "metadata": {},
   "outputs": [],
   "source": [
    "def quadratic(x, a, m, c):\n",
    "    return a*x**2 + x*m + c"
   ]
  },
  {
   "cell_type": "code",
   "execution_count": 8,
   "metadata": {},
   "outputs": [],
   "source": [
    "def cubic(x, a, m, c, b):\n",
    "    return a*x**2 + x*m + c + b*x**3"
   ]
  },
  {
   "cell_type": "code",
   "execution_count": 9,
   "metadata": {},
   "outputs": [],
   "source": [
    "def Md_fit(x, a, b, c, d):\n",
    "        return a + b*np.cos(c*x+d)"
   ]
  },
  {
   "cell_type": "code",
   "execution_count": 10,
   "metadata": {},
   "outputs": [],
   "source": [
    "def Md_ramp_fit(x, a, b, c, d):\n",
    "    return a + b*(x-1)*np.cos(c*(x-1)+d)"
   ]
  },
  {
   "cell_type": "code",
   "execution_count": 11,
   "metadata": {},
   "outputs": [],
   "source": [
    "def round_sig(x, sig=4):\n",
    "    return round(x, sig-int(floor(log10(abs(x))))-1)"
   ]
  },
  {
   "cell_type": "code",
   "execution_count": 12,
   "metadata": {},
   "outputs": [],
   "source": [
    "def add_input_file(dd, filename, label, verbose=True):\n",
    "\tf = filename\n",
    "\tp = dict()\n",
    "\tsio.loadmat(f, mdict=p)\n",
    "\tdd[label] = p\n",
    "\tif verbose: print '\\tAdded output data from ', filename, '\\t dictionary key: ', label\n",
    "\treturn dd"
   ]
  },
  {
   "cell_type": "code",
   "execution_count": 13,
   "metadata": {},
   "outputs": [],
   "source": [
    "def is_non_zero_file(fpath, verbose=True):  \n",
    "\tif verbose: print '\\t\\tis_non_zero_file:: Checking file ', fpath\n",
    "\tif verbose: print '\\t\\tis_non_zero_file:: File exists = ', os.path.isfile(fpath)\n",
    "\tif verbose: print '\\t\\tis_non_zero_file:: Size > 3 bytes = ', os.path.getsize(fpath)\n",
    "\treturn os.path.isfile(fpath) and os.path.getsize(fpath) > 3"
   ]
  },
  {
   "cell_type": "code",
   "execution_count": 14,
   "metadata": {},
   "outputs": [],
   "source": [
    "def make_dispersion_vector_dict(d, bunch_output_dir, verbose=True):\n",
    "    maxi = 30\n",
    "    turns = range(0,maxi)   \n",
    "    \n",
    "    for t in turns:\n",
    "        if t <= 9: inputs = str(bunch_output_dir +'/bunch_output/mainbunch_00000' + str(int(t)) + '.mat')\n",
    "        else:      inputs = str(bunch_output_dir +'/bunch_output/mainbunch_0000' + str(int(t)) + '.mat' )\n",
    "        \n",
    "        if verbose: print '\\nInput file location: ', inputs\n",
    "            \n",
    "        if is_non_zero_file(inputs, verbose):            \n",
    "            d = add_input_file(d, inputs, (t+1), verbose=verbose)\n",
    "        else:\n",
    "            print 'make_dispersion_vector_dict:: input file does not exist'\n",
    "            exit(0)\n",
    "            \n",
    "    d = add_input_file(d, str(bunch_output_dir +'/bunch_output/mainbunch_-000001.mat'), 0, verbose=verbose)\n",
    "    return d    "
   ]
  },
  {
   "cell_type": "code",
   "execution_count": 15,
   "metadata": {},
   "outputs": [],
   "source": [
    "def LorentzBeta(gamma):\n",
    "    return np.sqrt( 1. - (1./gamma**2) )"
   ]
  },
  {
   "cell_type": "code",
   "execution_count": 16,
   "metadata": {},
   "outputs": [
    {
     "data": {
      "text/plain": [
       "0.9158392756488949"
      ]
     },
     "execution_count": 16,
     "metadata": {},
     "output_type": "execute_result"
    }
   ],
   "source": [
    "PTC_gamma = 2.49038064\n",
    "beta = LorentzBeta(PTC_gamma)\n",
    "E = 2336654575.29 * 1E-9 \n",
    "beta"
   ]
  },
  {
   "cell_type": "markdown",
   "metadata": {},
   "source": [
    "## Load dispersion vector data"
   ]
  },
  {
   "cell_type": "code",
   "execution_count": 17,
   "metadata": {
    "scrolled": false
   },
   "outputs": [],
   "source": [
    "H_No_Mismatch_Dict = dict()\n",
    "\n",
    "d0_H_07 = dict()\n",
    "d0_H_07 = make_dispersion_vector_dict(d0_H_07, '0_H_07', verbose=False)\n",
    "H_No_Mismatch_Dict['0_H_07'] = d0_H_07\n",
    "\n",
    "d0_H_08 = dict()\n",
    "d0_H_08 = make_dispersion_vector_dict(d0_H_08, '0_H_08', verbose=False)\n",
    "H_No_Mismatch_Dict['0_H_08'] = d0_H_08\n",
    "\n",
    "d0_H_09 = dict()\n",
    "d0_H_09 = make_dispersion_vector_dict(d0_H_09, '0_H_09', verbose=False)\n",
    "H_No_Mismatch_Dict['0_H_09'] = d0_H_09\n",
    "\n",
    "d0_H_10 = dict()\n",
    "d0_H_10 = make_dispersion_vector_dict(d0_H_10, '0_H_10', verbose=False)\n",
    "H_No_Mismatch_Dict['0_H_10'] = d0_H_10\n",
    "\n",
    "d0_H_11 = dict()\n",
    "d0_H_11 = make_dispersion_vector_dict(d0_H_11, '0_H_11', verbose=False)\n",
    "H_No_Mismatch_Dict['0_H_11'] = d0_H_11\n",
    "\n",
    "d0_H_12 = dict()\n",
    "d0_H_12 = make_dispersion_vector_dict(d0_H_12, '0_H_12', verbose=False)\n",
    "H_No_Mismatch_Dict['0_H_12'] = d0_H_12\n",
    "\n",
    "d0_H_13 = dict()\n",
    "d0_H_13 = make_dispersion_vector_dict(d0_H_13, '0_H_13', verbose=False)\n",
    "H_No_Mismatch_Dict['0_H_13'] = d0_H_13\n",
    "\n",
    "d0_H_14 = dict()\n",
    "d0_H_14 = make_dispersion_vector_dict(d0_H_14, '0_H_14', verbose=False)\n",
    "H_No_Mismatch_Dict['0_H_14'] = d0_H_14\n",
    "\n",
    "d0_H_15 = dict()\n",
    "d0_H_15 = make_dispersion_vector_dict(d0_H_15, '0_H_15', verbose=False)\n",
    "H_No_Mismatch_Dict['0_H_15'] = d0_H_15\n",
    "\n",
    "d0_H_16 = dict()\n",
    "d0_H_16 = make_dispersion_vector_dict(d0_H_16, '0_H_16', verbose=False)\n",
    "H_No_Mismatch_Dict['0_H_16'] = d0_H_16\n",
    "\n",
    "d0_H_17 = dict()\n",
    "d0_H_17 = make_dispersion_vector_dict(d0_H_17, '0_H_17', verbose=False)\n",
    "H_No_Mismatch_Dict['0_H_17'] = d0_H_17\n",
    "\n",
    "d0_H_18 = dict()\n",
    "d0_H_18 = make_dispersion_vector_dict(d0_H_18, '0_H_18', verbose=False)\n",
    "H_No_Mismatch_Dict['0_H_18'] = d0_H_18\n",
    "\n",
    "d0_H_19 = dict()\n",
    "d0_H_19 = make_dispersion_vector_dict(d0_H_19, '0_H_19', verbose=False)\n",
    "H_No_Mismatch_Dict['0_H_19'] = d0_H_19\n",
    "\n",
    "d0_H_20 = dict()\n",
    "d0_H_20 = make_dispersion_vector_dict(d0_H_20, '0_H_20', verbose=False)\n",
    "H_No_Mismatch_Dict['0_H_20'] = d0_H_20\n",
    "\n",
    "d0_H_21 = dict()\n",
    "d0_H_21 = make_dispersion_vector_dict(d0_H_21, '0_H_21', verbose=False)\n",
    "H_No_Mismatch_Dict['0_H_21'] = d0_H_21\n",
    "\n",
    "H_No_Mismatch = [d0_H_07, d0_H_08, d0_H_09, d0_H_10, d0_H_11, d0_H_12, d0_H_13, d0_H_14, d0_H_15, d0_H_16, d0_H_17, d0_H_18, d0_H_19, d0_H_20, d0_H_21]"
   ]
  },
  {
   "cell_type": "code",
   "execution_count": 18,
   "metadata": {},
   "outputs": [],
   "source": [
    "H_Mismatch_Dict = dict()\n",
    "\n",
    "d1_H_07 = dict()\n",
    "d1_H_07 = make_dispersion_vector_dict(d1_H_07, '1_H_07', verbose=False)\n",
    "H_Mismatch_Dict['1_H_07'] = d1_H_07\n",
    "\n",
    "d1_H_08 = dict()\n",
    "d1_H_08 = make_dispersion_vector_dict(d1_H_08, '1_H_08', verbose=False)\n",
    "H_Mismatch_Dict['1_H_08'] = d1_H_08\n",
    "\n",
    "d1_H_09 = dict()\n",
    "d1_H_09 = make_dispersion_vector_dict(d1_H_09, '1_H_09', verbose=False)\n",
    "H_Mismatch_Dict['1_H_09'] = d1_H_09\n",
    "\n",
    "d1_H_10 = dict()\n",
    "d1_H_10 = make_dispersion_vector_dict(d1_H_10, '1_H_10', verbose=False)\n",
    "H_Mismatch_Dict['1_H_10'] = d1_H_10\n",
    "\n",
    "d1_H_11 = dict()\n",
    "d1_H_11 = make_dispersion_vector_dict(d1_H_11, '1_H_11', verbose=False)\n",
    "H_Mismatch_Dict['1_H_11'] = d1_H_11\n",
    "\n",
    "d1_H_12 = dict()\n",
    "d1_H_12 = make_dispersion_vector_dict(d1_H_12, '1_H_12', verbose=False)\n",
    "H_Mismatch_Dict['1_H_12'] = d1_H_12\n",
    "\n",
    "d1_H_13 = dict()\n",
    "d1_H_13 = make_dispersion_vector_dict(d1_H_13, '1_H_13', verbose=False)\n",
    "H_Mismatch_Dict['1_H_13'] = d1_H_13\n",
    "\n",
    "d1_H_14 = dict()\n",
    "d1_H_14 = make_dispersion_vector_dict(d1_H_14, '1_H_14', verbose=False)\n",
    "H_Mismatch_Dict['1_H_14'] = d1_H_14\n",
    "\n",
    "d1_H_15 = dict()\n",
    "d1_H_15 = make_dispersion_vector_dict(d1_H_15, '1_H_15', verbose=False)\n",
    "H_Mismatch_Dict['1_H_15'] = d1_H_15\n",
    "\n",
    "d1_H_16 = dict()\n",
    "d1_H_16 = make_dispersion_vector_dict(d1_H_16, '1_H_16', verbose=False)\n",
    "H_Mismatch_Dict['1_H_16'] = d1_H_16\n",
    "\n",
    "d1_H_17 = dict()\n",
    "d1_H_17 = make_dispersion_vector_dict(d1_H_17, '1_H_17', verbose=False)\n",
    "H_Mismatch_Dict['1_H_17'] = d1_H_17\n",
    "\n",
    "d1_H_18 = dict()\n",
    "d1_H_18 = make_dispersion_vector_dict(d1_H_18, '1_H_18', verbose=False)\n",
    "H_Mismatch_Dict['1_H_18'] = d1_H_18\n",
    "\n",
    "d1_H_19 = dict()\n",
    "d1_H_19 = make_dispersion_vector_dict(d1_H_19, '1_H_19', verbose=False)\n",
    "H_Mismatch_Dict['1_H_19'] = d1_H_19\n",
    "\n",
    "d1_H_20 = dict()\n",
    "d1_H_20 = make_dispersion_vector_dict(d1_H_20, '1_H_20', verbose=False)\n",
    "H_Mismatch_Dict['1_H_20'] = d1_H_20\n",
    "\n",
    "d1_H_21 = dict()\n",
    "d1_H_21 = make_dispersion_vector_dict(d1_H_21, '1_H_21', verbose=False)\n",
    "H_Mismatch_Dict['1_H_21'] = d1_H_21\n",
    "\n",
    "H_Mismatch = [d1_H_07, d1_H_08, d1_H_09, d1_H_10, d1_H_11, d1_H_12, d1_H_13, d1_H_14, d1_H_15, d1_H_16, d1_H_17, d1_H_18, d1_H_19, d1_H_20, d1_H_21]"
   ]
  },
  {
   "cell_type": "code",
   "execution_count": 19,
   "metadata": {},
   "outputs": [],
   "source": [
    "V_No_Mismatch_Dict = dict()\n",
    "\n",
    "d0_V_10 = dict()\n",
    "d0_V_10 = make_dispersion_vector_dict(d0_V_10, '0_V_10', verbose=False)\n",
    "V_No_Mismatch_Dict['0_V_10'] = d0_V_10\n",
    "\n",
    "d0_V_11 = dict()\n",
    "d0_V_11 = make_dispersion_vector_dict(d0_V_11, '0_V_11', verbose=False)\n",
    "V_No_Mismatch_Dict['0_V_11'] = d0_V_11\n",
    "\n",
    "d0_V_12 = dict()\n",
    "d0_V_12 = make_dispersion_vector_dict(d0_V_12, '0_V_12', verbose=False)\n",
    "V_No_Mismatch_Dict['0_V_12'] = d0_V_12\n",
    "\n",
    "d0_V_13 = dict()\n",
    "d0_V_13 = make_dispersion_vector_dict(d0_V_13, '0_V_13', verbose=False)\n",
    "V_No_Mismatch_Dict['0_V_13'] = d0_V_13\n",
    "\n",
    "d0_V_14 = dict()\n",
    "d0_V_14 = make_dispersion_vector_dict(d0_V_14, '0_V_14', verbose=False)\n",
    "V_No_Mismatch_Dict['0_V_14'] = d0_V_14\n",
    "\n",
    "d0_V_15 = dict()\n",
    "d0_V_15 = make_dispersion_vector_dict(d0_V_15, '0_V_15', verbose=False)\n",
    "V_No_Mismatch_Dict['0_V_15'] = d0_V_15\n",
    "\n",
    "d0_V_16 = dict()\n",
    "d0_V_16 = make_dispersion_vector_dict(d0_V_16, '0_V_16', verbose=False)\n",
    "V_No_Mismatch_Dict['0_V_16'] = d0_V_16\n",
    "\n",
    "d0_V_17 = dict()\n",
    "d0_V_17 = make_dispersion_vector_dict(d0_V_17, '0_V_17', verbose=False)\n",
    "V_No_Mismatch_Dict['0_V_17'] = d0_V_17\n",
    "\n",
    "d0_V_18 = dict()\n",
    "d0_V_18 = make_dispersion_vector_dict(d0_V_18, '0_V_18', verbose=False)\n",
    "V_No_Mismatch_Dict['0_V_18'] = d0_V_18\n",
    "\n",
    "d0_V_19 = dict()\n",
    "d0_V_19 = make_dispersion_vector_dict(d0_V_19, '0_V_19', verbose=False)\n",
    "V_No_Mismatch_Dict['0_V_19'] = d0_V_19\n",
    "\n",
    "d0_V_20 = dict()\n",
    "d0_V_20 = make_dispersion_vector_dict(d0_V_20, '0_V_20', verbose=False)\n",
    "V_No_Mismatch_Dict['0_V_20'] = d0_V_20\n",
    "\n",
    "d0_V_21 = dict()\n",
    "d0_V_21 = make_dispersion_vector_dict(d0_V_21, '0_V_21', verbose=False)\n",
    "V_No_Mismatch_Dict['0_V_21'] = d0_V_21\n",
    "\n",
    "d0_V_22 = dict()\n",
    "d0_V_22 = make_dispersion_vector_dict(d0_V_22, '0_V_22', verbose=False)\n",
    "V_No_Mismatch_Dict['0_V_22'] = d0_V_22\n",
    "\n",
    "d0_V_23 = dict()\n",
    "d0_V_23 = make_dispersion_vector_dict(d0_V_23, '0_V_23', verbose=False)\n",
    "V_No_Mismatch_Dict['0_V_23'] = d0_V_23\n",
    "\n",
    "d0_V_24 = dict()\n",
    "d0_V_24 = make_dispersion_vector_dict(d0_V_24, '0_V_24', verbose=False)\n",
    "V_No_Mismatch_Dict['0_V_24'] = d0_V_24\n",
    "\n",
    "V_No_Mismatch = [d0_V_10, d0_V_11, d0_V_12, d0_V_13, d0_V_14, d0_V_15, d0_V_16, d0_V_17, d0_V_18, d0_V_19, d0_V_20, d0_V_21, d0_V_22, d0_V_23, d0_V_24 ]"
   ]
  },
  {
   "cell_type": "code",
   "execution_count": 20,
   "metadata": {},
   "outputs": [],
   "source": [
    "V_Mismatch_Dict = dict()\n",
    "\n",
    "d1_V_10 = dict()\n",
    "d1_V_10 = make_dispersion_vector_dict(d1_V_10, '1_V_10', verbose=False)\n",
    "V_Mismatch_Dict['1_V_10'] = d1_V_10\n",
    "\n",
    "d1_V_11 = dict()\n",
    "d1_V_11 = make_dispersion_vector_dict(d1_V_11, '1_V_11', verbose=False)\n",
    "V_Mismatch_Dict['1_V_11'] = d1_V_11\n",
    "\n",
    "d1_V_12 = dict()\n",
    "d1_V_12 = make_dispersion_vector_dict(d1_V_12, '1_V_12', verbose=False)\n",
    "V_Mismatch_Dict['1_V_12'] = d1_V_12\n",
    "\n",
    "d1_V_13 = dict()\n",
    "d1_V_13 = make_dispersion_vector_dict(d1_V_13, '1_V_13', verbose=False)\n",
    "V_Mismatch_Dict['1_V_13'] = d1_V_13\n",
    "\n",
    "d1_V_14 = dict()\n",
    "d1_V_14 = make_dispersion_vector_dict(d1_V_14, '1_V_14', verbose=False)\n",
    "V_Mismatch_Dict['1_V_14'] = d1_V_14\n",
    "\n",
    "d1_V_15 = dict()\n",
    "d1_V_15 = make_dispersion_vector_dict(d1_V_15, '1_V_15', verbose=False)\n",
    "V_Mismatch_Dict['1_V_15'] = d1_V_15\n",
    "\n",
    "d1_V_16 = dict()\n",
    "d1_V_16 = make_dispersion_vector_dict(d1_V_16, '1_V_16', verbose=False)\n",
    "V_Mismatch_Dict['1_V_16'] = d1_V_16\n",
    "\n",
    "d1_V_17 = dict()\n",
    "d1_V_17 = make_dispersion_vector_dict(d1_V_17, '1_V_17', verbose=False)\n",
    "V_Mismatch_Dict['1_V_17'] = d1_V_17\n",
    "\n",
    "d1_V_18 = dict()\n",
    "d1_V_18 = make_dispersion_vector_dict(d1_V_18, '1_V_18', verbose=False)\n",
    "V_Mismatch_Dict['1_V_18'] = d1_V_18\n",
    "\n",
    "d1_V_19 = dict()\n",
    "d1_V_19 = make_dispersion_vector_dict(d1_V_19, '1_V_19', verbose=False)\n",
    "V_Mismatch_Dict['1_V_19'] = d1_V_19\n",
    "\n",
    "d1_V_20 = dict()\n",
    "d1_V_20 = make_dispersion_vector_dict(d1_V_20, '1_V_20', verbose=False)\n",
    "V_Mismatch_Dict['1_V_20'] = d1_V_20\n",
    "\n",
    "d1_V_21 = dict()\n",
    "d1_V_21 = make_dispersion_vector_dict(d1_V_21, '1_V_21', verbose=False)\n",
    "V_Mismatch_Dict['1_V_21'] = d1_V_21\n",
    "\n",
    "d1_V_22 = dict()\n",
    "d1_V_22 = make_dispersion_vector_dict(d1_V_22, '1_V_22', verbose=False)\n",
    "V_Mismatch_Dict['1_V_22'] = d1_V_22\n",
    "\n",
    "d1_V_23 = dict()\n",
    "d1_V_23 = make_dispersion_vector_dict(d1_V_23, '1_V_23', verbose=False)\n",
    "V_Mismatch_Dict['1_V_23'] = d1_V_23\n",
    "\n",
    "d1_V_24 = dict()\n",
    "d1_V_24 = make_dispersion_vector_dict(d1_V_24, '1_V_24', verbose=False)\n",
    "V_Mismatch_Dict['1_V_24'] = d1_V_24\n",
    "\n",
    "V_Mismatch = [d1_V_10, d1_V_11, d1_V_12, d1_V_13, d1_V_14, d1_V_15, d1_V_16, d1_V_17, d1_V_18, d1_V_19, d1_V_20, d1_V_21, d1_V_22, d1_V_23, d1_V_24 ]"
   ]
  },
  {
   "cell_type": "markdown",
   "metadata": {},
   "source": [
    "## Load PTC Twiss"
   ]
  },
  {
   "cell_type": "code",
   "execution_count": 21,
   "metadata": {},
   "outputs": [
    {
     "name": "stdout",
     "output_type": "stream",
     "text": [
      "\n",
      "Read_PTC_Twiss_Return_Dict found Keywords: \n",
      "* NAME                                S               BETX               BETY               ALFX               ALFY              DISP1              DISP2              DISP3              DISP4                MU1                MU2                  X                 PX                  Y                 PY \n",
      "\n",
      "\n",
      "Read_PTC_Twiss_Return_Dict Dict Keys: \n",
      "['NAME', 'S', 'BETX', 'BETY', 'ALFX', 'ALFY', 'DISP1', 'DISP2', 'DISP3', 'DISP4', 'MU1', 'MU2', 'X', 'PX', 'Y', 'PY']\n",
      "\n",
      "Read_PTC_Twiss_Return_Dict header only dictionary \n",
      "\n",
      "HEADER_ETA_C [-0.1329643408]\n",
      "HEADER_TCOMIN [0.0]\n",
      "HEADER_BETA11MIN [10.01946085]\n",
      "HEADER_DELTAP [0.0]\n",
      "HEADER_BETA33MIN [0.0]\n",
      "HEADER_TCOMAX [0.0]\n",
      "HEADER_PC [2.14]\n",
      "HEADER_BETA22MAX [24.15254239]\n",
      "HEADER_BETA12MIN [0.0]\n",
      "HEADER_ALPHA_C [0.02827408041]\n",
      "HEADER_BETA_X_MAX [29.23376144]\n",
      "HEADER_BETA_X_MIN [10.01946085]\n",
      "HEADER_ALPHA_C_P2 [-1000000.0]\n",
      "HEADER_ALPHA_C_P3 [-1000000.0]\n",
      "HEADER_BETA13MIN [0.0]\n",
      "HEADER_TITLE ['Flat file generation for PTC-PyORBIT']\n",
      "HEADER_BETA21MAX [0.0]\n",
      "HEADER_BETA13MAX [0.0]\n",
      "HEADER_BETA11MAX [29.23376144]\n",
      "HEADER_ALPHA_C_P [-0.611173517]\n",
      "HEADER_PXCOMIN [0.0]\n",
      "HEADER_PYCORMS [0.0]\n",
      "X []\n",
      "HEADER_PARTICLE ['PROTON']\n",
      "HEADER_KBUNCH [1.0]\n",
      "HEADER_PTCORMS [0.0]\n",
      "HEADER_GAMMA_TR [5.947107045]\n",
      "HEADER_ORBIT_PT [0.0]\n",
      "HEADER_BETA33MAX [0.0]\n",
      "HEADER_BETA12MAX [0.0]\n",
      "HEADER_ORBIT_PX [0.0]\n",
      "HEADER_ORBIT_PY [0.0]\n",
      "HEADER_PTCOMAX [0.0]\n",
      "HEADER_BETA32MIN [0.0]\n",
      "HEADER_BETA31MAX [0.0]\n",
      "HEADER_TCORMS [0.0]\n",
      "HEADER_BETA32MAX [0.0]\n",
      "HEADER_DISP2MAX [0.6010011229]\n",
      "HEADER_XCORMS [0.0]\n",
      "HEADER_DATE ['17/08/20']\n",
      "HEADER_DISP2MIN [-0.5998350983]\n",
      "HEADER_BCURRENT [0.0]\n",
      "HEADER_Q1 [0.06951226383]\n",
      "HEADER_Q2 [0.2401517901]\n",
      "HEADER_BETA22MIN [11.25124994]\n",
      "PX []\n",
      "PY []\n",
      "HEADER_PTCOMIN [0.0]\n",
      "HEADER_GAMMA [2.49038064]\n",
      "HEADER_DISP3MAX [0.0]\n",
      "HEADER_QS [0.0]\n",
      "S []\n",
      "HEADER_BETA21MIN [0.0]\n",
      "HEADER_BETA_Y_MAX [24.15254239]\n",
      "HEADER_ENERGY [2.336654539]\n",
      "HEADER_BETA31MIN [0.0]\n",
      "HEADER_SEQUENCE ['PS']\n",
      "HEADER_PXCORMS [0.0]\n",
      "HEADER_BETA_Y_MIN [11.25124994]\n",
      "HEADER_MASS [0.938272046]\n",
      "HEADER_DISP1MIN [0.0]\n",
      "HEADER_DISP1MAX [5.177914958]\n",
      "HEADER_YCORMS [0.0]\n",
      "HEADER_BETA23MIN [0.0]\n",
      "HEADER_ORBIT_Y [0.0]\n",
      "HEADER_ORBIT_X [0.0]\n",
      "HEADER_EX [1.0]\n",
      "HEADER_EY [1.0]\n",
      "HEADER_ET [1.0]\n",
      "BETY []\n",
      "BETX []\n",
      "HEADER_XCOMIN [0.0]\n",
      "HEADER_YCOMIN [0.0]\n",
      "ALFY []\n",
      "ALFX []\n",
      "HEADER_BETA23MAX [0.0]\n",
      "MU1 []\n",
      "NAME []\n",
      "MU2 []\n",
      "HEADER_TYPE ['TWISS']\n",
      "HEADER_FILENAME ['../PTC_Twiss/H_07.tfs']\n",
      "HEADER_YCOMAX [0.0]\n",
      "HEADER_XCOMAX [0.0]\n",
      "HEADER_TIME ['09.41.12']\n",
      "HEADER_SIGT [0.0]\n",
      "HEADER_DISP3MIN [0.0]\n",
      "HEADER_ORBIT_-CT [0.0]\n",
      "HEADER_DQ2 [-7.759086692]\n",
      "HEADER_DQ1 [-5.650070857]\n",
      "HEADER_PYCOMIN [0.0]\n",
      "HEADER_SIGE [0.0]\n",
      "HEADER_NPART [0.0]\n",
      "HEADER_LENGTH [628.3185]\n",
      "HEADER_NAME ['PTC_TWISS']\n",
      "HEADER_PYCOMAX [0.0]\n",
      "DISP1 []\n",
      "DISP3 []\n",
      "DISP2 []\n",
      "DISP4 []\n",
      "HEADER_ORIGIN ['MAD-X 5.02.00 Linux 64']\n",
      "Y []\n",
      "HEADER_PXCOMAX [0.0]\n",
      "HEADER_CHARGE [1.0]\n",
      "HEADER_DISP4MAX [0.0]\n",
      "HEADER_DISP4MIN [0.0]\n",
      "\n",
      "Read_PTC_Twiss_Return_Dict found Keywords: \n",
      "* NAME                                S               BETX               BETY               ALFX               ALFY              DISP1              DISP2              DISP3              DISP4                MU1                MU2                  X                 PX                  Y                 PY \n",
      "\n",
      "\n",
      "Read_PTC_Twiss_Return_Dict Dict Keys: \n",
      "['NAME', 'S', 'BETX', 'BETY', 'ALFX', 'ALFY', 'DISP1', 'DISP2', 'DISP3', 'DISP4', 'MU1', 'MU2', 'X', 'PX', 'Y', 'PY']\n",
      "\n",
      "Read_PTC_Twiss_Return_Dict header only dictionary \n",
      "\n",
      "HEADER_ETA_C [-0.1330640313]\n",
      "HEADER_TCOMIN [0.0]\n",
      "HEADER_BETA11MIN [10.29282617]\n",
      "HEADER_DELTAP [0.0]\n",
      "HEADER_BETA33MIN [0.0]\n",
      "HEADER_TCOMAX [0.0]\n",
      "HEADER_PC [2.14]\n",
      "HEADER_BETA22MAX [24.07939788]\n",
      "HEADER_BETA12MIN [0.0]\n",
      "HEADER_ALPHA_C [0.02817438987]\n",
      "HEADER_BETA_X_MAX [28.32723174]\n",
      "HEADER_BETA_X_MIN [10.29282617]\n",
      "HEADER_ALPHA_C_P2 [-1000000.0]\n",
      "HEADER_ALPHA_C_P3 [-1000000.0]\n",
      "HEADER_BETA13MIN [0.0]\n",
      "HEADER_TITLE ['Flat file generation for PTC-PyORBIT']\n",
      "HEADER_BETA21MAX [0.0]\n",
      "HEADER_BETA13MAX [0.0]\n",
      "HEADER_BETA11MAX [28.32723174]\n",
      "HEADER_ALPHA_C_P [-0.6056481333]\n",
      "HEADER_PXCOMIN [0.0]\n",
      "HEADER_PYCORMS [0.0]\n",
      "X []\n",
      "HEADER_PARTICLE ['PROTON']\n",
      "HEADER_KBUNCH [1.0]\n",
      "HEADER_PTCORMS [0.0]\n",
      "HEADER_GAMMA_TR [5.957619194]\n",
      "HEADER_ORBIT_PT [0.0]\n",
      "HEADER_BETA33MAX [0.0]\n",
      "HEADER_BETA12MAX [0.0]\n",
      "HEADER_ORBIT_PX [0.0]\n",
      "HEADER_ORBIT_PY [0.0]\n",
      "HEADER_PTCOMAX [0.0]\n",
      "HEADER_BETA32MIN [0.0]\n",
      "HEADER_BETA31MAX [0.0]\n",
      "HEADER_TCORMS [0.0]\n",
      "HEADER_BETA32MAX [0.0]\n",
      "HEADER_DISP2MAX [0.5630896307]\n",
      "HEADER_XCORMS [0.0]\n",
      "HEADER_DATE ['17/08/20']\n",
      "HEADER_DISP2MIN [-0.5608705012]\n",
      "HEADER_BCURRENT [0.0]\n",
      "HEADER_Q1 [0.0795162446]\n",
      "HEADER_Q2 [0.240147062]\n",
      "HEADER_BETA22MIN [11.27713188]\n",
      "PX []\n",
      "PY []\n",
      "HEADER_PTCOMIN [0.0]\n",
      "HEADER_GAMMA [2.49038064]\n",
      "HEADER_DISP3MAX [0.0]\n",
      "HEADER_QS [0.0]\n",
      "S []\n",
      "HEADER_BETA21MIN [0.0]\n",
      "HEADER_BETA_Y_MAX [24.07939788]\n",
      "HEADER_ENERGY [2.336654539]\n",
      "HEADER_BETA31MIN [0.0]\n",
      "HEADER_SEQUENCE ['PS']\n",
      "HEADER_PXCORMS [0.0]\n",
      "HEADER_BETA_Y_MIN [11.27713188]\n",
      "HEADER_MASS [0.938272046]\n",
      "HEADER_DISP1MIN [0.0]\n",
      "HEADER_DISP1MAX [4.885985924]\n",
      "HEADER_YCORMS [0.0]\n",
      "HEADER_BETA23MIN [0.0]\n",
      "HEADER_ORBIT_Y [0.0]\n",
      "HEADER_ORBIT_X [0.0]\n",
      "HEADER_EX [1.0]\n",
      "HEADER_EY [1.0]\n",
      "HEADER_ET [1.0]\n",
      "BETY []\n",
      "BETX []\n",
      "HEADER_XCOMIN [0.0]\n",
      "HEADER_YCOMIN [0.0]\n",
      "ALFY []\n",
      "ALFX []\n",
      "HEADER_BETA23MAX [0.0]\n",
      "MU1 []\n",
      "NAME []\n",
      "MU2 []\n",
      "HEADER_TYPE ['TWISS']\n",
      "HEADER_FILENAME ['../PTC_Twiss/H_08.tfs']\n",
      "HEADER_YCOMAX [0.0]\n",
      "HEADER_XCOMAX [0.0]\n",
      "HEADER_TIME ['09.41.12']\n",
      "HEADER_SIGT [0.0]\n",
      "HEADER_DISP3MIN [0.0]\n",
      "HEADER_ORBIT_-CT [0.0]\n",
      "HEADER_DQ2 [-7.760904096]\n",
      "HEADER_DQ1 [-5.642145462]\n",
      "HEADER_PYCOMIN [0.0]\n",
      "HEADER_SIGE [0.0]\n",
      "HEADER_NPART [0.0]\n",
      "HEADER_LENGTH [628.3185]\n",
      "HEADER_NAME ['PTC_TWISS']\n",
      "HEADER_PYCOMAX [0.0]\n",
      "DISP1 []\n",
      "DISP3 []\n",
      "DISP2 []\n",
      "DISP4 []\n",
      "HEADER_ORIGIN ['MAD-X 5.02.00 Linux 64']\n",
      "Y []\n",
      "HEADER_PXCOMAX [0.0]\n",
      "HEADER_CHARGE [1.0]\n",
      "HEADER_DISP4MAX [0.0]\n",
      "HEADER_DISP4MIN [0.0]\n",
      "\n",
      "Read_PTC_Twiss_Return_Dict found Keywords: \n",
      "* NAME                                S               BETX               BETY               ALFX               ALFY              DISP1              DISP2              DISP3              DISP4                MU1                MU2                  X                 PX                  Y                 PY \n",
      "\n",
      "\n",
      "Read_PTC_Twiss_Return_Dict Dict Keys: \n",
      "['NAME', 'S', 'BETX', 'BETY', 'ALFX', 'ALFY', 'DISP1', 'DISP2', 'DISP3', 'DISP4', 'MU1', 'MU2', 'X', 'PX', 'Y', 'PY']\n",
      "\n",
      "Read_PTC_Twiss_Return_Dict header only dictionary \n",
      "\n",
      "HEADER_ETA_C [-0.1331602429]\n",
      "HEADER_TCOMIN [0.0]\n",
      "HEADER_BETA11MIN [10.51012238]\n",
      "HEADER_DELTAP [0.0]\n",
      "HEADER_BETA33MIN [0.0]\n",
      "HEADER_TCOMAX [0.0]\n",
      "HEADER_PC [2.14]\n",
      "HEADER_BETA22MAX [24.00698872]\n",
      "HEADER_BETA12MIN [0.0]\n",
      "HEADER_ALPHA_C [0.02807817831]\n",
      "HEADER_BETA_X_MAX [27.60347926]\n",
      "HEADER_BETA_X_MIN [10.51012238]\n",
      "HEADER_ALPHA_C_P2 [-1000000.0]\n",
      "HEADER_ALPHA_C_P3 [-1000000.0]\n",
      "HEADER_BETA13MIN [0.0]\n",
      "HEADER_TITLE ['Flat file generation for PTC-PyORBIT']\n",
      "HEADER_BETA21MAX [0.0]\n",
      "HEADER_BETA13MAX [0.0]\n",
      "HEADER_BETA11MAX [27.60347926]\n",
      "HEADER_ALPHA_C_P [-0.6021475317]\n",
      "HEADER_PXCOMIN [0.0]\n",
      "HEADER_PYCORMS [0.0]\n",
      "X []\n",
      "HEADER_PARTICLE ['PROTON']\n",
      "HEADER_KBUNCH [1.0]\n",
      "HEADER_PTCORMS [0.0]\n",
      "HEADER_GAMMA_TR [5.967817534]\n",
      "HEADER_ORBIT_PT [0.0]\n",
      "HEADER_BETA33MAX [0.0]\n",
      "HEADER_BETA12MAX [0.0]\n",
      "HEADER_ORBIT_PX [0.0]\n",
      "HEADER_ORBIT_PY [0.0]\n",
      "HEADER_PTCOMAX [0.0]\n",
      "HEADER_BETA32MIN [0.0]\n",
      "HEADER_BETA31MAX [0.0]\n",
      "HEADER_TCORMS [0.0]\n",
      "HEADER_BETA32MAX [0.0]\n",
      "HEADER_DISP2MAX [0.5338629279]\n",
      "HEADER_XCORMS [0.0]\n",
      "HEADER_DATE ['17/08/20']\n",
      "HEADER_DISP2MIN [-0.5310732857]\n",
      "HEADER_BCURRENT [0.0]\n",
      "HEADER_Q1 [0.0895173128]\n",
      "HEADER_Q2 [0.2401428016]\n",
      "HEADER_BETA22MIN [11.30313327]\n",
      "PX []\n",
      "PY []\n",
      "HEADER_PTCOMIN [0.0]\n",
      "HEADER_GAMMA [2.49038064]\n",
      "HEADER_DISP3MAX [0.0]\n",
      "HEADER_QS [0.0]\n",
      "S []\n",
      "HEADER_BETA21MIN [0.0]\n",
      "HEADER_BETA_Y_MAX [24.00698872]\n",
      "HEADER_ENERGY [2.336654539]\n",
      "HEADER_BETA31MIN [0.0]\n",
      "HEADER_SEQUENCE ['PS']\n",
      "HEADER_PXCORMS [0.0]\n",
      "HEADER_BETA_Y_MIN [11.30313327]\n",
      "HEADER_MASS [0.938272046]\n",
      "HEADER_DISP1MIN [0.0]\n",
      "HEADER_DISP1MAX [4.659415302]\n",
      "HEADER_YCORMS [0.0]\n",
      "HEADER_BETA23MIN [0.0]\n",
      "HEADER_ORBIT_Y [0.0]\n",
      "HEADER_ORBIT_X [0.0]\n",
      "HEADER_EX [1.0]\n",
      "HEADER_EY [1.0]\n",
      "HEADER_ET [1.0]\n",
      "BETY []\n",
      "BETX []\n",
      "HEADER_XCOMIN [0.0]\n",
      "HEADER_YCOMIN [0.0]\n",
      "ALFY []\n",
      "ALFX []\n",
      "HEADER_BETA23MAX [0.0]\n",
      "MU1 []\n",
      "NAME []\n",
      "MU2 []\n",
      "HEADER_TYPE ['TWISS']\n",
      "HEADER_FILENAME ['../PTC_Twiss/H_09.tfs']\n",
      "HEADER_YCOMAX [0.0]\n",
      "HEADER_XCOMAX [0.0]\n",
      "HEADER_TIME ['09.41.20']\n",
      "HEADER_SIGT [0.0]\n",
      "HEADER_DISP3MIN [0.0]\n",
      "HEADER_ORBIT_-CT [0.0]\n",
      "HEADER_DQ2 [-7.76288377]\n",
      "HEADER_DQ1 [-5.641377242]\n",
      "HEADER_PYCOMIN [0.0]\n",
      "HEADER_SIGE [0.0]\n",
      "HEADER_NPART [0.0]\n",
      "HEADER_LENGTH [628.3185]\n",
      "HEADER_NAME ['PTC_TWISS']\n",
      "HEADER_PYCOMAX [0.0]\n",
      "DISP1 []\n",
      "DISP3 []\n",
      "DISP2 []\n",
      "DISP4 []\n",
      "HEADER_ORIGIN ['MAD-X 5.02.00 Linux 64']\n",
      "Y []\n",
      "HEADER_PXCOMAX [0.0]\n",
      "HEADER_CHARGE [1.0]\n",
      "HEADER_DISP4MAX [0.0]\n",
      "HEADER_DISP4MIN [0.0]\n",
      "\n",
      "Read_PTC_Twiss_Return_Dict found Keywords: \n",
      "* NAME                                S               BETX               BETY               ALFX               ALFY              DISP1              DISP2              DISP3              DISP4                MU1                MU2                  X                 PX                  Y                 PY \n",
      "\n",
      "\n",
      "Read_PTC_Twiss_Return_Dict Dict Keys: \n",
      "['NAME', 'S', 'BETX', 'BETY', 'ALFX', 'ALFY', 'DISP1', 'DISP2', 'DISP3', 'DISP4', 'MU1', 'MU2', 'X', 'PX', 'Y', 'PY']\n",
      "\n",
      "Read_PTC_Twiss_Return_Dict header only dictionary \n",
      "\n",
      "HEADER_ETA_C [-0.1332540417]\n",
      "HEADER_TCOMIN [0.0]\n",
      "HEADER_BETA11MIN [10.68654208]\n",
      "HEADER_DELTAP [0.0]\n",
      "HEADER_BETA33MIN [0.0]\n",
      "HEADER_TCOMAX [0.0]\n",
      "HEADER_PC [2.14]\n",
      "HEADER_BETA22MAX [23.93539271]\n",
      "HEADER_BETA12MIN [0.0]\n",
      "HEADER_ALPHA_C [0.02798437945]\n",
      "HEADER_BETA_X_MAX [27.00450782]\n",
      "HEADER_BETA_X_MIN [10.68654208]\n",
      "HEADER_ALPHA_C_P2 [-1000000.0]\n",
      "HEADER_ALPHA_C_P3 [-1000000.0]\n",
      "HEADER_BETA13MIN [0.0]\n",
      "HEADER_TITLE ['Flat file generation for PTC-PyORBIT']\n",
      "HEADER_BETA21MAX [0.0]\n",
      "HEADER_BETA13MAX [0.0]\n",
      "HEADER_BETA11MAX [27.00450782]\n",
      "HEADER_ALPHA_C_P [-0.5997861638]\n",
      "HEADER_PXCOMIN [0.0]\n",
      "HEADER_PYCORMS [0.0]\n",
      "X []\n",
      "HEADER_PARTICLE ['PROTON']\n",
      "HEADER_KBUNCH [1.0]\n",
      "HEADER_PTCORMS [0.0]\n",
      "HEADER_GAMMA_TR [5.97781072]\n",
      "HEADER_ORBIT_PT [0.0]\n",
      "HEADER_BETA33MAX [0.0]\n",
      "HEADER_BETA12MAX [0.0]\n",
      "HEADER_ORBIT_PX [0.0]\n",
      "HEADER_ORBIT_PY [0.0]\n",
      "HEADER_PTCOMAX [0.0]\n",
      "HEADER_BETA32MIN [0.0]\n",
      "HEADER_BETA31MAX [0.0]\n",
      "HEADER_TCORMS [0.0]\n",
      "HEADER_BETA32MAX [0.0]\n",
      "HEADER_DISP2MAX [0.5104669016]\n",
      "HEADER_XCORMS [0.0]\n",
      "HEADER_DATE ['17/08/20']\n",
      "HEADER_DISP2MIN [-0.5073808183]\n",
      "HEADER_BCURRENT [0.0]\n",
      "HEADER_Q1 [0.09951696603]\n",
      "HEADER_Q2 [0.2401390304]\n",
      "HEADER_BETA22MIN [11.32922135]\n",
      "PX []\n",
      "PY []\n",
      "HEADER_PTCOMIN [0.0]\n",
      "HEADER_GAMMA [2.49038064]\n",
      "HEADER_DISP3MAX [0.0]\n",
      "HEADER_QS [0.0]\n",
      "S []\n",
      "HEADER_BETA21MIN [0.0]\n",
      "HEADER_BETA_Y_MAX [23.93539271]\n",
      "HEADER_ENERGY [2.336654539]\n",
      "HEADER_BETA31MIN [0.0]\n",
      "HEADER_SEQUENCE ['PS']\n",
      "HEADER_PXCORMS [0.0]\n",
      "HEADER_BETA_Y_MIN [11.32922135]\n",
      "HEADER_MASS [0.938272046]\n",
      "HEADER_DISP1MIN [0.0]\n",
      "HEADER_DISP1MAX [4.477037908]\n",
      "HEADER_YCORMS [0.0]\n",
      "HEADER_BETA23MIN [0.0]\n",
      "HEADER_ORBIT_Y [0.0]\n",
      "HEADER_ORBIT_X [0.0]\n",
      "HEADER_EX [1.0]\n",
      "HEADER_EY [1.0]\n",
      "HEADER_ET [1.0]\n",
      "BETY []\n",
      "BETX []\n",
      "HEADER_XCOMIN [0.0]\n",
      "HEADER_YCOMIN [0.0]\n",
      "ALFY []\n",
      "ALFX []\n",
      "HEADER_BETA23MAX [0.0]\n",
      "MU1 []\n",
      "NAME []\n",
      "MU2 []\n",
      "HEADER_TYPE ['TWISS']\n",
      "HEADER_FILENAME ['../PTC_Twiss/H_10.tfs']\n",
      "HEADER_YCOMAX [0.0]\n",
      "HEADER_XCOMAX [0.0]\n",
      "HEADER_TIME ['09.41.21']\n",
      "HEADER_SIGT [0.0]\n",
      "HEADER_DISP3MIN [0.0]\n",
      "HEADER_ORBIT_-CT [0.0]\n",
      "HEADER_DQ2 [-7.764990771]\n",
      "HEADER_DQ1 [-5.644943642]\n",
      "HEADER_PYCOMIN [0.0]\n",
      "HEADER_SIGE [0.0]\n",
      "HEADER_NPART [0.0]\n",
      "HEADER_LENGTH [628.3185]\n",
      "HEADER_NAME ['PTC_TWISS']\n",
      "HEADER_PYCOMAX [0.0]\n",
      "DISP1 []\n",
      "DISP3 []\n",
      "DISP2 []\n",
      "DISP4 []\n",
      "HEADER_ORIGIN ['MAD-X 5.02.00 Linux 64']\n",
      "Y []\n",
      "HEADER_PXCOMAX [0.0]\n",
      "HEADER_CHARGE [1.0]\n",
      "HEADER_DISP4MAX [0.0]\n",
      "HEADER_DISP4MIN [0.0]\n",
      "\n",
      "Read_PTC_Twiss_Return_Dict found Keywords: \n",
      "* NAME                                S               BETX               BETY               ALFX               ALFY              DISP1              DISP2              DISP3              DISP4                MU1                MU2                  X                 PX                  Y                 PY \n",
      "\n",
      "\n",
      "Read_PTC_Twiss_Return_Dict Dict Keys: \n",
      "['NAME', 'S', 'BETX', 'BETY', 'ALFX', 'ALFY', 'DISP1', 'DISP2', 'DISP3', 'DISP4', 'MU1', 'MU2', 'X', 'PX', 'Y', 'PY']\n",
      "\n",
      "Read_PTC_Twiss_Return_Dict header only dictionary \n",
      "\n",
      "HEADER_ETA_C [-0.1333460681]\n",
      "HEADER_TCOMIN [0.0]\n",
      "HEADER_BETA11MIN [10.83225763]\n",
      "HEADER_DELTAP [0.0]\n",
      "HEADER_BETA33MIN [0.0]\n",
      "HEADER_TCOMAX [0.0]\n",
      "HEADER_PC [2.14]\n",
      "HEADER_BETA22MAX [23.86465468]\n",
      "HEADER_BETA12MIN [0.0]\n",
      "HEADER_ALPHA_C [0.02789235309]\n",
      "HEADER_BETA_X_MAX [26.49463619]\n",
      "HEADER_BETA_X_MIN [10.83225763]\n",
      "HEADER_ALPHA_C_P2 [-1000000.0]\n",
      "HEADER_ALPHA_C_P3 [-1000000.0]\n",
      "HEADER_BETA13MIN [0.0]\n",
      "HEADER_TITLE ['Flat file generation for PTC-PyORBIT']\n",
      "HEADER_BETA21MAX [0.0]\n",
      "HEADER_BETA13MAX [0.0]\n",
      "HEADER_BETA11MAX [26.49463619]\n",
      "HEADER_ALPHA_C_P [-0.5981087905]\n",
      "HEADER_PXCOMIN [0.0]\n",
      "HEADER_PYCORMS [0.0]\n",
      "X []\n",
      "HEADER_PARTICLE ['PROTON']\n",
      "HEADER_KBUNCH [1.0]\n",
      "HEADER_PTCORMS [0.0]\n",
      "HEADER_GAMMA_TR [5.987664015]\n",
      "HEADER_ORBIT_PT [0.0]\n",
      "HEADER_BETA33MAX [0.0]\n",
      "HEADER_BETA12MAX [0.0]\n",
      "HEADER_ORBIT_PX [0.0]\n",
      "HEADER_ORBIT_PY [0.0]\n",
      "HEADER_PTCOMAX [0.0]\n",
      "HEADER_BETA32MIN [0.0]\n",
      "HEADER_BETA31MAX [0.0]\n",
      "HEADER_TCORMS [0.0]\n",
      "HEADER_BETA32MAX [0.0]\n",
      "HEADER_DISP2MAX [0.4911769887]\n",
      "HEADER_XCORMS [0.0]\n",
      "HEADER_DATE ['17/08/20']\n",
      "HEADER_DISP2MIN [-0.4879568975]\n",
      "HEADER_BCURRENT [0.0]\n",
      "HEADER_Q1 [0.1095159901]\n",
      "HEADER_Q2 [0.2401357394]\n",
      "HEADER_BETA22MIN [11.35537408]\n",
      "PX []\n",
      "PY []\n",
      "HEADER_PTCOMIN [0.0]\n",
      "HEADER_GAMMA [2.49038064]\n",
      "HEADER_DISP3MAX [0.0]\n",
      "HEADER_QS [0.0]\n",
      "S []\n",
      "HEADER_BETA21MIN [0.0]\n",
      "HEADER_BETA_Y_MAX [23.86465468]\n",
      "HEADER_ENERGY [2.336654539]\n",
      "HEADER_BETA31MIN [0.0]\n",
      "HEADER_SEQUENCE ['PS']\n",
      "HEADER_PXCORMS [0.0]\n",
      "HEADER_BETA_Y_MIN [11.35537408]\n",
      "HEADER_MASS [0.938272046]\n",
      "HEADER_DISP1MIN [0.0]\n",
      "HEADER_DISP1MAX [4.325974697]\n",
      "HEADER_YCORMS [0.0]\n",
      "HEADER_BETA23MIN [0.0]\n",
      "HEADER_ORBIT_Y [0.0]\n",
      "HEADER_ORBIT_X [0.0]\n",
      "HEADER_EX [1.0]\n",
      "HEADER_EY [1.0]\n",
      "HEADER_ET [1.0]\n",
      "BETY []\n",
      "BETX []\n",
      "HEADER_XCOMIN [0.0]\n",
      "HEADER_YCOMIN [0.0]\n",
      "ALFY []\n",
      "ALFX []\n",
      "HEADER_BETA23MAX [0.0]\n",
      "MU1 []\n",
      "NAME []\n",
      "MU2 []\n",
      "HEADER_TYPE ['TWISS']\n",
      "HEADER_FILENAME ['../PTC_Twiss/H_11.tfs']\n",
      "HEADER_YCOMAX [0.0]\n",
      "HEADER_XCOMAX [0.0]\n",
      "HEADER_TIME ['09.41.21']\n",
      "HEADER_SIGT [0.0]\n",
      "HEADER_DISP3MIN [0.0]\n",
      "HEADER_ORBIT_-CT [0.0]\n",
      "HEADER_DQ2 [-7.767203591]\n",
      "HEADER_DQ1 [-5.651277701]\n",
      "HEADER_PYCOMIN [0.0]\n",
      "HEADER_SIGE [0.0]\n",
      "HEADER_NPART [0.0]\n",
      "HEADER_LENGTH [628.3185]\n",
      "HEADER_NAME ['PTC_TWISS']\n",
      "HEADER_PYCOMAX [0.0]\n",
      "DISP1 []\n",
      "DISP3 []\n",
      "DISP2 []\n",
      "DISP4 []\n",
      "HEADER_ORIGIN ['MAD-X 5.02.00 Linux 64']\n",
      "Y []\n",
      "HEADER_PXCOMAX [0.0]\n",
      "HEADER_CHARGE [1.0]\n",
      "HEADER_DISP4MAX [0.0]\n",
      "HEADER_DISP4MIN [0.0]\n",
      "\n",
      "Read_PTC_Twiss_Return_Dict found Keywords: \n",
      "* NAME                                S               BETX               BETY               ALFX               ALFY              DISP1              DISP2              DISP3              DISP4                MU1                MU2                  X                 PX                  Y                 PY \n",
      "\n",
      "\n",
      "Read_PTC_Twiss_Return_Dict Dict Keys: \n",
      "['NAME', 'S', 'BETX', 'BETY', 'ALFX', 'ALFY', 'DISP1', 'DISP2', 'DISP3', 'DISP4', 'MU1', 'MU2', 'X', 'PX', 'Y', 'PY']\n",
      "\n",
      "Read_PTC_Twiss_Return_Dict header only dictionary \n",
      "\n",
      "HEADER_ETA_C [-0.1334367291]\n",
      "HEADER_TCOMIN [0.0]\n",
      "HEADER_BETA11MIN [10.95433077]\n",
      "HEADER_DELTAP [0.0]\n",
      "HEADER_BETA33MIN [0.0]\n",
      "HEADER_TCOMAX [0.0]\n",
      "HEADER_PC [2.14]\n",
      "HEADER_BETA22MAX [23.79479958]\n",
      "HEADER_BETA12MIN [0.0]\n",
      "HEADER_ALPHA_C [0.02780169203]\n",
      "HEADER_BETA_X_MAX [26.05072236]\n",
      "HEADER_BETA_X_MIN [10.95433077]\n",
      "HEADER_ALPHA_C_P2 [-1000000.0]\n",
      "HEADER_ALPHA_C_P3 [-1000000.0]\n",
      "HEADER_BETA13MIN [0.0]\n",
      "HEADER_TITLE ['Flat file generation for PTC-PyORBIT']\n",
      "HEADER_BETA21MAX [0.0]\n",
      "HEADER_BETA13MAX [0.0]\n",
      "HEADER_BETA11MAX [26.05072236]\n",
      "HEADER_ALPHA_C_P [-0.5968634279]\n",
      "HEADER_PXCOMIN [0.0]\n",
      "HEADER_PYCORMS [0.0]\n",
      "X []\n",
      "HEADER_PARTICLE ['PROTON']\n",
      "HEADER_KBUNCH [1.0]\n",
      "HEADER_PTCORMS [0.0]\n",
      "HEADER_GAMMA_TR [5.997418927]\n",
      "HEADER_ORBIT_PT [0.0]\n",
      "HEADER_BETA33MAX [0.0]\n",
      "HEADER_BETA12MAX [0.0]\n",
      "HEADER_ORBIT_PX [0.0]\n",
      "HEADER_ORBIT_PY [0.0]\n",
      "HEADER_PTCOMAX [0.0]\n",
      "HEADER_BETA32MIN [0.0]\n",
      "HEADER_BETA31MAX [0.0]\n",
      "HEADER_TCORMS [0.0]\n",
      "HEADER_BETA32MAX [0.0]\n",
      "HEADER_DISP2MAX [0.4748894965]\n",
      "HEADER_XCORMS [0.0]\n",
      "HEADER_DATE ['17/08/20']\n",
      "HEADER_DISP2MIN [-0.4716346628]\n",
      "HEADER_BCURRENT [0.0]\n",
      "HEADER_Q1 [0.1195148076]\n",
      "HEADER_Q2 [0.2401329027]\n",
      "HEADER_BETA22MIN [11.381576]\n",
      "PX []\n",
      "PY []\n",
      "HEADER_PTCOMIN [0.0]\n",
      "HEADER_GAMMA [2.49038064]\n",
      "HEADER_DISP3MAX [0.0]\n",
      "HEADER_QS [0.0]\n",
      "S []\n",
      "HEADER_BETA21MIN [0.0]\n",
      "HEADER_BETA_Y_MAX [23.79479958]\n",
      "HEADER_ENERGY [2.336654539]\n",
      "HEADER_BETA31MIN [0.0]\n",
      "HEADER_SEQUENCE ['PS']\n",
      "HEADER_PXCORMS [0.0]\n",
      "HEADER_BETA_Y_MIN [11.381576]\n",
      "HEADER_MASS [0.938272046]\n",
      "HEADER_DISP1MIN [0.0]\n",
      "HEADER_DISP1MAX [4.197931252]\n",
      "HEADER_YCORMS [0.0]\n",
      "HEADER_BETA23MIN [0.0]\n",
      "HEADER_ORBIT_Y [0.0]\n",
      "HEADER_ORBIT_X [0.0]\n",
      "HEADER_EX [1.0]\n",
      "HEADER_EY [1.0]\n",
      "HEADER_ET [1.0]\n",
      "BETY []\n",
      "BETX []\n",
      "HEADER_XCOMIN [0.0]\n",
      "HEADER_YCOMIN [0.0]\n",
      "ALFY []\n",
      "ALFX []\n",
      "HEADER_BETA23MAX [0.0]\n",
      "MU1 []\n",
      "NAME []\n",
      "MU2 []\n",
      "HEADER_TYPE ['TWISS']\n",
      "HEADER_FILENAME ['../PTC_Twiss/H_12.tfs']\n",
      "HEADER_YCOMAX [0.0]\n",
      "HEADER_XCOMAX [0.0]\n",
      "HEADER_TIME ['09.41.19']\n",
      "HEADER_SIGT [0.0]\n",
      "HEADER_DISP3MIN [0.0]\n",
      "HEADER_ORBIT_-CT [0.0]\n",
      "HEADER_DQ2 [-7.769508086]\n",
      "HEADER_DQ1 [-5.659458997]\n",
      "HEADER_PYCOMIN [0.0]\n",
      "HEADER_SIGE [0.0]\n",
      "HEADER_NPART [0.0]\n",
      "HEADER_LENGTH [628.3185]\n",
      "HEADER_NAME ['PTC_TWISS']\n",
      "HEADER_PYCOMAX [0.0]\n",
      "DISP1 []\n",
      "DISP3 []\n",
      "DISP2 []\n",
      "DISP4 []\n",
      "HEADER_ORIGIN ['MAD-X 5.02.00 Linux 64']\n",
      "Y []\n",
      "HEADER_PXCOMAX [0.0]\n",
      "HEADER_CHARGE [1.0]\n",
      "HEADER_DISP4MAX [0.0]\n",
      "HEADER_DISP4MIN [0.0]\n",
      "\n",
      "Read_PTC_Twiss_Return_Dict found Keywords: \n",
      "* NAME                                S               BETX               BETY               ALFX               ALFY              DISP1              DISP2              DISP3              DISP4                MU1                MU2                  X                 PX                  Y                 PY \n",
      "\n",
      "\n",
      "Read_PTC_Twiss_Return_Dict Dict Keys: \n",
      "['NAME', 'S', 'BETX', 'BETY', 'ALFX', 'ALFY', 'DISP1', 'DISP2', 'DISP3', 'DISP4', 'MU1', 'MU2', 'X', 'PX', 'Y', 'PY']\n",
      "\n",
      "Read_PTC_Twiss_Return_Dict header only dictionary \n",
      "\n",
      "HEADER_ETA_C [-0.1335262959]\n",
      "HEADER_TCOMIN [0.0]\n",
      "HEADER_BETA11MIN [11.05560235]\n",
      "HEADER_DELTAP [0.0]\n",
      "HEADER_BETA33MIN [0.0]\n",
      "HEADER_TCOMAX [0.0]\n",
      "HEADER_PC [2.14]\n",
      "HEADER_BETA22MAX [23.72583991]\n",
      "HEADER_BETA12MIN [0.0]\n",
      "HEADER_ALPHA_C [0.02771212522]\n",
      "HEADER_BETA_X_MAX [25.6571049]\n",
      "HEADER_BETA_X_MIN [11.05560235]\n",
      "HEADER_ALPHA_C_P2 [-1000000.0]\n",
      "HEADER_ALPHA_C_P3 [-1000000.0]\n",
      "HEADER_BETA13MIN [0.0]\n",
      "HEADER_TITLE ['Flat file generation for PTC-PyORBIT']\n",
      "HEADER_BETA21MAX [0.0]\n",
      "HEADER_BETA13MAX [0.0]\n",
      "HEADER_BETA11MAX [25.6571049]\n",
      "HEADER_ALPHA_C_P [-0.5959022527]\n",
      "HEADER_PXCOMIN [0.0]\n",
      "HEADER_PYCORMS [0.0]\n",
      "X []\n",
      "HEADER_PARTICLE ['PROTON']\n",
      "HEADER_KBUNCH [1.0]\n",
      "HEADER_PTCORMS [0.0]\n",
      "HEADER_GAMMA_TR [6.007103069]\n",
      "HEADER_ORBIT_PT [0.0]\n",
      "HEADER_BETA33MAX [0.0]\n",
      "HEADER_BETA12MAX [0.0]\n",
      "HEADER_ORBIT_PX [0.0]\n",
      "HEADER_ORBIT_PY [0.0]\n",
      "HEADER_PTCOMAX [0.0]\n",
      "HEADER_BETA32MIN [0.0]\n",
      "HEADER_BETA31MAX [0.0]\n",
      "HEADER_TCORMS [0.0]\n",
      "HEADER_BETA32MAX [0.0]\n",
      "HEADER_DISP2MAX [0.4608651176]\n",
      "HEADER_XCORMS [0.0]\n",
      "HEADER_DATE ['17/08/20']\n",
      "HEADER_DISP2MIN [-0.4576374795]\n",
      "HEADER_BCURRENT [0.0]\n",
      "HEADER_Q1 [0.1295136461]\n",
      "HEADER_Q2 [0.2401304857]\n",
      "HEADER_BETA22MIN [11.40781581]\n",
      "PX []\n",
      "PY []\n",
      "HEADER_PTCOMIN [0.0]\n",
      "HEADER_GAMMA [2.49038064]\n",
      "HEADER_DISP3MAX [0.0]\n",
      "HEADER_QS [0.0]\n",
      "S []\n",
      "HEADER_BETA21MIN [0.0]\n",
      "HEADER_BETA_Y_MAX [23.72583991]\n",
      "HEADER_ENERGY [2.336654539]\n",
      "HEADER_BETA31MIN [0.0]\n",
      "HEADER_SEQUENCE ['PS']\n",
      "HEADER_PXCORMS [0.0]\n",
      "HEADER_BETA_Y_MIN [11.40781581]\n",
      "HEADER_MASS [0.938272046]\n",
      "HEADER_DISP1MIN [0.0]\n",
      "HEADER_DISP1MAX [4.087320234]\n",
      "HEADER_YCORMS [0.0]\n",
      "HEADER_BETA23MIN [0.0]\n",
      "HEADER_ORBIT_Y [0.0]\n",
      "HEADER_ORBIT_X [0.0]\n",
      "HEADER_EX [1.0]\n",
      "HEADER_EY [1.0]\n",
      "HEADER_ET [1.0]\n",
      "BETY []\n",
      "BETX []\n",
      "HEADER_XCOMIN [0.0]\n",
      "HEADER_YCOMIN [0.0]\n",
      "ALFY []\n",
      "ALFX []\n",
      "HEADER_BETA23MAX [0.0]\n",
      "MU1 []\n",
      "NAME []\n",
      "MU2 []\n",
      "HEADER_TYPE ['TWISS']\n",
      "HEADER_FILENAME ['../PTC_Twiss/H_13.tfs']\n",
      "HEADER_YCOMAX [0.0]\n",
      "HEADER_XCOMAX [0.0]\n",
      "HEADER_TIME ['09.41.18']\n",
      "HEADER_SIGT [0.0]\n",
      "HEADER_DISP3MIN [0.0]\n",
      "HEADER_ORBIT_-CT [0.0]\n",
      "HEADER_DQ2 [-7.771894432]\n",
      "HEADER_DQ1 [-5.668921489]\n",
      "HEADER_PYCOMIN [0.0]\n",
      "HEADER_SIGE [0.0]\n",
      "HEADER_NPART [0.0]\n",
      "HEADER_LENGTH [628.3185]\n",
      "HEADER_NAME ['PTC_TWISS']\n",
      "HEADER_PYCOMAX [0.0]\n",
      "DISP1 []\n",
      "DISP3 []\n",
      "DISP2 []\n",
      "DISP4 []\n",
      "HEADER_ORIGIN ['MAD-X 5.02.00 Linux 64']\n",
      "Y []\n",
      "HEADER_PXCOMAX [0.0]\n",
      "HEADER_CHARGE [1.0]\n",
      "HEADER_DISP4MAX [0.0]\n",
      "HEADER_DISP4MIN [0.0]\n",
      "\n",
      "Read_PTC_Twiss_Return_Dict found Keywords: \n",
      "* NAME                                S               BETX               BETY               ALFX               ALFY              DISP1              DISP2              DISP3              DISP4                MU1                MU2                  X                 PX                  Y                 PY \n",
      "\n",
      "\n",
      "Read_PTC_Twiss_Return_Dict Dict Keys: \n",
      "['NAME', 'S', 'BETX', 'BETY', 'ALFX', 'ALFY', 'DISP1', 'DISP2', 'DISP3', 'DISP4', 'MU1', 'MU2', 'X', 'PX', 'Y', 'PY']\n",
      "\n",
      "Read_PTC_Twiss_Return_Dict header only dictionary \n",
      "\n",
      "HEADER_ETA_C [-0.1336149557]\n",
      "HEADER_TCOMIN [0.0]\n",
      "HEADER_BETA11MIN [11.14172139]\n",
      "HEADER_DELTAP [0.0]\n",
      "HEADER_BETA33MIN [0.0]\n",
      "HEADER_TCOMAX [0.0]\n",
      "HEADER_PC [2.14]\n",
      "HEADER_BETA22MAX [23.65778001]\n",
      "HEADER_BETA12MIN [0.0]\n",
      "HEADER_ALPHA_C [0.02762346547]\n",
      "HEADER_BETA_X_MAX [25.30280686]\n",
      "HEADER_BETA_X_MIN [11.14172139]\n",
      "HEADER_ALPHA_C_P2 [-1000000.0]\n",
      "HEADER_ALPHA_C_P3 [-1000000.0]\n",
      "HEADER_BETA13MIN [0.0]\n",
      "HEADER_TITLE ['Flat file generation for PTC-PyORBIT']\n",
      "HEADER_BETA21MAX [0.0]\n",
      "HEADER_BETA13MAX [0.0]\n",
      "HEADER_BETA11MAX [25.30280686]\n",
      "HEADER_ALPHA_C_P [-0.5951343888]\n",
      "HEADER_PXCOMIN [0.0]\n",
      "HEADER_PYCORMS [0.0]\n",
      "X []\n",
      "HEADER_PARTICLE ['PROTON']\n",
      "HEADER_KBUNCH [1.0]\n",
      "HEADER_PTCORMS [0.0]\n",
      "HEADER_GAMMA_TR [6.016735488]\n",
      "HEADER_ORBIT_PT [0.0]\n",
      "HEADER_BETA33MAX [0.0]\n",
      "HEADER_BETA12MAX [0.0]\n",
      "HEADER_ORBIT_PX [0.0]\n",
      "HEADER_ORBIT_PY [0.0]\n",
      "HEADER_PTCOMAX [0.0]\n",
      "HEADER_BETA32MIN [0.0]\n",
      "HEADER_BETA31MAX [0.0]\n",
      "HEADER_TCORMS [0.0]\n"
     ]
    },
    {
     "name": "stdout",
     "output_type": "stream",
     "text": [
      "HEADER_BETA32MAX [0.0]\n",
      "HEADER_DISP2MAX [0.4485899168]\n",
      "HEADER_XCORMS [0.0]\n",
      "HEADER_DATE ['17/08/20']\n",
      "HEADER_DISP2MIN [-0.4454285814]\n",
      "HEADER_BCURRENT [0.0]\n",
      "HEADER_Q1 [0.1395126241]\n",
      "HEADER_Q2 [0.2401284492]\n",
      "HEADER_BETA22MIN [11.43408499]\n",
      "PX []\n",
      "PY []\n",
      "HEADER_PTCOMIN [0.0]\n",
      "HEADER_GAMMA [2.49038064]\n",
      "HEADER_DISP3MAX [0.0]\n",
      "HEADER_QS [0.0]\n",
      "S []\n",
      "HEADER_BETA21MIN [0.0]\n",
      "HEADER_BETA_Y_MAX [23.65778001]\n",
      "HEADER_ENERGY [2.336654539]\n",
      "HEADER_BETA31MIN [0.0]\n",
      "HEADER_SEQUENCE ['PS']\n",
      "HEADER_PXCORMS [0.0]\n",
      "HEADER_BETA_Y_MIN [11.43408499]\n",
      "HEADER_MASS [0.938272046]\n",
      "HEADER_DISP1MIN [0.0]\n",
      "HEADER_DISP1MAX [3.990237966]\n",
      "HEADER_YCORMS [0.0]\n",
      "HEADER_BETA23MIN [0.0]\n",
      "HEADER_ORBIT_Y [0.0]\n",
      "HEADER_ORBIT_X [0.0]\n",
      "HEADER_EX [1.0]\n",
      "HEADER_EY [1.0]\n",
      "HEADER_ET [1.0]\n",
      "BETY []\n",
      "BETX []\n",
      "HEADER_XCOMIN [0.0]\n",
      "HEADER_YCOMIN [0.0]\n",
      "ALFY []\n",
      "ALFX []\n",
      "HEADER_BETA23MAX [0.0]\n",
      "MU1 []\n",
      "NAME []\n",
      "MU2 []\n",
      "HEADER_TYPE ['TWISS']\n",
      "HEADER_FILENAME ['../PTC_Twiss/H_14.tfs']\n",
      "HEADER_YCOMAX [0.0]\n",
      "HEADER_XCOMAX [0.0]\n",
      "HEADER_TIME ['09.41.20']\n",
      "HEADER_SIGT [0.0]\n",
      "HEADER_DISP3MIN [0.0]\n",
      "HEADER_ORBIT_-CT [0.0]\n",
      "HEADER_DQ2 [-7.774355475]\n",
      "HEADER_DQ1 [-5.679303556]\n",
      "HEADER_PYCOMIN [0.0]\n",
      "HEADER_SIGE [0.0]\n",
      "HEADER_NPART [0.0]\n",
      "HEADER_LENGTH [628.3185]\n",
      "HEADER_NAME ['PTC_TWISS']\n",
      "HEADER_PYCOMAX [0.0]\n",
      "DISP1 []\n",
      "DISP3 []\n",
      "DISP2 []\n",
      "DISP4 []\n",
      "HEADER_ORIGIN ['MAD-X 5.02.00 Linux 64']\n",
      "Y []\n",
      "HEADER_PXCOMAX [0.0]\n",
      "HEADER_CHARGE [1.0]\n",
      "HEADER_DISP4MAX [0.0]\n",
      "HEADER_DISP4MIN [0.0]\n",
      "\n",
      "Read_PTC_Twiss_Return_Dict found Keywords: \n",
      "* NAME                                S               BETX               BETY               ALFX               ALFY              DISP1              DISP2              DISP3              DISP4                MU1                MU2                  X                 PX                  Y                 PY \n",
      "\n",
      "\n",
      "Read_PTC_Twiss_Return_Dict Dict Keys: \n",
      "['NAME', 'S', 'BETX', 'BETY', 'ALFX', 'ALFY', 'DISP1', 'DISP2', 'DISP3', 'DISP4', 'MU1', 'MU2', 'X', 'PX', 'Y', 'PY']\n",
      "\n",
      "Read_PTC_Twiss_Return_Dict header only dictionary \n",
      "\n",
      "HEADER_ETA_C [-0.1337028416]\n",
      "HEADER_TCOMIN [0.0]\n",
      "HEADER_BETA11MIN [11.21747796]\n",
      "HEADER_DELTAP [0.0]\n",
      "HEADER_BETA33MIN [0.0]\n",
      "HEADER_TCOMAX [0.0]\n",
      "HEADER_PC [2.14]\n",
      "HEADER_BETA22MAX [23.59061885]\n",
      "HEADER_BETA12MIN [0.0]\n",
      "HEADER_ALPHA_C [0.02753557954]\n",
      "HEADER_BETA_X_MAX [24.97990489]\n",
      "HEADER_BETA_X_MIN [11.21747796]\n",
      "HEADER_ALPHA_C_P2 [-1000000.0]\n",
      "HEADER_ALPHA_C_P3 [-1000000.0]\n",
      "HEADER_BETA13MIN [0.0]\n",
      "HEADER_TITLE ['Flat file generation for PTC-PyORBIT']\n",
      "HEADER_BETA21MAX [0.0]\n",
      "HEADER_BETA13MAX [0.0]\n",
      "HEADER_BETA11MAX [24.97990489]\n",
      "HEADER_ALPHA_C_P [-0.5945017778]\n",
      "HEADER_PXCOMIN [0.0]\n",
      "HEADER_PYCORMS [0.0]\n",
      "X []\n",
      "HEADER_PARTICLE ['PROTON']\n",
      "HEADER_KBUNCH [1.0]\n",
      "HEADER_PTCORMS [0.0]\n",
      "HEADER_GAMMA_TR [6.026329715]\n",
      "HEADER_ORBIT_PT [0.0]\n",
      "HEADER_BETA33MAX [0.0]\n",
      "HEADER_BETA12MAX [0.0]\n",
      "HEADER_ORBIT_PX [0.0]\n",
      "HEADER_ORBIT_PY [0.0]\n",
      "HEADER_PTCOMAX [0.0]\n",
      "HEADER_BETA32MIN [0.0]\n",
      "HEADER_BETA31MAX [0.0]\n",
      "HEADER_TCORMS [0.0]\n",
      "HEADER_BETA32MAX [0.0]\n",
      "HEADER_DISP2MAX [0.4376954672]\n",
      "HEADER_XCORMS [0.0]\n",
      "HEADER_DATE ['17/08/20']\n",
      "HEADER_DISP2MIN [-0.4346251888]\n",
      "HEADER_BCURRENT [0.0]\n",
      "HEADER_Q1 [0.1495117973]\n",
      "HEADER_Q2 [0.2401267524]\n",
      "HEADER_BETA22MIN [11.46037692]\n",
      "PX []\n",
      "PY []\n",
      "HEADER_PTCOMIN [0.0]\n",
      "HEADER_GAMMA [2.49038064]\n",
      "HEADER_DISP3MAX [0.0]\n",
      "HEADER_QS [0.0]\n",
      "S []\n",
      "HEADER_BETA21MIN [0.0]\n",
      "HEADER_BETA_Y_MAX [23.59061885]\n",
      "HEADER_ENERGY [2.336654539]\n",
      "HEADER_BETA31MIN [0.0]\n",
      "HEADER_SEQUENCE ['PS']\n",
      "HEADER_PXCORMS [0.0]\n",
      "HEADER_BETA_Y_MIN [11.46037692]\n",
      "HEADER_MASS [0.938272046]\n",
      "HEADER_DISP1MIN [0.0]\n",
      "HEADER_DISP1MAX [3.903873345]\n",
      "HEADER_YCORMS [0.0]\n",
      "HEADER_BETA23MIN [0.0]\n",
      "HEADER_ORBIT_Y [0.0]\n",
      "HEADER_ORBIT_X [0.0]\n",
      "HEADER_EX [1.0]\n",
      "HEADER_EY [1.0]\n",
      "HEADER_ET [1.0]\n",
      "BETY []\n",
      "BETX []\n",
      "HEADER_XCOMIN [0.0]\n",
      "HEADER_YCOMIN [0.0]\n",
      "ALFY []\n",
      "ALFX []\n",
      "HEADER_BETA23MAX [0.0]\n",
      "MU1 []\n",
      "NAME []\n",
      "MU2 []\n",
      "HEADER_TYPE ['TWISS']\n",
      "HEADER_FILENAME ['../PTC_Twiss/H_15.tfs']\n",
      "HEADER_YCOMAX [0.0]\n",
      "HEADER_XCOMAX [0.0]\n",
      "HEADER_TIME ['09.41.21']\n",
      "HEADER_SIGT [0.0]\n",
      "HEADER_DISP3MIN [0.0]\n",
      "HEADER_ORBIT_-CT [0.0]\n",
      "HEADER_DQ2 [-7.776885786]\n",
      "HEADER_DQ1 [-5.690366622]\n",
      "HEADER_PYCOMIN [0.0]\n",
      "HEADER_SIGE [0.0]\n",
      "HEADER_NPART [0.0]\n",
      "HEADER_LENGTH [628.3185]\n",
      "HEADER_NAME ['PTC_TWISS']\n",
      "HEADER_PYCOMAX [0.0]\n",
      "DISP1 []\n",
      "DISP3 []\n",
      "DISP2 []\n",
      "DISP4 []\n",
      "HEADER_ORIGIN ['MAD-X 5.02.00 Linux 64']\n",
      "Y []\n",
      "HEADER_PXCOMAX [0.0]\n",
      "HEADER_CHARGE [1.0]\n",
      "HEADER_DISP4MAX [0.0]\n",
      "HEADER_DISP4MIN [0.0]\n",
      "\n",
      "Read_PTC_Twiss_Return_Dict found Keywords: \n",
      "* NAME                                S               BETX               BETY               ALFX               ALFY              DISP1              DISP2              DISP3              DISP4                MU1                MU2                  X                 PX                  Y                 PY \n",
      "\n",
      "\n",
      "Read_PTC_Twiss_Return_Dict Dict Keys: \n",
      "['NAME', 'S', 'BETX', 'BETY', 'ALFX', 'ALFY', 'DISP1', 'DISP2', 'DISP3', 'DISP4', 'MU1', 'MU2', 'X', 'PX', 'Y', 'PY']\n",
      "\n",
      "Read_PTC_Twiss_Return_Dict header only dictionary \n",
      "\n",
      "HEADER_ETA_C [-0.133790051]\n",
      "HEADER_TCOMIN [0.0]\n",
      "HEADER_BETA11MIN [11.28472252]\n",
      "HEADER_DELTAP [0.0]\n",
      "HEADER_BETA33MIN [0.0]\n",
      "HEADER_TCOMAX [0.0]\n",
      "HEADER_PC [2.14]\n",
      "HEADER_BETA22MAX [23.52435168]\n",
      "HEADER_BETA12MIN [0.0]\n",
      "HEADER_ALPHA_C [0.02744837014]\n",
      "HEADER_BETA_X_MAX [24.68253462]\n",
      "HEADER_BETA_X_MIN [11.28472252]\n",
      "HEADER_ALPHA_C_P2 [-1000000.0]\n",
      "HEADER_ALPHA_C_P3 [-1000000.0]\n",
      "HEADER_BETA13MIN [0.0]\n",
      "HEADER_TITLE ['Flat file generation for PTC-PyORBIT']\n",
      "HEADER_BETA21MAX [0.0]\n",
      "HEADER_BETA13MAX [0.0]\n",
      "HEADER_BETA11MAX [24.68253462]\n",
      "HEADER_ALPHA_C_P [-0.5939661158]\n",
      "HEADER_PXCOMIN [0.0]\n",
      "HEADER_PYCORMS [0.0]\n",
      "X []\n",
      "HEADER_PARTICLE ['PROTON']\n",
      "HEADER_KBUNCH [1.0]\n",
      "HEADER_PTCORMS [0.0]\n",
      "HEADER_GAMMA_TR [6.035895598]\n",
      "HEADER_ORBIT_PT [0.0]\n",
      "HEADER_BETA33MAX [0.0]\n",
      "HEADER_BETA12MAX [0.0]\n",
      "HEADER_ORBIT_PX [0.0]\n",
      "HEADER_ORBIT_PY [0.0]\n",
      "HEADER_PTCOMAX [0.0]\n",
      "HEADER_BETA32MIN [0.0]\n",
      "HEADER_BETA31MAX [0.0]\n",
      "HEADER_TCORMS [0.0]\n",
      "HEADER_BETA32MAX [0.0]\n",
      "HEADER_DISP2MAX [0.4279107145]\n",
      "HEADER_XCORMS [0.0]\n",
      "HEADER_DATE ['17/08/20']\n",
      "HEADER_DISP2MIN [-0.4250298814]\n",
      "HEADER_BCURRENT [0.0]\n",
      "HEADER_Q1 [0.1595111845]\n",
      "HEADER_Q2 [0.2401253549]\n",
      "HEADER_BETA22MIN [11.47632646]\n",
      "PX []\n",
      "PY []\n",
      "HEADER_PTCOMIN [0.0]\n",
      "HEADER_GAMMA [2.49038064]\n",
      "HEADER_DISP3MAX [0.0]\n",
      "HEADER_QS [0.0]\n",
      "S []\n",
      "HEADER_BETA21MIN [0.0]\n",
      "HEADER_BETA_Y_MAX [23.52435168]\n",
      "HEADER_ENERGY [2.336654539]\n",
      "HEADER_BETA31MIN [0.0]\n",
      "HEADER_SEQUENCE ['PS']\n",
      "HEADER_PXCORMS [0.0]\n",
      "HEADER_BETA_Y_MIN [11.47632646]\n",
      "HEADER_MASS [0.938272046]\n",
      "HEADER_DISP1MIN [0.0]\n",
      "HEADER_DISP1MAX [3.826149799]\n",
      "HEADER_YCORMS [0.0]\n",
      "HEADER_BETA23MIN [0.0]\n",
      "HEADER_ORBIT_Y [0.0]\n",
      "HEADER_ORBIT_X [0.0]\n",
      "HEADER_EX [1.0]\n",
      "HEADER_EY [1.0]\n",
      "HEADER_ET [1.0]\n",
      "BETY []\n",
      "BETX []\n",
      "HEADER_XCOMIN [0.0]\n",
      "HEADER_YCOMIN [0.0]\n",
      "ALFY []\n",
      "ALFX []\n",
      "HEADER_BETA23MAX [0.0]\n",
      "MU1 []\n",
      "NAME []\n",
      "MU2 []\n",
      "HEADER_TYPE ['TWISS']\n",
      "HEADER_FILENAME ['../PTC_Twiss/H_16.tfs']\n",
      "HEADER_YCOMAX [0.0]\n",
      "HEADER_XCOMAX [0.0]\n",
      "HEADER_TIME ['09.41.20']\n",
      "HEADER_SIGT [0.0]\n",
      "HEADER_DISP3MIN [0.0]\n",
      "HEADER_ORBIT_-CT [0.0]\n",
      "HEADER_DQ2 [-7.779481096]\n",
      "HEADER_DQ1 [-5.701948891]\n",
      "HEADER_PYCOMIN [0.0]\n",
      "HEADER_SIGE [0.0]\n",
      "HEADER_NPART [0.0]\n",
      "HEADER_LENGTH [628.3185]\n",
      "HEADER_NAME ['PTC_TWISS']\n",
      "HEADER_PYCOMAX [0.0]\n",
      "DISP1 []\n",
      "DISP3 []\n",
      "DISP2 []\n",
      "DISP4 []\n",
      "HEADER_ORIGIN ['MAD-X 5.02.00 Linux 64']\n",
      "Y []\n",
      "HEADER_PXCOMAX [0.0]\n",
      "HEADER_CHARGE [1.0]\n",
      "HEADER_DISP4MAX [0.0]\n",
      "HEADER_DISP4MIN [0.0]\n",
      "\n",
      "Read_PTC_Twiss_Return_Dict found Keywords: \n",
      "* NAME                                S               BETX               BETY               ALFX               ALFY              DISP1              DISP2              DISP3              DISP4                MU1                MU2                  X                 PX                  Y                 PY \n",
      "\n",
      "\n",
      "Read_PTC_Twiss_Return_Dict Dict Keys: \n",
      "['NAME', 'S', 'BETX', 'BETY', 'ALFX', 'ALFY', 'DISP1', 'DISP2', 'DISP3', 'DISP4', 'MU1', 'MU2', 'X', 'PX', 'Y', 'PY']\n",
      "\n",
      "Read_PTC_Twiss_Return_Dict header only dictionary \n",
      "\n",
      "HEADER_ETA_C [-0.1338766565]\n",
      "HEADER_TCOMIN [0.0]\n",
      "HEADER_BETA11MIN [11.3448983]\n",
      "HEADER_DELTAP [0.0]\n",
      "HEADER_BETA33MIN [0.0]\n",
      "HEADER_TCOMAX [0.0]\n",
      "HEADER_PC [2.14]\n",
      "HEADER_BETA22MAX [23.4589712]\n",
      "HEADER_BETA12MIN [0.0]\n",
      "HEADER_ALPHA_C [0.0273617647]\n",
      "HEADER_BETA_X_MAX [24.40626058]\n",
      "HEADER_BETA_X_MIN [11.3448983]\n",
      "HEADER_ALPHA_C_P2 [-1000000.0]\n",
      "HEADER_ALPHA_C_P3 [-1000000.0]\n",
      "HEADER_BETA13MIN [0.0]\n",
      "HEADER_TITLE ['Flat file generation for PTC-PyORBIT']\n",
      "HEADER_BETA21MAX [0.0]\n",
      "HEADER_BETA13MAX [0.0]\n",
      "HEADER_BETA11MAX [24.40626058]\n",
      "HEADER_ALPHA_C_P [-0.5935014355]\n",
      "HEADER_PXCOMIN [0.0]\n",
      "HEADER_PYCORMS [0.0]\n",
      "X []\n",
      "HEADER_PARTICLE ['PROTON']\n",
      "HEADER_KBUNCH [1.0]\n",
      "HEADER_PTCORMS [0.0]\n",
      "HEADER_GAMMA_TR [6.045440457]\n",
      "HEADER_ORBIT_PT [0.0]\n",
      "HEADER_BETA33MAX [0.0]\n",
      "HEADER_BETA12MAX [0.0]\n",
      "HEADER_ORBIT_PX [0.0]\n",
      "HEADER_ORBIT_PY [0.0]\n",
      "HEADER_PTCOMAX [0.0]\n",
      "HEADER_BETA32MIN [0.0]\n",
      "HEADER_BETA31MAX [0.0]\n",
      "HEADER_TCORMS [0.0]\n",
      "HEADER_BETA32MAX [0.0]\n",
      "HEADER_DISP2MAX [0.4190317718]\n",
      "HEADER_XCORMS [0.0]\n",
      "HEADER_DATE ['17/08/20']\n",
      "HEADER_DISP2MIN [-0.4172192329]\n",
      "HEADER_BCURRENT [0.0]\n",
      "HEADER_Q1 [0.1695107833]\n",
      "HEADER_Q2 [0.2401242173]\n",
      "HEADER_BETA22MIN [11.48411436]\n",
      "PX []\n",
      "PY []\n",
      "HEADER_PTCOMIN [0.0]\n",
      "HEADER_GAMMA [2.49038064]\n",
      "HEADER_DISP3MAX [0.0]\n",
      "HEADER_QS [0.0]\n",
      "S []\n",
      "HEADER_BETA21MIN [0.0]\n",
      "HEADER_BETA_Y_MAX [23.4589712]\n",
      "HEADER_ENERGY [2.336654539]\n",
      "HEADER_BETA31MIN [0.0]\n",
      "HEADER_SEQUENCE ['PS']\n",
      "HEADER_PXCORMS [0.0]\n",
      "HEADER_BETA_Y_MIN [11.48411436]\n",
      "HEADER_MASS [0.938272046]\n",
      "HEADER_DISP1MIN [0.0]\n",
      "HEADER_DISP1MAX [3.755499588]\n",
      "HEADER_YCORMS [0.0]\n",
      "HEADER_BETA23MIN [0.0]\n",
      "HEADER_ORBIT_Y [0.0]\n",
      "HEADER_ORBIT_X [0.0]\n",
      "HEADER_EX [1.0]\n",
      "HEADER_EY [1.0]\n",
      "HEADER_ET [1.0]\n",
      "BETY []\n",
      "BETX []\n",
      "HEADER_XCOMIN [0.0]\n",
      "HEADER_YCOMIN [0.0]\n",
      "ALFY []\n",
      "ALFX []\n",
      "HEADER_BETA23MAX [0.0]\n",
      "MU1 []\n",
      "NAME []\n",
      "MU2 []\n",
      "HEADER_TYPE ['TWISS']\n",
      "HEADER_FILENAME ['../PTC_Twiss/H_17.tfs']\n",
      "HEADER_YCOMAX [0.0]\n",
      "HEADER_XCOMAX [0.0]\n",
      "HEADER_TIME ['09.41.21']\n",
      "HEADER_SIGT [0.0]\n",
      "HEADER_DISP3MIN [0.0]\n",
      "HEADER_ORBIT_-CT [0.0]\n",
      "HEADER_DQ2 [-7.782137941]\n",
      "HEADER_DQ1 [-5.713937989]\n",
      "HEADER_PYCOMIN [0.0]\n",
      "HEADER_SIGE [0.0]\n",
      "HEADER_NPART [0.0]\n",
      "HEADER_LENGTH [628.3185]\n",
      "HEADER_NAME ['PTC_TWISS']\n",
      "HEADER_PYCOMAX [0.0]\n",
      "DISP1 []\n",
      "DISP3 []\n",
      "DISP2 []\n",
      "DISP4 []\n",
      "HEADER_ORIGIN ['MAD-X 5.02.00 Linux 64']\n",
      "Y []\n",
      "HEADER_PXCOMAX [0.0]\n",
      "HEADER_CHARGE [1.0]\n",
      "HEADER_DISP4MAX [0.0]\n",
      "HEADER_DISP4MIN [0.0]\n",
      "\n",
      "Read_PTC_Twiss_Return_Dict found Keywords: \n",
      "* NAME                                S               BETX               BETY               ALFX               ALFY              DISP1              DISP2              DISP3              DISP4                MU1                MU2                  X                 PX                  Y                 PY \n",
      "\n",
      "\n",
      "Read_PTC_Twiss_Return_Dict Dict Keys: \n",
      "['NAME', 'S', 'BETX', 'BETY', 'ALFX', 'ALFY', 'DISP1', 'DISP2', 'DISP3', 'DISP4', 'MU1', 'MU2', 'X', 'PX', 'Y', 'PY']\n",
      "\n",
      "Read_PTC_Twiss_Return_Dict header only dictionary \n",
      "\n",
      "HEADER_ETA_C [-0.1339627131]\n",
      "HEADER_TCOMIN [0.0]\n",
      "HEADER_BETA11MIN [11.39906198]\n",
      "HEADER_DELTAP [0.0]\n",
      "HEADER_BETA33MIN [0.0]\n",
      "HEADER_TCOMAX [0.0]\n",
      "HEADER_PC [2.14]\n",
      "HEADER_BETA22MAX [23.39446835]\n",
      "HEADER_BETA12MIN [0.0]\n",
      "HEADER_ALPHA_C [0.0272757081]\n",
      "HEADER_BETA_X_MAX [24.14766408]\n",
      "HEADER_BETA_X_MIN [11.39906198]\n",
      "HEADER_ALPHA_C_P2 [-1000000.0]\n",
      "HEADER_ALPHA_C_P3 [-1000000.0]\n",
      "HEADER_BETA13MIN [0.0]\n",
      "HEADER_TITLE ['Flat file generation for PTC-PyORBIT']\n",
      "HEADER_BETA21MAX [0.0]\n",
      "HEADER_BETA13MAX [0.0]\n",
      "HEADER_BETA11MAX [24.14766408]\n",
      "HEADER_ALPHA_C_P [-0.5930897184]\n",
      "HEADER_PXCOMIN [0.0]\n",
      "HEADER_PYCORMS [0.0]\n",
      "X []\n",
      "HEADER_PARTICLE ['PROTON']\n",
      "HEADER_KBUNCH [1.0]\n",
      "HEADER_PTCORMS [0.0]\n",
      "HEADER_GAMMA_TR [6.054969823]\n",
      "HEADER_ORBIT_PT [0.0]\n",
      "HEADER_BETA33MAX [0.0]\n",
      "HEADER_BETA12MAX [0.0]\n",
      "HEADER_ORBIT_PX [0.0]\n",
      "HEADER_ORBIT_PY [0.0]\n",
      "HEADER_PTCOMAX [0.0]\n",
      "HEADER_BETA32MIN [0.0]\n",
      "HEADER_BETA31MAX [0.0]\n",
      "HEADER_TCORMS [0.0]\n",
      "HEADER_BETA32MAX [0.0]\n",
      "HEADER_DISP2MAX [0.4109023078]\n",
      "HEADER_XCORMS [0.0]\n",
      "HEADER_DATE ['17/08/20']\n",
      "HEADER_DISP2MIN [-0.4100364667]\n",
      "HEADER_BCURRENT [0.0]\n",
      "HEADER_Q1 [0.1795105786]\n",
      "HEADER_Q2 [0.2401233024]\n",
      "HEADER_BETA22MIN [11.49181204]\n",
      "PX []\n",
      "PY []\n",
      "HEADER_PTCOMIN [0.0]\n",
      "HEADER_GAMMA [2.49038064]\n",
      "HEADER_DISP3MAX [0.0]\n",
      "HEADER_QS [0.0]\n",
      "S []\n",
      "HEADER_BETA21MIN [0.0]\n",
      "HEADER_BETA_Y_MAX [23.39446835]\n",
      "HEADER_ENERGY [2.336654539]\n",
      "HEADER_BETA31MIN [0.0]\n",
      "HEADER_SEQUENCE ['PS']\n",
      "HEADER_PXCORMS [0.0]\n",
      "HEADER_BETA_Y_MIN [11.49181204]\n",
      "HEADER_MASS [0.938272046]\n",
      "HEADER_DISP1MIN [0.0]\n",
      "HEADER_DISP1MAX [3.690716625]\n",
      "HEADER_YCORMS [0.0]\n",
      "HEADER_BETA23MIN [0.0]\n",
      "HEADER_ORBIT_Y [0.0]\n",
      "HEADER_ORBIT_X [0.0]\n",
      "HEADER_EX [1.0]\n",
      "HEADER_EY [1.0]\n",
      "HEADER_ET [1.0]\n",
      "BETY []\n",
      "BETX []\n",
      "HEADER_XCOMIN [0.0]\n",
      "HEADER_YCOMIN [0.0]\n",
      "ALFY []\n",
      "ALFX []\n",
      "HEADER_BETA23MAX [0.0]\n",
      "MU1 []\n",
      "NAME []\n",
      "MU2 []\n",
      "HEADER_TYPE ['TWISS']\n",
      "HEADER_FILENAME ['../PTC_Twiss/H_18.tfs']\n",
      "HEADER_YCOMAX [0.0]\n",
      "HEADER_XCOMAX [0.0]\n",
      "HEADER_TIME ['09.41.20']\n",
      "HEADER_SIGT [0.0]\n",
      "HEADER_DISP3MIN [0.0]\n",
      "HEADER_ORBIT_-CT [0.0]\n",
      "HEADER_DQ2 [-7.784853431]\n",
      "HEADER_DQ1 [-5.726254217]\n",
      "HEADER_PYCOMIN [0.0]\n",
      "HEADER_SIGE [0.0]\n",
      "HEADER_NPART [0.0]\n",
      "HEADER_LENGTH [628.3185]\n",
      "HEADER_NAME ['PTC_TWISS']\n",
      "HEADER_PYCOMAX [0.0]\n",
      "DISP1 []\n",
      "DISP3 []\n",
      "DISP2 []\n",
      "DISP4 []\n",
      "HEADER_ORIGIN ['MAD-X 5.02.00 Linux 64']\n",
      "Y []\n",
      "HEADER_PXCOMAX [0.0]\n",
      "HEADER_CHARGE [1.0]\n",
      "HEADER_DISP4MAX [0.0]\n",
      "HEADER_DISP4MIN [0.0]\n",
      "\n",
      "Read_PTC_Twiss_Return_Dict found Keywords: \n",
      "* NAME                                S               BETX               BETY               ALFX               ALFY              DISP1              DISP2              DISP3              DISP4                MU1                MU2                  X                 PX                  Y                 PY \n",
      "\n",
      "\n",
      "Read_PTC_Twiss_Return_Dict Dict Keys: \n",
      "['NAME', 'S', 'BETX', 'BETY', 'ALFX', 'ALFY', 'DISP1', 'DISP2', 'DISP3', 'DISP4', 'MU1', 'MU2', 'X', 'PX', 'Y', 'PY']\n",
      "\n",
      "Read_PTC_Twiss_Return_Dict header only dictionary \n",
      "\n",
      "HEADER_ETA_C [-0.1340482634]\n",
      "HEADER_TCOMIN [0.0]\n",
      "HEADER_BETA11MIN [11.44443204]\n",
      "HEADER_DELTAP [0.0]\n",
      "HEADER_BETA33MIN [0.0]\n",
      "HEADER_TCOMAX [0.0]\n",
      "HEADER_PC [2.14]\n",
      "HEADER_BETA22MAX [23.33083281]\n",
      "HEADER_BETA12MIN [0.0]\n",
      "HEADER_ALPHA_C [0.02719015775]\n",
      "HEADER_BETA_X_MAX [23.90406576]\n",
      "HEADER_BETA_X_MIN [11.44443204]\n",
      "HEADER_ALPHA_C_P2 [-1000000.0]\n",
      "HEADER_ALPHA_C_P3 [-1000000.0]\n",
      "HEADER_BETA13MIN [0.0]\n",
      "HEADER_TITLE ['Flat file generation for PTC-PyORBIT']\n",
      "HEADER_BETA21MAX [0.0]\n",
      "HEADER_BETA13MAX [0.0]\n",
      "HEADER_BETA11MAX [23.90406576]\n",
      "HEADER_ALPHA_C_P [-0.5927182079]\n",
      "HEADER_PXCOMIN [0.0]\n",
      "HEADER_PYCORMS [0.0]\n",
      "X []\n",
      "HEADER_PARTICLE ['PROTON']\n",
      "HEADER_KBUNCH [1.0]\n",
      "HEADER_PTCORMS [0.0]\n",
      "HEADER_GAMMA_TR [6.064487935]\n",
      "HEADER_ORBIT_PT [0.0]\n",
      "HEADER_BETA33MAX [0.0]\n",
      "HEADER_BETA12MAX [0.0]\n",
      "HEADER_ORBIT_PX [0.0]\n",
      "HEADER_ORBIT_PY [0.0]\n",
      "HEADER_PTCOMAX [0.0]\n",
      "HEADER_BETA32MIN [0.0]\n",
      "HEADER_BETA31MAX [0.0]\n",
      "HEADER_TCORMS [0.0]\n",
      "HEADER_BETA32MAX [0.0]\n",
      "HEADER_DISP2MAX [0.40340043]\n",
      "HEADER_XCORMS [0.0]\n",
      "HEADER_DATE ['17/08/20']\n",
      "HEADER_DISP2MIN [-0.4033830443]\n",
      "HEADER_BCURRENT [0.0]\n",
      "HEADER_Q1 [0.1895105486]\n",
      "HEADER_Q2 [0.2401225753]\n",
      "HEADER_BETA22MIN [11.49941997]\n",
      "PX []\n",
      "PY []\n",
      "HEADER_PTCOMIN [0.0]\n",
      "HEADER_GAMMA [2.49038064]\n",
      "HEADER_DISP3MAX [0.0]\n",
      "HEADER_QS [0.0]\n",
      "S []\n",
      "HEADER_BETA21MIN [0.0]\n",
      "HEADER_BETA_Y_MAX [23.33083281]\n",
      "HEADER_ENERGY [2.336654539]\n",
      "HEADER_BETA31MIN [0.0]\n",
      "HEADER_SEQUENCE ['PS']\n",
      "HEADER_PXCORMS [0.0]\n",
      "HEADER_BETA_Y_MIN [11.49941997]\n",
      "HEADER_MASS [0.938272046]\n",
      "HEADER_DISP1MIN [0.0]\n",
      "HEADER_DISP1MAX [3.630857659]\n",
      "HEADER_YCORMS [0.0]\n",
      "HEADER_BETA23MIN [0.0]\n",
      "HEADER_ORBIT_Y [0.0]\n",
      "HEADER_ORBIT_X [0.0]\n",
      "HEADER_EX [1.0]\n",
      "HEADER_EY [1.0]\n",
      "HEADER_ET [1.0]\n",
      "BETY []\n",
      "BETX []\n",
      "HEADER_XCOMIN [0.0]\n",
      "HEADER_YCOMIN [0.0]\n",
      "ALFY []\n",
      "ALFX []\n",
      "HEADER_BETA23MAX [0.0]\n",
      "MU1 []\n",
      "NAME []\n",
      "MU2 []\n",
      "HEADER_TYPE ['TWISS']\n",
      "HEADER_FILENAME ['../PTC_Twiss/H_19.tfs']\n",
      "HEADER_YCOMAX [0.0]\n",
      "HEADER_XCOMAX [0.0]\n",
      "HEADER_TIME ['09.41.21']\n",
      "HEADER_SIGT [0.0]\n",
      "HEADER_DISP3MIN [0.0]\n",
      "HEADER_ORBIT_-CT [0.0]\n",
      "HEADER_DQ2 [-7.787625101]\n",
      "HEADER_DQ1 [-5.738840006]\n",
      "HEADER_PYCOMIN [0.0]\n",
      "HEADER_SIGE [0.0]\n",
      "HEADER_NPART [0.0]\n",
      "HEADER_LENGTH [628.3185]\n",
      "HEADER_NAME ['PTC_TWISS']\n",
      "HEADER_PYCOMAX [0.0]\n",
      "DISP1 []\n",
      "DISP3 []\n",
      "DISP2 []\n",
      "DISP4 []\n",
      "HEADER_ORIGIN ['MAD-X 5.02.00 Linux 64']\n",
      "Y []\n",
      "HEADER_PXCOMAX [0.0]\n",
      "HEADER_CHARGE [1.0]\n",
      "HEADER_DISP4MAX [0.0]\n",
      "HEADER_DISP4MIN [0.0]\n",
      "\n",
      "Read_PTC_Twiss_Return_Dict found Keywords: \n",
      "* NAME                                S               BETX               BETY               ALFX               ALFY              DISP1              DISP2              DISP3              DISP4                MU1                MU2                  X                 PX                  Y                 PY \n",
      "\n",
      "\n",
      "Read_PTC_Twiss_Return_Dict Dict Keys: \n",
      "['NAME', 'S', 'BETX', 'BETY', 'ALFX', 'ALFY', 'DISP1', 'DISP2', 'DISP3', 'DISP4', 'MU1', 'MU2', 'X', 'PX', 'Y', 'PY']\n",
      "\n",
      "Read_PTC_Twiss_Return_Dict header only dictionary \n",
      "\n",
      "HEADER_ETA_C [-0.1341333408]\n",
      "HEADER_TCOMIN [0.0]\n",
      "HEADER_BETA11MIN [11.48473674]\n",
      "HEADER_DELTAP [0.0]\n",
      "HEADER_BETA33MIN [0.0]\n",
      "HEADER_TCOMAX [0.0]\n",
      "HEADER_PC [2.14]\n",
      "HEADER_BETA22MAX [23.26805337]\n",
      "HEADER_BETA12MIN [0.0]\n",
      "HEADER_ALPHA_C [0.02710508032]\n",
      "HEADER_BETA_X_MAX [23.67333437]\n",
      "HEADER_BETA_X_MIN [11.48473674]\n",
      "HEADER_ALPHA_C_P2 [-1000000.0]\n",
      "HEADER_ALPHA_C_P3 [-1000000.0]\n",
      "HEADER_BETA13MIN [0.0]\n",
      "HEADER_TITLE ['Flat file generation for PTC-PyORBIT']\n",
      "HEADER_BETA21MAX [0.0]\n",
      "HEADER_BETA13MAX [0.0]\n",
      "HEADER_BETA11MAX [23.67333437]\n",
      "HEADER_ALPHA_C_P [-0.5923777131]\n",
      "HEADER_PXCOMIN [0.0]\n",
      "HEADER_PYCORMS [0.0]\n",
      "X []\n",
      "HEADER_PARTICLE ['PROTON']\n",
      "HEADER_KBUNCH [1.0]\n",
      "HEADER_PTCORMS [0.0]\n",
      "HEADER_GAMMA_TR [6.073998086]\n",
      "HEADER_ORBIT_PT [0.0]\n",
      "HEADER_BETA33MAX [0.0]\n",
      "HEADER_BETA12MAX [0.0]\n",
      "HEADER_ORBIT_PX [0.0]\n",
      "HEADER_ORBIT_PY [0.0]\n",
      "HEADER_PTCOMAX [0.0]\n",
      "HEADER_BETA32MIN [0.0]\n",
      "HEADER_BETA31MAX [0.0]\n",
      "HEADER_TCORMS [0.0]\n",
      "HEADER_BETA32MAX [0.0]\n",
      "HEADER_DISP2MAX [0.3964296849]\n",
      "HEADER_XCORMS [0.0]\n",
      "HEADER_DATE ['17/08/20']\n",
      "HEADER_DISP2MIN [-0.3971803158]\n",
      "HEADER_BCURRENT [0.0]\n",
      "HEADER_Q1 [0.1995106684]\n",
      "HEADER_Q2 [0.240122004]\n",
      "HEADER_BETA22MIN [11.50693875]\n",
      "PX []\n",
      "PY []\n",
      "HEADER_PTCOMIN [0.0]\n",
      "HEADER_GAMMA [2.49038064]\n",
      "HEADER_DISP3MAX [0.0]\n",
      "HEADER_QS [0.0]\n",
      "S []\n",
      "HEADER_BETA21MIN [0.0]\n",
      "HEADER_BETA_Y_MAX [23.26805337]\n",
      "HEADER_ENERGY [2.336654539]\n",
      "HEADER_BETA31MIN [0.0]\n",
      "HEADER_SEQUENCE ['PS']\n",
      "HEADER_PXCORMS [0.0]\n",
      "HEADER_BETA_Y_MIN [11.50693875]\n",
      "HEADER_MASS [0.938272046]\n",
      "HEADER_DISP1MIN [0.0]\n",
      "HEADER_DISP1MAX [3.57681854]\n",
      "HEADER_YCORMS [0.0]\n",
      "HEADER_BETA23MIN [0.0]\n",
      "HEADER_ORBIT_Y [0.0]\n",
      "HEADER_ORBIT_X [0.0]\n",
      "HEADER_EX [1.0]\n",
      "HEADER_EY [1.0]\n",
      "HEADER_ET [1.0]\n",
      "BETY []\n",
      "BETX []\n",
      "HEADER_XCOMIN [0.0]\n",
      "HEADER_YCOMIN [0.0]\n",
      "ALFY []\n",
      "ALFX []\n",
      "HEADER_BETA23MAX [0.0]\n",
      "MU1 []\n",
      "NAME []\n",
      "MU2 []\n",
      "HEADER_TYPE ['TWISS']\n",
      "HEADER_FILENAME ['../PTC_Twiss/H_20.tfs']\n",
      "HEADER_YCOMAX [0.0]\n",
      "HEADER_XCOMAX [0.0]\n",
      "HEADER_TIME ['09.41.20']\n",
      "HEADER_SIGT [0.0]\n",
      "HEADER_DISP3MIN [0.0]\n",
      "HEADER_ORBIT_-CT [0.0]\n",
      "HEADER_DQ2 [-7.7904508]\n",
      "HEADER_DQ1 [-5.75165308]\n",
      "HEADER_PYCOMIN [0.0]\n",
      "HEADER_SIGE [0.0]\n",
      "HEADER_NPART [0.0]\n",
      "HEADER_LENGTH [628.3185]\n",
      "HEADER_NAME ['PTC_TWISS']\n",
      "HEADER_PYCOMAX [0.0]\n",
      "DISP1 []\n",
      "DISP3 []\n",
      "DISP2 []\n",
      "DISP4 []\n",
      "HEADER_ORIGIN ['MAD-X 5.02.00 Linux 64']\n",
      "Y []\n",
      "HEADER_PXCOMAX [0.0]\n",
      "HEADER_CHARGE [1.0]\n",
      "HEADER_DISP4MAX [0.0]\n",
      "HEADER_DISP4MIN [0.0]\n",
      "\n",
      "Read_PTC_Twiss_Return_Dict found Keywords: \n",
      "* NAME                                S               BETX               BETY               ALFX               ALFY              DISP1              DISP2              DISP3              DISP4                MU1                MU2                  X                 PX                  Y                 PY \n",
      "\n",
      "\n",
      "Read_PTC_Twiss_Return_Dict Dict Keys: \n",
      "['NAME', 'S', 'BETX', 'BETY', 'ALFX', 'ALFY', 'DISP1', 'DISP2', 'DISP3', 'DISP4', 'MU1', 'MU2', 'X', 'PX', 'Y', 'PY']\n",
      "\n",
      "Read_PTC_Twiss_Return_Dict header only dictionary \n",
      "\n",
      "HEADER_ETA_C [-0.1342179718]\n",
      "HEADER_TCOMIN [0.0]\n",
      "HEADER_BETA11MIN [11.51970813]\n",
      "HEADER_DELTAP [0.0]\n",
      "HEADER_BETA33MIN [0.0]\n",
      "HEADER_TCOMAX [0.0]\n",
      "HEADER_PC [2.14]\n",
      "HEADER_BETA22MAX [23.20611826]\n",
      "HEADER_BETA12MIN [0.0]\n",
      "HEADER_ALPHA_C [0.02702044938]\n",
      "HEADER_BETA_X_MAX [23.45375196]\n",
      "HEADER_BETA_X_MIN [11.51970813]\n",
      "HEADER_ALPHA_C_P2 [-1000000.0]\n",
      "HEADER_ALPHA_C_P3 [-1000000.0]\n",
      "HEADER_BETA13MIN [0.0]\n",
      "HEADER_TITLE ['Flat file generation for PTC-PyORBIT']\n",
      "HEADER_BETA21MAX [0.0]\n",
      "HEADER_BETA13MAX [0.0]\n",
      "HEADER_BETA11MAX [23.45375196]\n",
      "HEADER_ALPHA_C_P [-0.5920615104]\n",
      "HEADER_PXCOMIN [0.0]\n",
      "HEADER_PYCORMS [0.0]\n",
      "X []\n",
      "HEADER_PARTICLE ['PROTON']\n",
      "HEADER_KBUNCH [1.0]\n",
      "HEADER_PTCORMS [0.0]\n",
      "HEADER_GAMMA_TR [6.083502856]\n",
      "HEADER_ORBIT_PT [0.0]\n",
      "HEADER_BETA33MAX [0.0]\n",
      "HEADER_BETA12MAX [0.0]\n",
      "HEADER_ORBIT_PX [0.0]\n",
      "HEADER_ORBIT_PY [0.0]\n",
      "HEADER_PTCOMAX [0.0]\n",
      "HEADER_BETA32MIN [0.0]\n",
      "HEADER_BETA31MAX [0.0]\n",
      "HEADER_TCORMS [0.0]\n",
      "HEADER_BETA32MAX [0.0]\n",
      "HEADER_DISP2MAX [0.3899127413]\n",
      "HEADER_XCORMS [0.0]\n",
      "HEADER_DATE ['17/08/20']\n",
      "HEADER_DISP2MIN [-0.3913647248]\n",
      "HEADER_BCURRENT [0.0]\n",
      "HEADER_Q1 [0.2095109122]\n",
      "HEADER_Q2 [0.2401215592]\n",
      "HEADER_BETA22MIN [11.51436908]\n",
      "PX []\n",
      "PY []\n",
      "HEADER_PTCOMIN [0.0]\n",
      "HEADER_GAMMA [2.49038064]\n",
      "HEADER_DISP3MAX [0.0]\n",
      "HEADER_QS [0.0]\n",
      "S []\n",
      "HEADER_BETA21MIN [0.0]\n",
      "HEADER_BETA_Y_MAX [23.20611826]\n"
     ]
    },
    {
     "name": "stdout",
     "output_type": "stream",
     "text": [
      "HEADER_ENERGY [2.336654539]\n",
      "HEADER_BETA31MIN [0.0]\n",
      "HEADER_SEQUENCE ['PS']\n",
      "HEADER_PXCORMS [0.0]\n",
      "HEADER_BETA_Y_MIN [11.51436908]\n",
      "HEADER_MASS [0.938272046]\n",
      "HEADER_DISP1MIN [0.0]\n",
      "HEADER_DISP1MAX [3.526245385]\n",
      "HEADER_YCORMS [0.0]\n",
      "HEADER_BETA23MIN [0.0]\n",
      "HEADER_ORBIT_Y [0.0]\n",
      "HEADER_ORBIT_X [0.0]\n",
      "HEADER_EX [1.0]\n",
      "HEADER_EY [1.0]\n",
      "HEADER_ET [1.0]\n",
      "BETY []\n",
      "BETX []\n",
      "HEADER_XCOMIN [0.0]\n",
      "HEADER_YCOMIN [0.0]\n",
      "ALFY []\n",
      "ALFX []\n",
      "HEADER_BETA23MAX [0.0]\n",
      "MU1 []\n",
      "NAME []\n",
      "MU2 []\n",
      "HEADER_TYPE ['TWISS']\n",
      "HEADER_FILENAME ['../PTC_Twiss/H_21.tfs']\n",
      "HEADER_YCOMAX [0.0]\n",
      "HEADER_XCOMAX [0.0]\n",
      "HEADER_TIME ['09.41.16']\n",
      "HEADER_SIGT [0.0]\n",
      "HEADER_DISP3MIN [0.0]\n",
      "HEADER_ORBIT_-CT [0.0]\n",
      "HEADER_DQ2 [-7.793328622]\n",
      "HEADER_DQ1 [-5.764661948]\n",
      "HEADER_PYCOMIN [0.0]\n",
      "HEADER_SIGE [0.0]\n",
      "HEADER_NPART [0.0]\n",
      "HEADER_LENGTH [628.3185]\n",
      "HEADER_NAME ['PTC_TWISS']\n",
      "HEADER_PYCOMAX [0.0]\n",
      "DISP1 []\n",
      "DISP3 []\n",
      "DISP2 []\n",
      "DISP4 []\n",
      "HEADER_ORIGIN ['MAD-X 5.02.00 Linux 64']\n",
      "Y []\n",
      "HEADER_PXCOMAX [0.0]\n",
      "HEADER_CHARGE [1.0]\n",
      "HEADER_DISP4MAX [0.0]\n",
      "HEADER_DISP4MIN [0.0]\n"
     ]
    }
   ],
   "source": [
    "LEQ_H_07_keys, LEQ_H_07 = Read_PTC_Twiss_Return_Dict('../PTC_Twiss/H_07.tfs')\n",
    "LEQ_H_08_keys, LEQ_H_08 = Read_PTC_Twiss_Return_Dict('../PTC_Twiss/H_08.tfs')\n",
    "LEQ_H_09_keys, LEQ_H_09 = Read_PTC_Twiss_Return_Dict('../PTC_Twiss/H_09.tfs')\n",
    "LEQ_H_10_keys, LEQ_H_10 = Read_PTC_Twiss_Return_Dict('../PTC_Twiss/H_10.tfs')\n",
    "LEQ_H_11_keys, LEQ_H_11 = Read_PTC_Twiss_Return_Dict('../PTC_Twiss/H_11.tfs')\n",
    "LEQ_H_12_keys, LEQ_H_12 = Read_PTC_Twiss_Return_Dict('../PTC_Twiss/H_12.tfs')\n",
    "LEQ_H_13_keys, LEQ_H_13 = Read_PTC_Twiss_Return_Dict('../PTC_Twiss/H_13.tfs')\n",
    "LEQ_H_14_keys, LEQ_H_14 = Read_PTC_Twiss_Return_Dict('../PTC_Twiss/H_14.tfs')\n",
    "LEQ_H_15_keys, LEQ_H_15 = Read_PTC_Twiss_Return_Dict('../PTC_Twiss/H_15.tfs')\n",
    "LEQ_H_16_keys, LEQ_H_16 = Read_PTC_Twiss_Return_Dict('../PTC_Twiss/H_16.tfs')\n",
    "LEQ_H_17_keys, LEQ_H_17 = Read_PTC_Twiss_Return_Dict('../PTC_Twiss/H_17.tfs')\n",
    "LEQ_H_18_keys, LEQ_H_18 = Read_PTC_Twiss_Return_Dict('../PTC_Twiss/H_18.tfs')\n",
    "LEQ_H_19_keys, LEQ_H_19 = Read_PTC_Twiss_Return_Dict('../PTC_Twiss/H_19.tfs')\n",
    "LEQ_H_20_keys, LEQ_H_20 = Read_PTC_Twiss_Return_Dict('../PTC_Twiss/H_20.tfs')\n",
    "LEQ_H_21_keys, LEQ_H_21 = Read_PTC_Twiss_Return_Dict('../PTC_Twiss/H_21.tfs')\n",
    "LEQ_H_List = [LEQ_H_07, LEQ_H_08, LEQ_H_09, LEQ_H_10, LEQ_H_11, LEQ_H_12, LEQ_H_13, LEQ_H_14, LEQ_H_15, LEQ_H_16, LEQ_H_17, LEQ_H_18, LEQ_H_19, LEQ_H_20, LEQ_H_21]"
   ]
  },
  {
   "cell_type": "code",
   "execution_count": 22,
   "metadata": {},
   "outputs": [
    {
     "name": "stdout",
     "output_type": "stream",
     "text": [
      "(Qx, Qy) = ( 0.07 , 0.24 )\n",
      "(Qx, Qy) = ( 0.08 , 0.24 )\n",
      "(Qx, Qy) = ( 0.09 , 0.24 )\n",
      "(Qx, Qy) = ( 0.1 , 0.24 )\n",
      "(Qx, Qy) = ( 0.11 , 0.24 )\n",
      "(Qx, Qy) = ( 0.12 , 0.24 )\n",
      "(Qx, Qy) = ( 0.13 , 0.24 )\n",
      "(Qx, Qy) = ( 0.14 , 0.24 )\n",
      "(Qx, Qy) = ( 0.15 , 0.24 )\n",
      "(Qx, Qy) = ( 0.16 , 0.24 )\n",
      "(Qx, Qy) = ( 0.17 , 0.24 )\n",
      "(Qx, Qy) = ( 0.18 , 0.24 )\n",
      "(Qx, Qy) = ( 0.19 , 0.24 )\n",
      "(Qx, Qy) = ( 0.2 , 0.24 )\n",
      "(Qx, Qy) = ( 0.21 , 0.24 )\n"
     ]
    }
   ],
   "source": [
    "for d in LEQ_H_List:\n",
    "    print_Twiss_Dict_Tunes(d,2)"
   ]
  },
  {
   "cell_type": "code",
   "execution_count": 23,
   "metadata": {},
   "outputs": [
    {
     "name": "stdout",
     "output_type": "stream",
     "text": [
      "\n",
      "Read_PTC_Twiss_Return_Dict found Keywords: \n",
      "* NAME                                S               BETX               BETY               ALFX               ALFY              DISP1              DISP2              DISP3              DISP4                MU1                MU2                  X                 PX                  Y                 PY \n",
      "\n",
      "\n",
      "Read_PTC_Twiss_Return_Dict Dict Keys: \n",
      "['NAME', 'S', 'BETX', 'BETY', 'ALFX', 'ALFY', 'DISP1', 'DISP2', 'DISP3', 'DISP4', 'MU1', 'MU2', 'X', 'PX', 'Y', 'PY']\n",
      "\n",
      "Read_PTC_Twiss_Return_Dict header only dictionary \n",
      "\n",
      "HEADER_ETA_C [-0.1342599162]\n",
      "HEADER_TCOMIN [0.0]\n",
      "HEADER_BETA11MIN [11.04248161]\n",
      "HEADER_DELTAP [0.0]\n",
      "HEADER_BETA33MIN [0.0]\n",
      "HEADER_TCOMAX [0.0]\n",
      "HEADER_PC [2.14]\n",
      "HEADER_BETA22MAX [28.94231883]\n",
      "HEADER_BETA12MIN [0.0]\n",
      "HEADER_ALPHA_C [0.02697850494]\n",
      "HEADER_BETA_X_MAX [24.54387774]\n",
      "HEADER_BETA_X_MIN [11.04248161]\n",
      "HEADER_ALPHA_C_P2 [-1000000.0]\n",
      "HEADER_ALPHA_C_P3 [-1000000.0]\n",
      "HEADER_BETA13MIN [0.0]\n",
      "HEADER_TITLE ['Flat file generation for PTC-PyORBIT']\n",
      "HEADER_BETA21MAX [0.0]\n",
      "HEADER_BETA13MAX [0.0]\n",
      "HEADER_BETA11MAX [24.54387774]\n",
      "HEADER_ALPHA_C_P [-0.5903481465]\n",
      "HEADER_PXCOMIN [0.0]\n",
      "HEADER_PYCORMS [0.0]\n",
      "X []\n",
      "HEADER_PARTICLE ['PROTON']\n",
      "HEADER_KBUNCH [1.0]\n",
      "HEADER_PTCORMS [0.0]\n",
      "HEADER_GAMMA_TR [6.088230137]\n",
      "HEADER_ORBIT_PT [0.0]\n",
      "HEADER_BETA33MAX [0.0]\n",
      "HEADER_BETA12MAX [0.0]\n",
      "HEADER_ORBIT_PX [0.0]\n",
      "HEADER_ORBIT_PY [0.0]\n",
      "HEADER_PTCOMAX [0.0]\n",
      "HEADER_BETA32MIN [0.0]\n",
      "HEADER_BETA31MAX [0.0]\n",
      "HEADER_TCORMS [0.0]\n",
      "HEADER_BETA32MAX [0.0]\n",
      "HEADER_DISP2MAX [0.4003702967]\n",
      "HEADER_XCORMS [0.0]\n",
      "HEADER_DATE ['17/08/20']\n",
      "HEADER_DISP2MIN [-0.4144869872]\n",
      "HEADER_BCURRENT [0.0]\n",
      "HEADER_Q1 [0.2095412093]\n",
      "HEADER_Q2 [0.1001462331]\n",
      "HEADER_BETA22MIN [10.50661383]\n",
      "PX []\n",
      "PY []\n",
      "HEADER_PTCOMIN [0.0]\n",
      "HEADER_GAMMA [2.49038064]\n",
      "HEADER_DISP3MAX [0.0]\n",
      "HEADER_QS [0.0]\n",
      "S []\n",
      "HEADER_BETA21MIN [0.0]\n",
      "HEADER_BETA_Y_MAX [28.94231883]\n",
      "HEADER_ENERGY [2.336654539]\n",
      "HEADER_BETA31MIN [0.0]\n",
      "HEADER_SEQUENCE ['PS']\n",
      "HEADER_PXCORMS [0.0]\n",
      "HEADER_BETA_Y_MIN [10.50661383]\n",
      "HEADER_MASS [0.938272046]\n",
      "HEADER_DISP1MIN [0.0]\n",
      "HEADER_DISP1MAX [3.679912422]\n",
      "HEADER_YCORMS [0.0]\n",
      "HEADER_BETA23MIN [0.0]\n",
      "HEADER_ORBIT_Y [0.0]\n",
      "HEADER_ORBIT_X [0.0]\n",
      "HEADER_EX [1.0]\n",
      "HEADER_EY [1.0]\n",
      "HEADER_ET [1.0]\n",
      "BETY []\n",
      "BETX []\n",
      "HEADER_XCOMIN [0.0]\n",
      "HEADER_YCOMIN [0.0]\n",
      "ALFY []\n",
      "ALFX []\n",
      "HEADER_BETA23MAX [0.0]\n",
      "MU1 []\n",
      "NAME []\n",
      "MU2 []\n",
      "HEADER_TYPE ['TWISS']\n",
      "HEADER_FILENAME ['../PTC_Twiss/V_10.tfs']\n",
      "HEADER_YCOMAX [0.0]\n",
      "HEADER_XCOMAX [0.0]\n",
      "HEADER_TIME ['09.41.21']\n",
      "HEADER_SIGT [0.0]\n",
      "HEADER_DISP3MIN [0.0]\n",
      "HEADER_ORBIT_-CT [0.0]\n",
      "HEADER_DQ2 [-7.830374767]\n",
      "HEADER_DQ1 [-5.699807081]\n",
      "HEADER_PYCOMIN [0.0]\n",
      "HEADER_SIGE [0.0]\n",
      "HEADER_NPART [0.0]\n",
      "HEADER_LENGTH [628.3185]\n",
      "HEADER_NAME ['PTC_TWISS']\n",
      "HEADER_PYCOMAX [0.0]\n",
      "DISP1 []\n",
      "DISP3 []\n",
      "DISP2 []\n",
      "DISP4 []\n",
      "HEADER_ORIGIN ['MAD-X 5.02.00 Linux 64']\n",
      "Y []\n",
      "HEADER_PXCOMAX [0.0]\n",
      "HEADER_CHARGE [1.0]\n",
      "HEADER_DISP4MAX [0.0]\n",
      "HEADER_DISP4MIN [0.0]\n",
      "\n",
      "Read_PTC_Twiss_Return_Dict found Keywords: \n",
      "* NAME                                S               BETX               BETY               ALFX               ALFY              DISP1              DISP2              DISP3              DISP4                MU1                MU2                  X                 PX                  Y                 PY \n",
      "\n",
      "\n",
      "Read_PTC_Twiss_Return_Dict Dict Keys: \n",
      "['NAME', 'S', 'BETX', 'BETY', 'ALFX', 'ALFY', 'DISP1', 'DISP2', 'DISP3', 'DISP4', 'MU1', 'MU2', 'X', 'PX', 'Y', 'PY']\n",
      "\n",
      "Read_PTC_Twiss_Return_Dict header only dictionary \n",
      "\n",
      "HEADER_ETA_C [-0.134256894]\n",
      "HEADER_TCOMIN [0.0]\n",
      "HEADER_BETA11MIN [11.08180793]\n",
      "HEADER_DELTAP [0.0]\n",
      "HEADER_BETA33MIN [0.0]\n",
      "HEADER_TCOMAX [0.0]\n",
      "HEADER_PC [2.14]\n",
      "HEADER_BETA22MAX [28.1834697]\n",
      "HEADER_BETA12MIN [0.0]\n",
      "HEADER_ALPHA_C [0.02698152721]\n",
      "HEADER_BETA_X_MAX [24.44605946]\n",
      "HEADER_BETA_X_MIN [11.08180793]\n",
      "HEADER_ALPHA_C_P2 [-1000000.0]\n",
      "HEADER_ALPHA_C_P3 [-1000000.0]\n",
      "HEADER_BETA13MIN [0.0]\n",
      "HEADER_TITLE ['Flat file generation for PTC-PyORBIT']\n",
      "HEADER_BETA21MAX [0.0]\n",
      "HEADER_BETA13MAX [0.0]\n",
      "HEADER_BETA11MAX [24.44605946]\n",
      "HEADER_ALPHA_C_P [-0.5904584906]\n",
      "HEADER_PXCOMIN [0.0]\n",
      "HEADER_PYCORMS [0.0]\n",
      "X []\n",
      "HEADER_PARTICLE ['PROTON']\n",
      "HEADER_KBUNCH [1.0]\n",
      "HEADER_PTCORMS [0.0]\n",
      "HEADER_GAMMA_TR [6.087889149]\n",
      "HEADER_ORBIT_PT [0.0]\n",
      "HEADER_BETA33MAX [0.0]\n",
      "HEADER_BETA12MAX [0.0]\n",
      "HEADER_ORBIT_PX [0.0]\n",
      "HEADER_ORBIT_PY [0.0]\n",
      "HEADER_PTCOMAX [0.0]\n",
      "HEADER_BETA32MIN [0.0]\n",
      "HEADER_BETA31MAX [0.0]\n",
      "HEADER_TCORMS [0.0]\n",
      "HEADER_BETA32MAX [0.0]\n",
      "HEADER_DISP2MAX [0.3996016222]\n",
      "HEADER_XCORMS [0.0]\n",
      "HEADER_DATE ['17/08/20']\n",
      "HEADER_DISP2MIN [-0.4128028507]\n",
      "HEADER_BCURRENT [0.0]\n",
      "HEADER_Q1 [0.2095365686]\n",
      "HEADER_Q2 [0.1101437593]\n",
      "HEADER_BETA22MIN [10.68493979]\n",
      "PX []\n",
      "PY []\n",
      "HEADER_PTCOMIN [0.0]\n",
      "HEADER_GAMMA [2.49038064]\n",
      "HEADER_DISP3MAX [0.0]\n",
      "HEADER_QS [0.0]\n",
      "S []\n",
      "HEADER_BETA21MIN [0.0]\n",
      "HEADER_BETA_Y_MAX [28.1834697]\n",
      "HEADER_ENERGY [2.336654539]\n",
      "HEADER_BETA31MIN [0.0]\n",
      "HEADER_SEQUENCE ['PS']\n",
      "HEADER_PXCORMS [0.0]\n",
      "HEADER_BETA_Y_MIN [10.68493979]\n",
      "HEADER_MASS [0.938272046]\n",
      "HEADER_DISP1MIN [0.0]\n",
      "HEADER_DISP1MAX [3.668698474]\n",
      "HEADER_YCORMS [0.0]\n",
      "HEADER_BETA23MIN [0.0]\n",
      "HEADER_ORBIT_Y [0.0]\n",
      "HEADER_ORBIT_X [0.0]\n",
      "HEADER_EX [1.0]\n",
      "HEADER_EY [1.0]\n",
      "HEADER_ET [1.0]\n",
      "BETY []\n",
      "BETX []\n",
      "HEADER_XCOMIN [0.0]\n",
      "HEADER_YCOMIN [0.0]\n",
      "ALFY []\n",
      "ALFX []\n",
      "HEADER_BETA23MAX [0.0]\n",
      "MU1 []\n",
      "NAME []\n",
      "MU2 []\n",
      "HEADER_TYPE ['TWISS']\n",
      "HEADER_FILENAME ['../PTC_Twiss/V_11.tfs']\n",
      "HEADER_YCOMAX [0.0]\n",
      "HEADER_XCOMAX [0.0]\n",
      "HEADER_TIME ['09.41.21']\n",
      "HEADER_SIGT [0.0]\n",
      "HEADER_DISP3MIN [0.0]\n",
      "HEADER_ORBIT_-CT [0.0]\n",
      "HEADER_DQ2 [-7.812723152]\n",
      "HEADER_DQ1 [-5.703838482]\n",
      "HEADER_PYCOMIN [0.0]\n",
      "HEADER_SIGE [0.0]\n",
      "HEADER_NPART [0.0]\n",
      "HEADER_LENGTH [628.3185]\n",
      "HEADER_NAME ['PTC_TWISS']\n",
      "HEADER_PYCOMAX [0.0]\n",
      "DISP1 []\n",
      "DISP3 []\n",
      "DISP2 []\n",
      "DISP4 []\n",
      "HEADER_ORIGIN ['MAD-X 5.02.00 Linux 64']\n",
      "Y []\n",
      "HEADER_PXCOMAX [0.0]\n",
      "HEADER_CHARGE [1.0]\n",
      "HEADER_DISP4MAX [0.0]\n",
      "HEADER_DISP4MIN [0.0]\n",
      "\n",
      "Read_PTC_Twiss_Return_Dict found Keywords: \n",
      "* NAME                                S               BETX               BETY               ALFX               ALFY              DISP1              DISP2              DISP3              DISP4                MU1                MU2                  X                 PX                  Y                 PY \n",
      "\n",
      "\n",
      "Read_PTC_Twiss_Return_Dict Dict Keys: \n",
      "['NAME', 'S', 'BETX', 'BETY', 'ALFX', 'ALFY', 'DISP1', 'DISP2', 'DISP3', 'DISP4', 'MU1', 'MU2', 'X', 'PX', 'Y', 'PY']\n",
      "\n",
      "Read_PTC_Twiss_Return_Dict header only dictionary \n",
      "\n",
      "HEADER_ETA_C [-0.1342538699]\n",
      "HEADER_TCOMIN [0.0]\n",
      "HEADER_BETA11MIN [11.11795325]\n",
      "HEADER_DELTAP [0.0]\n",
      "HEADER_BETA33MIN [0.0]\n",
      "HEADER_TCOMAX [0.0]\n",
      "HEADER_PC [2.14]\n",
      "HEADER_BETA22MAX [27.53316257]\n",
      "HEADER_BETA12MIN [0.0]\n",
      "HEADER_ALPHA_C [0.02698455122]\n",
      "HEADER_BETA_X_MAX [24.34909507]\n",
      "HEADER_BETA_X_MIN [11.11795325]\n",
      "HEADER_ALPHA_C_P2 [-1000000.0]\n",
      "HEADER_ALPHA_C_P3 [-1000000.0]\n",
      "HEADER_BETA13MIN [0.0]\n",
      "HEADER_TITLE ['Flat file generation for PTC-PyORBIT']\n",
      "HEADER_BETA21MAX [0.0]\n",
      "HEADER_BETA13MAX [0.0]\n",
      "HEADER_BETA11MAX [24.34909507]\n",
      "HEADER_ALPHA_C_P [-0.5905709527]\n",
      "HEADER_PXCOMIN [0.0]\n",
      "HEADER_PYCORMS [0.0]\n",
      "X []\n",
      "HEADER_PARTICLE ['PROTON']\n",
      "HEADER_KBUNCH [1.0]\n",
      "HEADER_PTCORMS [0.0]\n",
      "HEADER_GAMMA_TR [6.087548021]\n",
      "HEADER_ORBIT_PT [0.0]\n",
      "HEADER_BETA33MAX [0.0]\n",
      "HEADER_BETA12MAX [0.0]\n",
      "HEADER_ORBIT_PX [0.0]\n",
      "HEADER_ORBIT_PY [0.0]\n",
      "HEADER_PTCOMAX [0.0]\n",
      "HEADER_BETA32MIN [0.0]\n",
      "HEADER_BETA31MAX [0.0]\n",
      "HEADER_TCORMS [0.0]\n",
      "HEADER_BETA32MAX [0.0]\n",
      "HEADER_DISP2MAX [0.39883525]\n",
      "HEADER_XCORMS [0.0]\n",
      "HEADER_DATE ['17/08/20']\n",
      "HEADER_DISP2MIN [-0.4111211486]\n",
      "HEADER_BCURRENT [0.0]\n",
      "HEADER_Q1 [0.2095323884]\n",
      "HEADER_Q2 [0.1201410867]\n",
      "HEADER_BETA22MIN [10.82988276]\n",
      "PX []\n",
      "PY []\n",
      "HEADER_PTCOMIN [0.0]\n",
      "HEADER_GAMMA [2.49038064]\n",
      "HEADER_DISP3MAX [0.0]\n",
      "HEADER_QS [0.0]\n",
      "S []\n",
      "HEADER_BETA21MIN [0.0]\n",
      "HEADER_BETA_Y_MAX [27.53316257]\n",
      "HEADER_ENERGY [2.336654539]\n",
      "HEADER_BETA31MIN [0.0]\n",
      "HEADER_SEQUENCE ['PS']\n",
      "HEADER_PXCORMS [0.0]\n",
      "HEADER_BETA_Y_MIN [10.82988276]\n",
      "HEADER_MASS [0.938272046]\n",
      "HEADER_DISP1MIN [0.0]\n",
      "HEADER_DISP1MAX [3.65750439]\n",
      "HEADER_YCORMS [0.0]\n",
      "HEADER_BETA23MIN [0.0]\n",
      "HEADER_ORBIT_Y [0.0]\n",
      "HEADER_ORBIT_X [0.0]\n",
      "HEADER_EX [1.0]\n",
      "HEADER_EY [1.0]\n",
      "HEADER_ET [1.0]\n",
      "BETY []\n",
      "BETX []\n",
      "HEADER_XCOMIN [0.0]\n",
      "HEADER_YCOMIN [0.0]\n",
      "ALFY []\n",
      "ALFX []\n",
      "HEADER_BETA23MAX [0.0]\n",
      "MU1 []\n",
      "NAME []\n",
      "MU2 []\n",
      "HEADER_TYPE ['TWISS']\n",
      "HEADER_FILENAME ['../PTC_Twiss/V_12.tfs']\n",
      "HEADER_YCOMAX [0.0]\n",
      "HEADER_XCOMAX [0.0]\n",
      "HEADER_TIME ['09.41.20']\n",
      "HEADER_SIGT [0.0]\n",
      "HEADER_DISP3MIN [0.0]\n",
      "HEADER_ORBIT_-CT [0.0]\n",
      "HEADER_DQ2 [-7.800608428]\n",
      "HEADER_DQ1 [-5.707973683]\n",
      "HEADER_PYCOMIN [0.0]\n",
      "HEADER_SIGE [0.0]\n",
      "HEADER_NPART [0.0]\n",
      "HEADER_LENGTH [628.3185]\n",
      "HEADER_NAME ['PTC_TWISS']\n",
      "HEADER_PYCOMAX [0.0]\n",
      "DISP1 []\n",
      "DISP3 []\n",
      "DISP2 []\n",
      "DISP4 []\n",
      "HEADER_ORIGIN ['MAD-X 5.02.00 Linux 64']\n",
      "Y []\n",
      "HEADER_PXCOMAX [0.0]\n",
      "HEADER_CHARGE [1.0]\n",
      "HEADER_DISP4MAX [0.0]\n",
      "HEADER_DISP4MIN [0.0]\n",
      "\n",
      "Read_PTC_Twiss_Return_Dict found Keywords: \n",
      "* NAME                                S               BETX               BETY               ALFX               ALFY              DISP1              DISP2              DISP3              DISP4                MU1                MU2                  X                 PX                  Y                 PY \n",
      "\n",
      "\n",
      "Read_PTC_Twiss_Return_Dict Dict Keys: \n",
      "['NAME', 'S', 'BETX', 'BETY', 'ALFX', 'ALFY', 'DISP1', 'DISP2', 'DISP3', 'DISP4', 'MU1', 'MU2', 'X', 'PX', 'Y', 'PY']\n",
      "\n",
      "Read_PTC_Twiss_Return_Dict header only dictionary \n",
      "\n",
      "HEADER_ETA_C [-0.1342508469]\n",
      "HEADER_TCOMIN [0.0]\n",
      "HEADER_BETA11MIN [11.15417965]\n",
      "HEADER_DELTAP [0.0]\n",
      "HEADER_BETA33MIN [0.0]\n",
      "HEADER_TCOMAX [0.0]\n",
      "HEADER_PC [2.14]\n",
      "HEADER_BETA22MAX [26.96548889]\n",
      "HEADER_BETA12MIN [0.0]\n",
      "HEADER_ALPHA_C [0.02698757425]\n",
      "HEADER_BETA_X_MAX [24.26545083]\n",
      "HEADER_BETA_X_MIN [11.15417965]\n",
      "HEADER_ALPHA_C_P2 [-1000000.0]\n",
      "HEADER_ALPHA_C_P3 [-1000000.0]\n",
      "HEADER_BETA13MIN [0.0]\n",
      "HEADER_TITLE ['Flat file generation for PTC-PyORBIT']\n",
      "HEADER_BETA21MAX [0.0]\n",
      "HEADER_BETA13MAX [0.0]\n",
      "HEADER_BETA11MAX [24.26545083]\n",
      "HEADER_ALPHA_C_P [-0.5906854331]\n",
      "HEADER_PXCOMIN [0.0]\n",
      "HEADER_PYCORMS [0.0]\n",
      "X []\n",
      "HEADER_PARTICLE ['PROTON']\n",
      "HEADER_KBUNCH [1.0]\n",
      "HEADER_PTCORMS [0.0]\n",
      "HEADER_GAMMA_TR [6.087207061]\n",
      "HEADER_ORBIT_PT [0.0]\n",
      "HEADER_BETA33MAX [0.0]\n",
      "HEADER_BETA12MAX [0.0]\n",
      "HEADER_ORBIT_PX [0.0]\n",
      "HEADER_ORBIT_PY [0.0]\n",
      "HEADER_PTCOMAX [0.0]\n",
      "HEADER_BETA32MIN [0.0]\n",
      "HEADER_BETA31MAX [0.0]\n",
      "HEADER_TCORMS [0.0]\n",
      "HEADER_BETA32MAX [0.0]\n",
      "HEADER_DISP2MAX [0.3980716996]\n",
      "HEADER_XCORMS [0.0]\n",
      "HEADER_DATE ['17/08/20']\n",
      "HEADER_DISP2MIN [-0.4094431101]\n",
      "HEADER_BCURRENT [0.0]\n",
      "HEADER_Q1 [0.2095286757]\n",
      "HEADER_Q2 [0.1301384221]\n",
      "HEADER_BETA22MIN [10.93437295]\n",
      "PX []\n",
      "PY []\n",
      "HEADER_PTCOMIN [0.0]\n",
      "HEADER_GAMMA [2.49038064]\n",
      "HEADER_DISP3MAX [0.0]\n",
      "HEADER_QS [0.0]\n",
      "S []\n",
      "HEADER_BETA21MIN [0.0]\n",
      "HEADER_BETA_Y_MAX [26.96548889]\n",
      "HEADER_ENERGY [2.336654539]\n",
      "HEADER_BETA31MIN [0.0]\n",
      "HEADER_SEQUENCE ['PS']\n",
      "HEADER_PXCORMS [0.0]\n",
      "HEADER_BETA_Y_MIN [10.93437295]\n",
      "HEADER_MASS [0.938272046]\n",
      "HEADER_DISP1MIN [0.0]\n",
      "HEADER_DISP1MAX [3.646338227]\n",
      "HEADER_YCORMS [0.0]\n",
      "HEADER_BETA23MIN [0.0]\n",
      "HEADER_ORBIT_Y [0.0]\n",
      "HEADER_ORBIT_X [0.0]\n",
      "HEADER_EX [1.0]\n",
      "HEADER_EY [1.0]\n",
      "HEADER_ET [1.0]\n",
      "BETY []\n",
      "BETX []\n",
      "HEADER_XCOMIN [0.0]\n",
      "HEADER_YCOMIN [0.0]\n",
      "ALFY []\n",
      "ALFX []\n",
      "HEADER_BETA23MAX [0.0]\n",
      "MU1 []\n",
      "NAME []\n",
      "MU2 []\n",
      "HEADER_TYPE ['TWISS']\n",
      "HEADER_FILENAME ['../PTC_Twiss/V_13.tfs']\n",
      "HEADER_YCOMAX [0.0]\n",
      "HEADER_XCOMAX [0.0]\n",
      "HEADER_TIME ['09.42.13']\n",
      "HEADER_SIGT [0.0]\n",
      "HEADER_DISP3MIN [0.0]\n",
      "HEADER_ORBIT_-CT [0.0]\n",
      "HEADER_DQ2 [-7.792337445]\n",
      "HEADER_DQ1 [-5.712208791]\n",
      "HEADER_PYCOMIN [0.0]\n",
      "HEADER_SIGE [0.0]\n",
      "HEADER_NPART [0.0]\n",
      "HEADER_LENGTH [628.3185]\n",
      "HEADER_NAME ['PTC_TWISS']\n",
      "HEADER_PYCOMAX [0.0]\n",
      "DISP1 []\n",
      "DISP3 []\n",
      "DISP2 []\n",
      "DISP4 []\n",
      "HEADER_ORIGIN ['MAD-X 5.02.00 Linux 64']\n",
      "Y []\n",
      "HEADER_PXCOMAX [0.0]\n",
      "HEADER_CHARGE [1.0]\n",
      "HEADER_DISP4MAX [0.0]\n",
      "HEADER_DISP4MIN [0.0]\n",
      "\n",
      "Read_PTC_Twiss_Return_Dict found Keywords: \n",
      "* NAME                                S               BETX               BETY               ALFX               ALFY              DISP1              DISP2              DISP3              DISP4                MU1                MU2                  X                 PX                  Y                 PY \n",
      "\n",
      "\n",
      "Read_PTC_Twiss_Return_Dict Dict Keys: \n",
      "['NAME', 'S', 'BETX', 'BETY', 'ALFX', 'ALFY', 'DISP1', 'DISP2', 'DISP3', 'DISP4', 'MU1', 'MU2', 'X', 'PX', 'Y', 'PY']\n",
      "\n",
      "Read_PTC_Twiss_Return_Dict header only dictionary \n",
      "\n",
      "HEADER_ETA_C [-0.1342478268]\n",
      "HEADER_TCOMIN [0.0]\n",
      "HEADER_BETA11MIN [11.1904659]\n",
      "HEADER_DELTAP [0.0]\n",
      "HEADER_BETA33MIN [0.0]\n",
      "HEADER_TCOMAX [0.0]\n",
      "HEADER_PC [2.14]\n",
      "HEADER_BETA22MAX [26.46229652]\n",
      "HEADER_BETA12MIN [0.0]\n",
      "HEADER_ALPHA_C [0.02699059436]\n",
      "HEADER_BETA_X_MAX [24.1865456]\n",
      "HEADER_BETA_X_MIN [11.1904659]\n",
      "HEADER_ALPHA_C_P2 [-1000000.0]\n",
      "HEADER_ALPHA_C_P3 [-1000000.0]\n",
      "HEADER_BETA13MIN [0.0]\n",
      "HEADER_TITLE ['Flat file generation for PTC-PyORBIT']\n",
      "HEADER_BETA21MAX [0.0]\n",
      "HEADER_BETA13MAX [0.0]\n",
      "HEADER_BETA11MAX [24.1865456]\n",
      "HEADER_ALPHA_C_P [-0.5908018522]\n",
      "HEADER_PXCOMIN [0.0]\n",
      "HEADER_PYCORMS [0.0]\n",
      "X []\n",
      "HEADER_PARTICLE ['PROTON']\n",
      "HEADER_KBUNCH [1.0]\n",
      "HEADER_PTCORMS [0.0]\n",
      "HEADER_GAMMA_TR [6.086866488]\n",
      "HEADER_ORBIT_PT [0.0]\n",
      "HEADER_BETA33MAX [0.0]\n",
      "HEADER_BETA12MAX [0.0]\n",
      "HEADER_ORBIT_PX [0.0]\n",
      "HEADER_ORBIT_PY [0.0]\n",
      "HEADER_PTCOMAX [0.0]\n",
      "HEADER_BETA32MIN [0.0]\n",
      "HEADER_BETA31MAX [0.0]\n",
      "HEADER_TCORMS [0.0]\n",
      "HEADER_BETA32MAX [0.0]\n",
      "HEADER_DISP2MAX [0.3973113314]\n",
      "HEADER_XCORMS [0.0]\n",
      "HEADER_DATE ['17/08/20']\n",
      "HEADER_DISP2MIN [-0.4077696066]\n",
      "HEADER_BCURRENT [0.0]\n",
      "HEADER_Q1 [0.2095254183]\n",
      "HEADER_Q2 [0.1401358837]\n",
      "HEADER_BETA22MIN [11.01833044]\n",
      "PX []\n",
      "PY []\n",
      "HEADER_PTCOMIN [0.0]\n",
      "HEADER_GAMMA [2.49038064]\n",
      "HEADER_DISP3MAX [0.0]\n",
      "HEADER_QS [0.0]\n",
      "S []\n",
      "HEADER_BETA21MIN [0.0]\n",
      "HEADER_BETA_Y_MAX [26.46229652]\n",
      "HEADER_ENERGY [2.336654539]\n",
      "HEADER_BETA31MIN [0.0]\n",
      "HEADER_SEQUENCE ['PS']\n",
      "HEADER_PXCORMS [0.0]\n",
      "HEADER_BETA_Y_MIN [11.01833044]\n",
      "HEADER_MASS [0.938272046]\n",
      "HEADER_DISP1MIN [0.0]\n",
      "HEADER_DISP1MAX [3.635205674]\n",
      "HEADER_YCORMS [0.0]\n",
      "HEADER_BETA23MIN [0.0]\n",
      "HEADER_ORBIT_Y [0.0]\n",
      "HEADER_ORBIT_X [0.0]\n",
      "HEADER_EX [1.0]\n",
      "HEADER_EY [1.0]\n",
      "HEADER_ET [1.0]\n",
      "BETY []\n",
      "BETX []\n",
      "HEADER_XCOMIN [0.0]\n",
      "HEADER_YCOMIN [0.0]\n",
      "ALFY []\n",
      "ALFX []\n",
      "HEADER_BETA23MAX [0.0]\n",
      "MU1 []\n",
      "NAME []\n",
      "MU2 []\n",
      "HEADER_TYPE ['TWISS']\n",
      "HEADER_FILENAME ['../PTC_Twiss/V_14.tfs']\n",
      "HEADER_YCOMAX [0.0]\n"
     ]
    },
    {
     "name": "stdout",
     "output_type": "stream",
     "text": [
      "HEADER_XCOMAX [0.0]\n",
      "HEADER_TIME ['09.41.16']\n",
      "HEADER_SIGT [0.0]\n",
      "HEADER_DISP3MIN [0.0]\n",
      "HEADER_ORBIT_-CT [0.0]\n",
      "HEADER_DQ2 [-7.7868172]\n",
      "HEADER_DQ1 [-5.716540539]\n",
      "HEADER_PYCOMIN [0.0]\n",
      "HEADER_SIGE [0.0]\n",
      "HEADER_NPART [0.0]\n",
      "HEADER_LENGTH [628.3185]\n",
      "HEADER_NAME ['PTC_TWISS']\n",
      "HEADER_PYCOMAX [0.0]\n",
      "DISP1 []\n",
      "DISP3 []\n",
      "DISP2 []\n",
      "DISP4 []\n",
      "HEADER_ORIGIN ['MAD-X 5.02.00 Linux 64']\n",
      "Y []\n",
      "HEADER_PXCOMAX [0.0]\n",
      "HEADER_CHARGE [1.0]\n",
      "HEADER_DISP4MAX [0.0]\n",
      "HEADER_DISP4MIN [0.0]\n",
      "\n",
      "Read_PTC_Twiss_Return_Dict found Keywords: \n",
      "* NAME                                S               BETX               BETY               ALFX               ALFY              DISP1              DISP2              DISP3              DISP4                MU1                MU2                  X                 PX                  Y                 PY \n",
      "\n",
      "\n",
      "Read_PTC_Twiss_Return_Dict Dict Keys: \n",
      "['NAME', 'S', 'BETX', 'BETY', 'ALFX', 'ALFY', 'DISP1', 'DISP2', 'DISP3', 'DISP4', 'MU1', 'MU2', 'X', 'PX', 'Y', 'PY']\n",
      "\n",
      "Read_PTC_Twiss_Return_Dict header only dictionary \n",
      "\n",
      "HEADER_ETA_C [-0.134244811]\n",
      "HEADER_TCOMIN [0.0]\n",
      "HEADER_BETA11MIN [11.22620318]\n",
      "HEADER_DELTAP [0.0]\n",
      "HEADER_BETA33MIN [0.0]\n",
      "HEADER_TCOMAX [0.0]\n",
      "HEADER_PC [2.14]\n",
      "HEADER_BETA22MAX [26.01049269]\n",
      "HEADER_BETA12MIN [0.0]\n",
      "HEADER_ALPHA_C [0.02699361015]\n",
      "HEADER_BETA_X_MAX [24.10865526]\n",
      "HEADER_BETA_X_MIN [11.22620318]\n",
      "HEADER_ALPHA_C_P2 [-1000000.0]\n",
      "HEADER_ALPHA_C_P3 [-1000000.0]\n",
      "HEADER_BETA13MIN [0.0]\n",
      "HEADER_TITLE ['Flat file generation for PTC-PyORBIT']\n",
      "HEADER_BETA21MAX [0.0]\n",
      "HEADER_BETA13MAX [0.0]\n",
      "HEADER_BETA11MAX [24.10865526]\n",
      "HEADER_ALPHA_C_P [-0.5909201438]\n",
      "HEADER_PXCOMIN [0.0]\n",
      "HEADER_PYCORMS [0.0]\n",
      "X []\n",
      "HEADER_PARTICLE ['PROTON']\n",
      "HEADER_KBUNCH [1.0]\n",
      "HEADER_PTCORMS [0.0]\n",
      "HEADER_GAMMA_TR [6.086526459]\n",
      "HEADER_ORBIT_PT [0.0]\n",
      "HEADER_BETA33MAX [0.0]\n",
      "HEADER_BETA12MAX [0.0]\n",
      "HEADER_ORBIT_PX [0.0]\n",
      "HEADER_ORBIT_PY [0.0]\n",
      "HEADER_PTCOMAX [0.0]\n",
      "HEADER_BETA32MIN [0.0]\n",
      "HEADER_BETA31MAX [0.0]\n",
      "HEADER_TCORMS [0.0]\n",
      "HEADER_BETA32MAX [0.0]\n",
      "HEADER_DISP2MAX [0.3965543981]\n",
      "HEADER_XCORMS [0.0]\n",
      "HEADER_DATE ['17/08/20']\n",
      "HEADER_DISP2MIN [-0.4061012653]\n",
      "HEADER_BCURRENT [0.0]\n",
      "HEADER_Q1 [0.2095225923]\n",
      "HEADER_Q2 [0.1501335359]\n",
      "HEADER_BETA22MIN [11.09318912]\n",
      "PX []\n",
      "PY []\n",
      "HEADER_PTCOMIN [0.0]\n",
      "HEADER_GAMMA [2.49038064]\n",
      "HEADER_DISP3MAX [0.0]\n",
      "HEADER_QS [0.0]\n",
      "S []\n",
      "HEADER_BETA21MIN [0.0]\n",
      "HEADER_BETA_Y_MAX [26.01049269]\n",
      "HEADER_ENERGY [2.336654539]\n",
      "HEADER_BETA31MIN [0.0]\n",
      "HEADER_SEQUENCE ['PS']\n",
      "HEADER_PXCORMS [0.0]\n",
      "HEADER_BETA_Y_MIN [11.09318912]\n",
      "HEADER_MASS [0.938272046]\n",
      "HEADER_DISP1MIN [0.0]\n",
      "HEADER_DISP1MAX [3.624110803]\n",
      "HEADER_YCORMS [0.0]\n",
      "HEADER_BETA23MIN [0.0]\n",
      "HEADER_ORBIT_Y [0.0]\n",
      "HEADER_ORBIT_X [0.0]\n",
      "HEADER_EX [1.0]\n",
      "HEADER_EY [1.0]\n",
      "HEADER_ET [1.0]\n",
      "BETY []\n",
      "BETX []\n",
      "HEADER_XCOMIN [0.0]\n",
      "HEADER_YCOMIN [0.0]\n",
      "ALFY []\n",
      "ALFX []\n",
      "HEADER_BETA23MAX [0.0]\n",
      "MU1 []\n",
      "NAME []\n",
      "MU2 []\n",
      "HEADER_TYPE ['TWISS']\n",
      "HEADER_FILENAME ['../PTC_Twiss/V_15.tfs']\n",
      "HEADER_YCOMAX [0.0]\n",
      "HEADER_XCOMAX [0.0]\n",
      "HEADER_TIME ['09.41.20']\n",
      "HEADER_SIGT [0.0]\n",
      "HEADER_DISP3MIN [0.0]\n",
      "HEADER_ORBIT_-CT [0.0]\n",
      "HEADER_DQ2 [-7.783319611]\n",
      "HEADER_DQ1 [-5.720966098]\n",
      "HEADER_PYCOMIN [0.0]\n",
      "HEADER_SIGE [0.0]\n",
      "HEADER_NPART [0.0]\n",
      "HEADER_LENGTH [628.3185]\n",
      "HEADER_NAME ['PTC_TWISS']\n",
      "HEADER_PYCOMAX [0.0]\n",
      "DISP1 []\n",
      "DISP3 []\n",
      "DISP2 []\n",
      "DISP4 []\n",
      "HEADER_ORIGIN ['MAD-X 5.02.00 Linux 64']\n",
      "Y []\n",
      "HEADER_PXCOMAX [0.0]\n",
      "HEADER_CHARGE [1.0]\n",
      "HEADER_DISP4MAX [0.0]\n",
      "HEADER_DISP4MIN [0.0]\n",
      "\n",
      "Read_PTC_Twiss_Return_Dict found Keywords: \n",
      "* NAME                                S               BETX               BETY               ALFX               ALFY              DISP1              DISP2              DISP3              DISP4                MU1                MU2                  X                 PX                  Y                 PY \n",
      "\n",
      "\n",
      "Read_PTC_Twiss_Return_Dict Dict Keys: \n",
      "['NAME', 'S', 'BETX', 'BETY', 'ALFX', 'ALFY', 'DISP1', 'DISP2', 'DISP3', 'DISP4', 'MU1', 'MU2', 'X', 'PX', 'Y', 'PY']\n",
      "\n",
      "Read_PTC_Twiss_Return_Dict header only dictionary \n",
      "\n",
      "HEADER_ETA_C [-0.1342418006]\n",
      "HEADER_TCOMIN [0.0]\n",
      "HEADER_BETA11MIN [11.26044412]\n",
      "HEADER_DELTAP [0.0]\n",
      "HEADER_BETA33MIN [0.0]\n",
      "HEADER_TCOMAX [0.0]\n",
      "HEADER_PC [2.14]\n",
      "HEADER_BETA22MAX [25.60039657]\n",
      "HEADER_BETA12MIN [0.0]\n",
      "HEADER_ALPHA_C [0.02699662061]\n",
      "HEADER_BETA_X_MAX [24.03179154]\n",
      "HEADER_BETA_X_MIN [11.26044412]\n",
      "HEADER_ALPHA_C_P2 [-1000000.0]\n",
      "HEADER_ALPHA_C_P3 [-1000000.0]\n",
      "HEADER_BETA13MIN [0.0]\n",
      "HEADER_TITLE ['Flat file generation for PTC-PyORBIT']\n",
      "HEADER_BETA21MAX [0.0]\n",
      "HEADER_BETA13MAX [0.0]\n",
      "HEADER_BETA11MAX [24.03179154]\n",
      "HEADER_ALPHA_C_P [-0.591040252]\n",
      "HEADER_PXCOMIN [0.0]\n",
      "HEADER_PYCORMS [0.0]\n",
      "X []\n",
      "HEADER_PARTICLE ['PROTON']\n",
      "HEADER_KBUNCH [1.0]\n",
      "HEADER_PTCORMS [0.0]\n",
      "HEADER_GAMMA_TR [6.086187087]\n",
      "HEADER_ORBIT_PT [0.0]\n",
      "HEADER_BETA33MAX [0.0]\n",
      "HEADER_BETA12MAX [0.0]\n",
      "HEADER_ORBIT_PX [0.0]\n",
      "HEADER_ORBIT_PY [0.0]\n",
      "HEADER_PTCOMAX [0.0]\n",
      "HEADER_BETA32MIN [0.0]\n",
      "HEADER_BETA31MAX [0.0]\n",
      "HEADER_TCORMS [0.0]\n",
      "HEADER_BETA32MAX [0.0]\n",
      "HEADER_DISP2MAX [0.3958010759]\n",
      "HEADER_XCORMS [0.0]\n",
      "HEADER_DATE ['17/08/20']\n",
      "HEADER_DISP2MIN [-0.4044385423]\n",
      "HEADER_BCURRENT [0.0]\n",
      "HEADER_Q1 [0.2095201669]\n",
      "HEADER_Q2 [0.1601314089]\n",
      "HEADER_BETA22MIN [11.16031818]\n",
      "PX []\n",
      "PY []\n",
      "HEADER_PTCOMIN [0.0]\n",
      "HEADER_GAMMA [2.49038064]\n",
      "HEADER_DISP3MAX [0.0]\n",
      "HEADER_QS [0.0]\n",
      "S []\n",
      "HEADER_BETA21MIN [0.0]\n",
      "HEADER_BETA_Y_MAX [25.60039657]\n",
      "HEADER_ENERGY [2.336654539]\n",
      "HEADER_BETA31MIN [0.0]\n",
      "HEADER_SEQUENCE ['PS']\n",
      "HEADER_PXCORMS [0.0]\n",
      "HEADER_BETA_Y_MIN [11.16031818]\n",
      "HEADER_MASS [0.938272046]\n",
      "HEADER_DISP1MIN [0.0]\n",
      "HEADER_DISP1MAX [3.613056553]\n",
      "HEADER_YCORMS [0.0]\n",
      "HEADER_BETA23MIN [0.0]\n",
      "HEADER_ORBIT_Y [0.0]\n",
      "HEADER_ORBIT_X [0.0]\n",
      "HEADER_EX [1.0]\n",
      "HEADER_EY [1.0]\n",
      "HEADER_ET [1.0]\n",
      "BETY []\n",
      "BETX []\n",
      "HEADER_XCOMIN [0.0]\n",
      "HEADER_YCOMIN [0.0]\n",
      "ALFY []\n",
      "ALFX []\n",
      "HEADER_BETA23MAX [0.0]\n",
      "MU1 []\n",
      "NAME []\n",
      "MU2 []\n",
      "HEADER_TYPE ['TWISS']\n",
      "HEADER_FILENAME ['../PTC_Twiss/V_16.tfs']\n",
      "HEADER_YCOMAX [0.0]\n",
      "HEADER_XCOMAX [0.0]\n",
      "HEADER_TIME ['09.41.21']\n",
      "HEADER_SIGT [0.0]\n",
      "HEADER_DISP3MIN [0.0]\n",
      "HEADER_ORBIT_-CT [0.0]\n",
      "HEADER_DQ2 [-7.781346391]\n",
      "HEADER_DQ1 [-5.725482955]\n",
      "HEADER_PYCOMIN [0.0]\n",
      "HEADER_SIGE [0.0]\n",
      "HEADER_NPART [0.0]\n",
      "HEADER_LENGTH [628.3185]\n",
      "HEADER_NAME ['PTC_TWISS']\n",
      "HEADER_PYCOMAX [0.0]\n",
      "DISP1 []\n",
      "DISP3 []\n",
      "DISP2 []\n",
      "DISP4 []\n",
      "HEADER_ORIGIN ['MAD-X 5.02.00 Linux 64']\n",
      "Y []\n",
      "HEADER_PXCOMAX [0.0]\n",
      "HEADER_CHARGE [1.0]\n",
      "HEADER_DISP4MAX [0.0]\n",
      "HEADER_DISP4MIN [0.0]\n",
      "\n",
      "Read_PTC_Twiss_Return_Dict found Keywords: \n",
      "* NAME                                S               BETX               BETY               ALFX               ALFY              DISP1              DISP2              DISP3              DISP4                MU1                MU2                  X                 PX                  Y                 PY \n",
      "\n",
      "\n",
      "Read_PTC_Twiss_Return_Dict Dict Keys: \n",
      "['NAME', 'S', 'BETX', 'BETY', 'ALFX', 'ALFY', 'DISP1', 'DISP2', 'DISP3', 'DISP4', 'MU1', 'MU2', 'X', 'PX', 'Y', 'PY']\n",
      "\n",
      "Read_PTC_Twiss_Return_Dict header only dictionary \n",
      "\n",
      "HEADER_ETA_C [-0.1342387962]\n",
      "HEADER_TCOMIN [0.0]\n",
      "HEADER_BETA11MIN [11.29470767]\n",
      "HEADER_DELTAP [0.0]\n",
      "HEADER_BETA33MIN [0.0]\n",
      "HEADER_TCOMAX [0.0]\n",
      "HEADER_PC [2.14]\n",
      "HEADER_BETA22MAX [25.22469493]\n",
      "HEADER_BETA12MIN [0.0]\n",
      "HEADER_ALPHA_C [0.02699962498]\n",
      "HEADER_BETA_X_MAX [23.95595974]\n",
      "HEADER_BETA_X_MIN [11.29470767]\n",
      "HEADER_ALPHA_C_P2 [-1000000.0]\n",
      "HEADER_ALPHA_C_P3 [-1000000.0]\n",
      "HEADER_BETA13MIN [0.0]\n",
      "HEADER_TITLE ['Flat file generation for PTC-PyORBIT']\n",
      "HEADER_BETA21MAX [0.0]\n",
      "HEADER_BETA13MAX [0.0]\n",
      "HEADER_BETA11MAX [23.95595974]\n",
      "HEADER_ALPHA_C_P [-0.5911621276]\n",
      "HEADER_PXCOMIN [0.0]\n",
      "HEADER_PYCORMS [0.0]\n",
      "X []\n",
      "HEADER_PARTICLE ['PROTON']\n",
      "HEADER_KBUNCH [1.0]\n",
      "HEADER_PTCORMS [0.0]\n",
      "HEADER_GAMMA_TR [6.085848459]\n",
      "HEADER_ORBIT_PT [0.0]\n",
      "HEADER_BETA33MAX [0.0]\n",
      "HEADER_BETA12MAX [0.0]\n",
      "HEADER_ORBIT_PX [0.0]\n",
      "HEADER_ORBIT_PY [0.0]\n",
      "HEADER_PTCOMAX [0.0]\n",
      "HEADER_BETA32MIN [0.0]\n",
      "HEADER_BETA31MAX [0.0]\n",
      "HEADER_TCORMS [0.0]\n",
      "HEADER_BETA32MAX [0.0]\n",
      "HEADER_DISP2MAX [0.3950514866]\n",
      "HEADER_XCORMS [0.0]\n",
      "HEADER_DATE ['17/08/20']\n",
      "HEADER_DISP2MIN [-0.402781771]\n",
      "HEADER_BCURRENT [0.0]\n",
      "HEADER_Q1 [0.2095181072]\n",
      "HEADER_Q2 [0.1701295112]\n",
      "HEADER_BETA22MIN [11.22081878]\n",
      "PX []\n",
      "PY []\n",
      "HEADER_PTCOMIN [0.0]\n",
      "HEADER_GAMMA [2.49038064]\n",
      "HEADER_DISP3MAX [0.0]\n",
      "HEADER_QS [0.0]\n",
      "S []\n",
      "HEADER_BETA21MIN [0.0]\n",
      "HEADER_BETA_Y_MAX [25.22469493]\n",
      "HEADER_ENERGY [2.336654539]\n",
      "HEADER_BETA31MIN [0.0]\n",
      "HEADER_SEQUENCE ['PS']\n",
      "HEADER_PXCORMS [0.0]\n",
      "HEADER_BETA_Y_MIN [11.22081878]\n",
      "HEADER_MASS [0.938272046]\n",
      "HEADER_DISP1MIN [0.0]\n",
      "HEADER_DISP1MAX [3.60204505]\n",
      "HEADER_YCORMS [0.0]\n",
      "HEADER_BETA23MIN [0.0]\n",
      "HEADER_ORBIT_Y [0.0]\n",
      "HEADER_ORBIT_X [0.0]\n",
      "HEADER_EX [1.0]\n",
      "HEADER_EY [1.0]\n",
      "HEADER_ET [1.0]\n",
      "BETY []\n",
      "BETX []\n",
      "HEADER_XCOMIN [0.0]\n",
      "HEADER_YCOMIN [0.0]\n",
      "ALFY []\n",
      "ALFX []\n",
      "HEADER_BETA23MAX [0.0]\n",
      "MU1 []\n",
      "NAME []\n",
      "MU2 []\n",
      "HEADER_TYPE ['TWISS']\n",
      "HEADER_FILENAME ['../PTC_Twiss/V_17.tfs']\n",
      "HEADER_YCOMAX [0.0]\n",
      "HEADER_XCOMAX [0.0]\n",
      "HEADER_TIME ['09.41.22']\n",
      "HEADER_SIGT [0.0]\n",
      "HEADER_DISP3MIN [0.0]\n",
      "HEADER_ORBIT_-CT [0.0]\n",
      "HEADER_DQ2 [-7.780548401]\n",
      "HEADER_DQ1 [-5.730088836]\n",
      "HEADER_PYCOMIN [0.0]\n",
      "HEADER_SIGE [0.0]\n",
      "HEADER_NPART [0.0]\n",
      "HEADER_LENGTH [628.3185]\n",
      "HEADER_NAME ['PTC_TWISS']\n",
      "HEADER_PYCOMAX [0.0]\n",
      "DISP1 []\n",
      "DISP3 []\n",
      "DISP2 []\n",
      "DISP4 []\n",
      "HEADER_ORIGIN ['MAD-X 5.02.00 Linux 64']\n",
      "Y []\n",
      "HEADER_PXCOMAX [0.0]\n",
      "HEADER_CHARGE [1.0]\n",
      "HEADER_DISP4MAX [0.0]\n",
      "HEADER_DISP4MIN [0.0]\n",
      "\n",
      "Read_PTC_Twiss_Return_Dict found Keywords: \n",
      "* NAME                                S               BETX               BETY               ALFX               ALFY              DISP1              DISP2              DISP3              DISP4                MU1                MU2                  X                 PX                  Y                 PY \n",
      "\n",
      "\n",
      "Read_PTC_Twiss_Return_Dict Dict Keys: \n",
      "['NAME', 'S', 'BETX', 'BETY', 'ALFX', 'ALFY', 'DISP1', 'DISP2', 'DISP3', 'DISP4', 'MU1', 'MU2', 'X', 'PX', 'Y', 'PY']\n",
      "\n",
      "Read_PTC_Twiss_Return_Dict header only dictionary \n",
      "\n",
      "HEADER_ETA_C [-0.1342357985]\n",
      "HEADER_TCOMIN [0.0]\n",
      "HEADER_BETA11MIN [11.32898616]\n",
      "HEADER_DELTAP [0.0]\n",
      "HEADER_BETA33MIN [0.0]\n",
      "HEADER_TCOMAX [0.0]\n",
      "HEADER_PC [2.14]\n",
      "HEADER_BETA22MAX [24.87775858]\n",
      "HEADER_BETA12MIN [0.0]\n",
      "HEADER_ALPHA_C [0.02700262268]\n",
      "HEADER_BETA_X_MAX [23.88116053]\n",
      "HEADER_BETA_X_MIN [11.32898616]\n",
      "HEADER_ALPHA_C_P2 [-1000000.0]\n",
      "HEADER_ALPHA_C_P3 [-1000000.0]\n",
      "HEADER_BETA13MIN [0.0]\n",
      "HEADER_TITLE ['Flat file generation for PTC-PyORBIT']\n",
      "HEADER_BETA21MAX [0.0]\n",
      "HEADER_BETA13MAX [0.0]\n",
      "HEADER_BETA11MAX [23.88116053]\n",
      "HEADER_ALPHA_C_P [-0.5912857271]\n",
      "HEADER_PXCOMIN [0.0]\n",
      "HEADER_PYCORMS [0.0]\n",
      "X []\n",
      "HEADER_PARTICLE ['PROTON']\n",
      "HEADER_KBUNCH [1.0]\n",
      "HEADER_PTCORMS [0.0]\n",
      "HEADER_GAMMA_TR [6.085510639]\n",
      "HEADER_ORBIT_PT [0.0]\n",
      "HEADER_BETA33MAX [0.0]\n",
      "HEADER_BETA12MAX [0.0]\n",
      "HEADER_ORBIT_PX [0.0]\n",
      "HEADER_ORBIT_PY [0.0]\n",
      "HEADER_PTCOMAX [0.0]\n",
      "HEADER_BETA32MIN [0.0]\n",
      "HEADER_BETA31MAX [0.0]\n",
      "HEADER_TCORMS [0.0]\n",
      "HEADER_BETA32MAX [0.0]\n",
      "HEADER_DISP2MAX [0.3943057122]\n",
      "HEADER_XCORMS [0.0]\n",
      "HEADER_DATE ['17/08/20']\n",
      "HEADER_DISP2MIN [-0.4011311946]\n",
      "HEADER_BCURRENT [0.0]\n",
      "HEADER_Q1 [0.2095163768]\n",
      "HEADER_Q2 [0.1801278383]\n",
      "HEADER_BETA22MIN [11.27558548]\n",
      "PX []\n",
      "PY []\n",
      "HEADER_PTCOMIN [0.0]\n",
      "HEADER_GAMMA [2.49038064]\n",
      "HEADER_DISP3MAX [0.0]\n",
      "HEADER_QS [0.0]\n",
      "S []\n",
      "HEADER_BETA21MIN [0.0]\n",
      "HEADER_BETA_Y_MAX [24.87775858]\n",
      "HEADER_ENERGY [2.336654539]\n",
      "HEADER_BETA31MIN [0.0]\n",
      "HEADER_SEQUENCE ['PS']\n",
      "HEADER_PXCORMS [0.0]\n",
      "HEADER_BETA_Y_MIN [11.27558548]\n",
      "HEADER_MASS [0.938272046]\n",
      "HEADER_DISP1MIN [0.0]\n",
      "HEADER_DISP1MAX [3.591077827]\n",
      "HEADER_YCORMS [0.0]\n",
      "HEADER_BETA23MIN [0.0]\n",
      "HEADER_ORBIT_Y [0.0]\n",
      "HEADER_ORBIT_X [0.0]\n",
      "HEADER_EX [1.0]\n",
      "HEADER_EY [1.0]\n",
      "HEADER_ET [1.0]\n",
      "BETY []\n",
      "BETX []\n",
      "HEADER_XCOMIN [0.0]\n",
      "HEADER_YCOMIN [0.0]\n",
      "ALFY []\n",
      "ALFX []\n",
      "HEADER_BETA23MAX [0.0]\n",
      "MU1 []\n",
      "NAME []\n",
      "MU2 []\n",
      "HEADER_TYPE ['TWISS']\n",
      "HEADER_FILENAME ['../PTC_Twiss/V_18.tfs']\n",
      "HEADER_YCOMAX [0.0]\n",
      "HEADER_XCOMAX [0.0]\n",
      "HEADER_TIME ['09.41.22']\n",
      "HEADER_SIGT [0.0]\n",
      "HEADER_DISP3MIN [0.0]\n",
      "HEADER_ORBIT_-CT [0.0]\n",
      "HEADER_DQ2 [-7.78067588]\n",
      "HEADER_DQ1 [-5.734781645]\n",
      "HEADER_PYCOMIN [0.0]\n",
      "HEADER_SIGE [0.0]\n",
      "HEADER_NPART [0.0]\n",
      "HEADER_LENGTH [628.3185]\n",
      "HEADER_NAME ['PTC_TWISS']\n",
      "HEADER_PYCOMAX [0.0]\n",
      "DISP1 []\n",
      "DISP3 []\n",
      "DISP2 []\n",
      "DISP4 []\n",
      "HEADER_ORIGIN ['MAD-X 5.02.00 Linux 64']\n",
      "Y []\n",
      "HEADER_PXCOMAX [0.0]\n",
      "HEADER_CHARGE [1.0]\n",
      "HEADER_DISP4MAX [0.0]\n",
      "HEADER_DISP4MIN [0.0]\n",
      "\n",
      "Read_PTC_Twiss_Return_Dict found Keywords: \n",
      "* NAME                                S               BETX               BETY               ALFX               ALFY              DISP1              DISP2              DISP3              DISP4                MU1                MU2                  X                 PX                  Y                 PY \n",
      "\n",
      "\n",
      "Read_PTC_Twiss_Return_Dict Dict Keys: \n",
      "['NAME', 'S', 'BETX', 'BETY', 'ALFX', 'ALFY', 'DISP1', 'DISP2', 'DISP3', 'DISP4', 'MU1', 'MU2', 'X', 'PX', 'Y', 'PY']\n",
      "\n",
      "Read_PTC_Twiss_Return_Dict header only dictionary \n",
      "\n",
      "HEADER_ETA_C [-0.1342328079]\n",
      "HEADER_TCOMIN [0.0]\n",
      "HEADER_BETA11MIN [11.3632733]\n",
      "HEADER_DELTAP [0.0]\n",
      "HEADER_BETA33MIN [0.0]\n",
      "HEADER_TCOMAX [0.0]\n",
      "HEADER_PC [2.14]\n",
      "HEADER_BETA22MAX [24.55518249]\n",
      "HEADER_BETA12MIN [0.0]\n",
      "HEADER_ALPHA_C [0.02700561327]\n",
      "HEADER_BETA_X_MAX [23.80739117]\n",
      "HEADER_BETA_X_MIN [11.3632733]\n",
      "HEADER_ALPHA_C_P2 [-1000000.0]\n",
      "HEADER_ALPHA_C_P3 [-1000000.0]\n",
      "HEADER_BETA13MIN [0.0]\n",
      "HEADER_TITLE ['Flat file generation for PTC-PyORBIT']\n",
      "HEADER_BETA21MAX [0.0]\n",
      "HEADER_BETA13MAX [0.0]\n",
      "HEADER_BETA11MAX [23.80739117]\n",
      "HEADER_ALPHA_C_P [-0.591411011]\n",
      "HEADER_PXCOMIN [0.0]\n",
      "HEADER_PYCORMS [0.0]\n",
      "X []\n",
      "HEADER_PARTICLE ['PROTON']\n",
      "HEADER_KBUNCH [1.0]\n",
      "HEADER_PTCORMS [0.0]\n",
      "HEADER_GAMMA_TR [6.085173677]\n",
      "HEADER_ORBIT_PT [0.0]\n",
      "HEADER_BETA33MAX [0.0]\n",
      "HEADER_BETA12MAX [0.0]\n",
      "HEADER_ORBIT_PX [0.0]\n",
      "HEADER_ORBIT_PY [0.0]\n",
      "HEADER_PTCOMAX [0.0]\n",
      "HEADER_BETA32MIN [0.0]\n",
      "HEADER_BETA31MAX [0.0]\n",
      "HEADER_TCORMS [0.0]\n",
      "HEADER_BETA32MAX [0.0]\n",
      "HEADER_DISP2MAX [0.3935638043]\n",
      "HEADER_XCORMS [0.0]\n",
      "HEADER_DATE ['17/08/20']\n",
      "HEADER_DISP2MIN [-0.3994869895]\n",
      "HEADER_BCURRENT [0.0]\n",
      "HEADER_Q1 [0.2095149386]\n",
      "HEADER_Q2 [0.1901263772]\n",
      "HEADER_BETA22MIN [11.32473466]\n",
      "PX []\n",
      "PY []\n",
      "HEADER_PTCOMIN [0.0]\n",
      "HEADER_GAMMA [2.49038064]\n",
      "HEADER_DISP3MAX [0.0]\n",
      "HEADER_QS [0.0]\n",
      "S []\n",
      "HEADER_BETA21MIN [0.0]\n",
      "HEADER_BETA_Y_MAX [24.55518249]\n",
      "HEADER_ENERGY [2.336654539]\n",
      "HEADER_BETA31MIN [0.0]\n",
      "HEADER_SEQUENCE ['PS']\n",
      "HEADER_PXCORMS [0.0]\n",
      "HEADER_BETA_Y_MIN [11.32473466]\n",
      "HEADER_MASS [0.938272046]\n",
      "HEADER_DISP1MIN [0.0]\n",
      "HEADER_DISP1MAX [3.580155968]\n",
      "HEADER_YCORMS [0.0]\n",
      "HEADER_BETA23MIN [0.0]\n",
      "HEADER_ORBIT_Y [0.0]\n",
      "HEADER_ORBIT_X [0.0]\n",
      "HEADER_EX [1.0]\n",
      "HEADER_EY [1.0]\n",
      "HEADER_ET [1.0]\n",
      "BETY []\n",
      "BETX []\n",
      "HEADER_XCOMIN [0.0]\n",
      "HEADER_YCOMIN [0.0]\n",
      "ALFY []\n",
      "ALFX []\n",
      "HEADER_BETA23MAX [0.0]\n",
      "MU1 []\n",
      "NAME []\n",
      "MU2 []\n",
      "HEADER_TYPE ['TWISS']\n",
      "HEADER_FILENAME ['../PTC_Twiss/V_19.tfs']\n",
      "HEADER_YCOMAX [0.0]\n",
      "HEADER_XCOMAX [0.0]\n",
      "HEADER_TIME ['09.42.12']\n",
      "HEADER_SIGT [0.0]\n",
      "HEADER_DISP3MIN [0.0]\n",
      "HEADER_ORBIT_-CT [0.0]\n",
      "HEADER_DQ2 [-7.781546833]\n",
      "HEADER_DQ1 [-5.739559433]\n",
      "HEADER_PYCOMIN [0.0]\n",
      "HEADER_SIGE [0.0]\n",
      "HEADER_NPART [0.0]\n",
      "HEADER_LENGTH [628.3185]\n",
      "HEADER_NAME ['PTC_TWISS']\n",
      "HEADER_PYCOMAX [0.0]\n",
      "DISP1 []\n",
      "DISP3 []\n",
      "DISP2 []\n",
      "DISP4 []\n",
      "HEADER_ORIGIN ['MAD-X 5.02.00 Linux 64']\n",
      "Y []\n",
      "HEADER_PXCOMAX [0.0]\n",
      "HEADER_CHARGE [1.0]\n",
      "HEADER_DISP4MAX [0.0]\n",
      "HEADER_DISP4MIN [0.0]\n",
      "\n",
      "Read_PTC_Twiss_Return_Dict found Keywords: \n",
      "* NAME                                S               BETX               BETY               ALFX               ALFY              DISP1              DISP2              DISP3              DISP4                MU1                MU2                  X                 PX                  Y                 PY \n",
      "\n",
      "\n",
      "Read_PTC_Twiss_Return_Dict Dict Keys: \n",
      "['NAME', 'S', 'BETX', 'BETY', 'ALFX', 'ALFY', 'DISP1', 'DISP2', 'DISP3', 'DISP4', 'MU1', 'MU2', 'X', 'PX', 'Y', 'PY']\n",
      "\n",
      "Read_PTC_Twiss_Return_Dict header only dictionary \n",
      "\n",
      "HEADER_ETA_C [-0.1342298248]\n",
      "HEADER_TCOMIN [0.0]\n",
      "HEADER_BETA11MIN [11.39756383]\n",
      "HEADER_DELTAP [0.0]\n",
      "HEADER_BETA33MIN [0.0]\n",
      "HEADER_TCOMAX [0.0]\n",
      "HEADER_PC [2.14]\n",
      "HEADER_BETA22MAX [24.25346862]\n",
      "HEADER_BETA12MIN [0.0]\n",
      "HEADER_ALPHA_C [0.0270085964]\n",
      "HEADER_BETA_X_MAX [23.73464642]\n",
      "HEADER_BETA_X_MIN [11.39756383]\n",
      "HEADER_ALPHA_C_P2 [-1000000.0]\n",
      "HEADER_ALPHA_C_P3 [-1000000.0]\n",
      "HEADER_BETA13MIN [0.0]\n",
      "HEADER_TITLE ['Flat file generation for PTC-PyORBIT']\n",
      "HEADER_BETA21MAX [0.0]\n",
      "HEADER_BETA13MAX [0.0]\n"
     ]
    },
    {
     "name": "stdout",
     "output_type": "stream",
     "text": [
      "HEADER_BETA11MAX [23.73464642]\n",
      "HEADER_ALPHA_C_P [-0.5915379432]\n",
      "HEADER_PXCOMIN [0.0]\n",
      "HEADER_PYCORMS [0.0]\n",
      "X []\n",
      "HEADER_PARTICLE ['PROTON']\n",
      "HEADER_KBUNCH [1.0]\n",
      "HEADER_PTCORMS [0.0]\n",
      "HEADER_GAMMA_TR [6.08483761]\n",
      "HEADER_ORBIT_PT [0.0]\n",
      "HEADER_BETA33MAX [0.0]\n",
      "HEADER_BETA12MAX [0.0]\n",
      "HEADER_ORBIT_PX [0.0]\n",
      "HEADER_ORBIT_PY [0.0]\n",
      "HEADER_PTCOMAX [0.0]\n",
      "HEADER_BETA32MIN [0.0]\n",
      "HEADER_BETA31MAX [0.0]\n",
      "HEADER_TCORMS [0.0]\n",
      "HEADER_BETA32MAX [0.0]\n",
      "HEADER_DISP2MAX [0.3928257921]\n",
      "HEADER_XCORMS [0.0]\n",
      "HEADER_DATE ['17/08/20']\n",
      "HEADER_DISP2MIN [-0.3978492813]\n",
      "HEADER_BCURRENT [0.0]\n",
      "HEADER_Q1 [0.2095137562]\n",
      "HEADER_Q2 [0.20012511]\n",
      "HEADER_BETA22MIN [11.36932189]\n",
      "PX []\n",
      "PY []\n",
      "HEADER_PTCOMIN [0.0]\n",
      "HEADER_GAMMA [2.49038064]\n",
      "HEADER_DISP3MAX [0.0]\n",
      "HEADER_QS [0.0]\n",
      "S []\n",
      "HEADER_BETA21MIN [0.0]\n",
      "HEADER_BETA_Y_MAX [24.25346862]\n",
      "HEADER_ENERGY [2.336654539]\n",
      "HEADER_BETA31MIN [0.0]\n",
      "HEADER_SEQUENCE ['PS']\n",
      "HEADER_PXCORMS [0.0]\n",
      "HEADER_BETA_Y_MIN [11.36932189]\n",
      "HEADER_MASS [0.938272046]\n",
      "HEADER_DISP1MIN [0.0]\n",
      "HEADER_DISP1MAX [3.569280222]\n",
      "HEADER_YCORMS [0.0]\n",
      "HEADER_BETA23MIN [0.0]\n",
      "HEADER_ORBIT_Y [0.0]\n",
      "HEADER_ORBIT_X [0.0]\n",
      "HEADER_EX [1.0]\n",
      "HEADER_EY [1.0]\n",
      "HEADER_ET [1.0]\n",
      "BETY []\n",
      "BETX []\n",
      "HEADER_XCOMIN [0.0]\n",
      "HEADER_YCOMIN [0.0]\n",
      "ALFY []\n",
      "ALFX []\n",
      "HEADER_BETA23MAX [0.0]\n",
      "MU1 []\n",
      "NAME []\n",
      "MU2 []\n",
      "HEADER_TYPE ['TWISS']\n",
      "HEADER_FILENAME ['../PTC_Twiss/V_20.tfs']\n",
      "HEADER_YCOMAX [0.0]\n",
      "HEADER_XCOMAX [0.0]\n",
      "HEADER_TIME ['12.00.03']\n",
      "HEADER_SIGT [0.0]\n",
      "HEADER_DISP3MIN [0.0]\n",
      "HEADER_ORBIT_-CT [0.0]\n",
      "HEADER_DQ2 [-7.783026442]\n",
      "HEADER_DQ1 [-5.744420366]\n",
      "HEADER_PYCOMIN [0.0]\n",
      "HEADER_SIGE [0.0]\n",
      "HEADER_NPART [0.0]\n",
      "HEADER_LENGTH [628.3185]\n",
      "HEADER_NAME ['PTC_TWISS']\n",
      "HEADER_PYCOMAX [0.0]\n",
      "DISP1 []\n",
      "DISP3 []\n",
      "DISP2 []\n",
      "DISP4 []\n",
      "HEADER_ORIGIN ['MAD-X 5.02.00 Linux 64']\n",
      "Y []\n",
      "HEADER_PXCOMAX [0.0]\n",
      "HEADER_CHARGE [1.0]\n",
      "HEADER_DISP4MAX [0.0]\n",
      "HEADER_DISP4MIN [0.0]\n",
      "\n",
      "Read_PTC_Twiss_Return_Dict found Keywords: \n",
      "* NAME                                S               BETX               BETY               ALFX               ALFY              DISP1              DISP2              DISP3              DISP4                MU1                MU2                  X                 PX                  Y                 PY \n",
      "\n",
      "\n",
      "Read_PTC_Twiss_Return_Dict Dict Keys: \n",
      "['NAME', 'S', 'BETX', 'BETY', 'ALFX', 'ALFY', 'DISP1', 'DISP2', 'DISP3', 'DISP4', 'MU1', 'MU2', 'X', 'PX', 'Y', 'PY']\n",
      "\n",
      "Read_PTC_Twiss_Return_Dict header only dictionary \n",
      "\n",
      "HEADER_ETA_C [-0.1342268494]\n",
      "HEADER_TCOMIN [0.0]\n",
      "HEADER_BETA11MIN [11.43185331]\n",
      "HEADER_DELTAP [0.0]\n",
      "HEADER_BETA33MIN [0.0]\n",
      "HEADER_TCOMAX [0.0]\n",
      "HEADER_PC [2.14]\n",
      "HEADER_BETA22MAX [23.96980246]\n",
      "HEADER_BETA12MIN [0.0]\n",
      "HEADER_ALPHA_C [0.02701157179]\n",
      "HEADER_BETA_X_MAX [23.66291917]\n",
      "HEADER_BETA_X_MIN [11.43185331]\n",
      "HEADER_ALPHA_C_P2 [-1000000.0]\n",
      "HEADER_ALPHA_C_P3 [-1000000.0]\n",
      "HEADER_BETA13MIN [0.0]\n",
      "HEADER_TITLE ['Flat file generation for PTC-PyORBIT']\n",
      "HEADER_BETA21MAX [0.0]\n",
      "HEADER_BETA13MAX [0.0]\n",
      "HEADER_BETA11MAX [23.66291917]\n",
      "HEADER_ALPHA_C_P [-0.5916664898]\n",
      "HEADER_PXCOMIN [0.0]\n",
      "HEADER_PYCORMS [0.0]\n",
      "X []\n",
      "HEADER_PARTICLE ['PROTON']\n",
      "HEADER_KBUNCH [1.0]\n",
      "HEADER_PTCORMS [0.0]\n",
      "HEADER_GAMMA_TR [6.084502471]\n",
      "HEADER_ORBIT_PT [0.0]\n",
      "HEADER_BETA33MAX [0.0]\n",
      "HEADER_BETA12MAX [0.0]\n",
      "HEADER_ORBIT_PX [0.0]\n",
      "HEADER_ORBIT_PY [0.0]\n",
      "HEADER_PTCOMAX [0.0]\n",
      "HEADER_BETA32MIN [0.0]\n",
      "HEADER_BETA31MAX [0.0]\n",
      "HEADER_TCORMS [0.0]\n",
      "HEADER_BETA32MAX [0.0]\n",
      "HEADER_DISP2MAX [0.3920916871]\n",
      "HEADER_XCORMS [0.0]\n",
      "HEADER_DATE ['18/08/20']\n",
      "HEADER_DISP2MIN [-0.3962181562]\n",
      "HEADER_BCURRENT [0.0]\n",
      "HEADER_Q1 [0.2095127945]\n",
      "HEADER_Q2 [0.2101240161]\n",
      "HEADER_BETA22MIN [11.4102039]\n",
      "PX []\n",
      "PY []\n",
      "HEADER_PTCOMIN [0.0]\n",
      "HEADER_GAMMA [2.49038064]\n",
      "HEADER_DISP3MAX [0.0]\n",
      "HEADER_QS [0.0]\n",
      "S []\n",
      "HEADER_BETA21MIN [0.0]\n",
      "HEADER_BETA_Y_MAX [23.96980246]\n",
      "HEADER_ENERGY [2.336654539]\n",
      "HEADER_BETA31MIN [0.0]\n",
      "HEADER_SEQUENCE ['PS']\n",
      "HEADER_PXCORMS [0.0]\n",
      "HEADER_BETA_Y_MIN [11.4102039]\n",
      "HEADER_MASS [0.938272046]\n",
      "HEADER_DISP1MIN [0.0]\n",
      "HEADER_DISP1MAX [3.55845108]\n",
      "HEADER_YCORMS [0.0]\n",
      "HEADER_BETA23MIN [0.0]\n",
      "HEADER_ORBIT_Y [0.0]\n",
      "HEADER_ORBIT_X [0.0]\n",
      "HEADER_EX [1.0]\n",
      "HEADER_EY [1.0]\n",
      "HEADER_ET [1.0]\n",
      "BETY []\n",
      "BETX []\n",
      "HEADER_XCOMIN [0.0]\n",
      "HEADER_YCOMIN [0.0]\n",
      "ALFY []\n",
      "ALFX []\n",
      "HEADER_BETA23MAX [0.0]\n",
      "MU1 []\n",
      "NAME []\n",
      "MU2 []\n",
      "HEADER_TYPE ['TWISS']\n",
      "HEADER_FILENAME ['../PTC_Twiss/V_21.tfs']\n",
      "HEADER_YCOMAX [0.0]\n",
      "HEADER_XCOMAX [0.0]\n",
      "HEADER_TIME ['12.32.02']\n",
      "HEADER_SIGT [0.0]\n",
      "HEADER_DISP3MIN [0.0]\n",
      "HEADER_ORBIT_-CT [0.0]\n",
      "HEADER_DQ2 [-7.785013328]\n",
      "HEADER_DQ1 [-5.749362705]\n",
      "HEADER_PYCOMIN [0.0]\n",
      "HEADER_SIGE [0.0]\n",
      "HEADER_NPART [0.0]\n",
      "HEADER_LENGTH [628.3185]\n",
      "HEADER_NAME ['PTC_TWISS']\n",
      "HEADER_PYCOMAX [0.0]\n",
      "DISP1 []\n",
      "DISP3 []\n",
      "DISP2 []\n",
      "DISP4 []\n",
      "HEADER_ORIGIN ['MAD-X 5.02.00 Linux 64']\n",
      "Y []\n",
      "HEADER_PXCOMAX [0.0]\n",
      "HEADER_CHARGE [1.0]\n",
      "HEADER_DISP4MAX [0.0]\n",
      "HEADER_DISP4MIN [0.0]\n",
      "\n",
      "Read_PTC_Twiss_Return_Dict found Keywords: \n",
      "* NAME                                S               BETX               BETY               ALFX               ALFY              DISP1              DISP2              DISP3              DISP4                MU1                MU2                  X                 PX                  Y                 PY \n",
      "\n",
      "\n",
      "Read_PTC_Twiss_Return_Dict Dict Keys: \n",
      "['NAME', 'S', 'BETX', 'BETY', 'ALFX', 'ALFY', 'DISP1', 'DISP2', 'DISP3', 'DISP4', 'MU1', 'MU2', 'X', 'PX', 'Y', 'PY']\n",
      "\n",
      "Read_PTC_Twiss_Return_Dict header only dictionary \n",
      "\n",
      "HEADER_ETA_C [-0.134223882]\n",
      "HEADER_TCOMIN [0.0]\n",
      "HEADER_BETA11MIN [11.46613797]\n",
      "HEADER_DELTAP [0.0]\n",
      "HEADER_BETA33MIN [0.0]\n",
      "HEADER_TCOMAX [0.0]\n",
      "HEADER_PC [2.14]\n",
      "HEADER_BETA22MAX [23.70189262]\n",
      "HEADER_BETA12MIN [0.0]\n",
      "HEADER_ALPHA_C [0.02701453921]\n",
      "HEADER_BETA_X_MAX [23.59220087]\n",
      "HEADER_BETA_X_MIN [11.46613797]\n",
      "HEADER_ALPHA_C_P2 [-1000000.0]\n",
      "HEADER_ALPHA_C_P3 [-1000000.0]\n",
      "HEADER_BETA13MIN [0.0]\n",
      "HEADER_TITLE ['Flat file generation for PTC-PyORBIT']\n",
      "HEADER_BETA21MAX [0.0]\n",
      "HEADER_BETA13MAX [0.0]\n",
      "HEADER_BETA11MAX [23.59220087]\n",
      "HEADER_ALPHA_C_P [-0.5917966195]\n",
      "HEADER_PXCOMIN [0.0]\n",
      "HEADER_PYCORMS [0.0]\n",
      "X []\n",
      "HEADER_PARTICLE ['PROTON']\n",
      "HEADER_KBUNCH [1.0]\n",
      "HEADER_PTCORMS [0.0]\n",
      "HEADER_GAMMA_TR [6.084168285]\n",
      "HEADER_ORBIT_PT [0.0]\n",
      "HEADER_BETA33MAX [0.0]\n",
      "HEADER_BETA12MAX [0.0]\n",
      "HEADER_ORBIT_PX [0.0]\n",
      "HEADER_ORBIT_PY [0.0]\n",
      "HEADER_PTCOMAX [0.0]\n",
      "HEADER_BETA32MIN [0.0]\n",
      "HEADER_BETA31MAX [0.0]\n",
      "HEADER_TCORMS [0.0]\n",
      "HEADER_BETA32MAX [0.0]\n",
      "HEADER_DISP2MAX [0.3913614871]\n",
      "HEADER_XCORMS [0.0]\n",
      "HEADER_DATE ['19/08/20']\n",
      "HEADER_DISP2MIN [-0.3945936703]\n",
      "HEADER_BCURRENT [0.0]\n",
      "HEADER_Q1 [0.2095120203]\n",
      "HEADER_Q2 [0.220123074]\n",
      "HEADER_BETA22MIN [11.4477852]\n",
      "PX []\n",
      "PY []\n",
      "HEADER_PTCOMIN [0.0]\n",
      "HEADER_GAMMA [2.49038064]\n",
      "HEADER_DISP3MAX [0.0]\n",
      "HEADER_QS [0.0]\n",
      "S []\n",
      "HEADER_BETA21MIN [0.0]\n",
      "HEADER_BETA_Y_MAX [23.70189262]\n",
      "HEADER_ENERGY [2.336654539]\n",
      "HEADER_BETA31MIN [0.0]\n",
      "HEADER_SEQUENCE ['PS']\n",
      "HEADER_PXCORMS [0.0]\n",
      "HEADER_BETA_Y_MIN [11.4477852]\n",
      "HEADER_MASS [0.938272046]\n",
      "HEADER_DISP1MIN [0.0]\n",
      "HEADER_DISP1MAX [3.547668829]\n",
      "HEADER_YCORMS [0.0]\n",
      "HEADER_BETA23MIN [0.0]\n",
      "HEADER_ORBIT_Y [0.0]\n",
      "HEADER_ORBIT_X [0.0]\n",
      "HEADER_EX [1.0]\n",
      "HEADER_EY [1.0]\n",
      "HEADER_ET [1.0]\n",
      "BETY []\n",
      "BETX []\n",
      "HEADER_XCOMIN [0.0]\n",
      "HEADER_YCOMIN [0.0]\n",
      "ALFY []\n",
      "ALFX []\n",
      "HEADER_BETA23MAX [0.0]\n",
      "MU1 []\n",
      "NAME []\n",
      "MU2 []\n",
      "HEADER_TYPE ['TWISS']\n",
      "HEADER_FILENAME ['../PTC_Twiss/V_22.tfs']\n",
      "HEADER_YCOMAX [0.0]\n",
      "HEADER_XCOMAX [0.0]\n",
      "HEADER_TIME ['02.40.47']\n",
      "HEADER_SIGT [0.0]\n",
      "HEADER_DISP3MIN [0.0]\n",
      "HEADER_ORBIT_-CT [0.0]\n",
      "HEADER_DQ2 [-7.787430224]\n",
      "HEADER_DQ1 [-5.754384795]\n",
      "HEADER_PYCOMIN [0.0]\n",
      "HEADER_SIGE [0.0]\n",
      "HEADER_NPART [0.0]\n",
      "HEADER_LENGTH [628.3185]\n",
      "HEADER_NAME ['PTC_TWISS']\n",
      "HEADER_PYCOMAX [0.0]\n",
      "DISP1 []\n",
      "DISP3 []\n",
      "DISP2 []\n",
      "DISP4 []\n",
      "HEADER_ORIGIN ['MAD-X 5.02.00 Linux 64']\n",
      "Y []\n",
      "HEADER_PXCOMAX [0.0]\n",
      "HEADER_CHARGE [1.0]\n",
      "HEADER_DISP4MAX [0.0]\n",
      "HEADER_DISP4MIN [0.0]\n",
      "\n",
      "Read_PTC_Twiss_Return_Dict found Keywords: \n",
      "* NAME                                S               BETX               BETY               ALFX               ALFY              DISP1              DISP2              DISP3              DISP4                MU1                MU2                  X                 PX                  Y                 PY \n",
      "\n",
      "\n",
      "Read_PTC_Twiss_Return_Dict Dict Keys: \n",
      "['NAME', 'S', 'BETX', 'BETY', 'ALFX', 'ALFY', 'DISP1', 'DISP2', 'DISP3', 'DISP4', 'MU1', 'MU2', 'X', 'PX', 'Y', 'PY']\n",
      "\n",
      "Read_PTC_Twiss_Return_Dict header only dictionary \n",
      "\n",
      "HEADER_ETA_C [-0.1342209227]\n",
      "HEADER_TCOMIN [0.0]\n",
      "HEADER_BETA11MIN [11.49470546]\n",
      "HEADER_DELTAP [0.0]\n",
      "HEADER_BETA33MIN [0.0]\n",
      "HEADER_TCOMAX [0.0]\n",
      "HEADER_PC [2.14]\n",
      "HEADER_BETA22MAX [23.44785349]\n",
      "HEADER_BETA12MIN [0.0]\n",
      "HEADER_ALPHA_C [0.02701749847]\n",
      "HEADER_BETA_X_MAX [23.52248194]\n",
      "HEADER_BETA_X_MIN [11.49470546]\n",
      "HEADER_ALPHA_C_P2 [-1000000.0]\n",
      "HEADER_ALPHA_C_P3 [-1000000.0]\n",
      "HEADER_BETA13MIN [0.0]\n",
      "HEADER_TITLE ['Flat file generation for PTC-PyORBIT']\n",
      "HEADER_BETA21MAX [0.0]\n",
      "HEADER_BETA13MAX [0.0]\n",
      "HEADER_BETA11MAX [23.52248194]\n",
      "HEADER_ALPHA_C_P [-0.5919283024]\n",
      "HEADER_PXCOMIN [0.0]\n",
      "HEADER_PYCORMS [0.0]\n",
      "X []\n",
      "HEADER_PARTICLE ['PROTON']\n",
      "HEADER_KBUNCH [1.0]\n",
      "HEADER_PTCORMS [0.0]\n",
      "HEADER_GAMMA_TR [6.083835073]\n",
      "HEADER_ORBIT_PT [0.0]\n",
      "HEADER_BETA33MAX [0.0]\n",
      "HEADER_BETA12MAX [0.0]\n",
      "HEADER_ORBIT_PX [0.0]\n",
      "HEADER_ORBIT_PY [0.0]\n",
      "HEADER_PTCOMAX [0.0]\n",
      "HEADER_BETA32MIN [0.0]\n",
      "HEADER_BETA31MAX [0.0]\n",
      "HEADER_TCORMS [0.0]\n",
      "HEADER_BETA32MAX [0.0]\n",
      "HEADER_DISP2MAX [0.390635179]\n",
      "HEADER_XCORMS [0.0]\n",
      "HEADER_DATE ['19/08/20']\n",
      "HEADER_DISP2MIN [-0.3929758554]\n",
      "HEADER_BCURRENT [0.0]\n",
      "HEADER_Q1 [0.2095114024]\n",
      "HEADER_Q2 [0.230122262]\n",
      "HEADER_BETA22MIN [11.48240911]\n",
      "PX []\n",
      "PY []\n",
      "HEADER_PTCOMIN [0.0]\n",
      "HEADER_GAMMA [2.49038064]\n",
      "HEADER_DISP3MAX [0.0]\n",
      "HEADER_QS [0.0]\n",
      "S []\n",
      "HEADER_BETA21MIN [0.0]\n",
      "HEADER_BETA_Y_MAX [23.44785349]\n",
      "HEADER_ENERGY [2.336654539]\n",
      "HEADER_BETA31MIN [0.0]\n",
      "HEADER_SEQUENCE ['PS']\n",
      "HEADER_PXCORMS [0.0]\n",
      "HEADER_BETA_Y_MIN [11.48240911]\n",
      "HEADER_MASS [0.938272046]\n",
      "HEADER_DISP1MIN [0.0]\n",
      "HEADER_DISP1MAX [3.536933597]\n",
      "HEADER_YCORMS [0.0]\n",
      "HEADER_BETA23MIN [0.0]\n",
      "HEADER_ORBIT_Y [0.0]\n",
      "HEADER_ORBIT_X [0.0]\n",
      "HEADER_EX [1.0]\n",
      "HEADER_EY [1.0]\n",
      "HEADER_ET [1.0]\n",
      "BETY []\n",
      "BETX []\n",
      "HEADER_XCOMIN [0.0]\n",
      "HEADER_YCOMIN [0.0]\n",
      "ALFY []\n",
      "ALFX []\n",
      "HEADER_BETA23MAX [0.0]\n",
      "MU1 []\n",
      "NAME []\n",
      "MU2 []\n",
      "HEADER_TYPE ['TWISS']\n",
      "HEADER_FILENAME ['../PTC_Twiss/V_23.tfs']\n",
      "HEADER_YCOMAX [0.0]\n",
      "HEADER_XCOMAX [0.0]\n",
      "HEADER_TIME ['02.42.16']\n",
      "HEADER_SIGT [0.0]\n",
      "HEADER_DISP3MIN [0.0]\n",
      "HEADER_ORBIT_-CT [0.0]\n",
      "HEADER_DQ2 [-7.790217501]\n",
      "HEADER_DQ1 [-5.759485051]\n",
      "HEADER_PYCOMIN [0.0]\n",
      "HEADER_SIGE [0.0]\n",
      "HEADER_NPART [0.0]\n",
      "HEADER_LENGTH [628.3185]\n",
      "HEADER_NAME ['PTC_TWISS']\n",
      "HEADER_PYCOMAX [0.0]\n",
      "DISP1 []\n",
      "DISP3 []\n",
      "DISP2 []\n",
      "DISP4 []\n",
      "HEADER_ORIGIN ['MAD-X 5.02.00 Linux 64']\n",
      "Y []\n",
      "HEADER_PXCOMAX [0.0]\n",
      "HEADER_CHARGE [1.0]\n",
      "HEADER_DISP4MAX [0.0]\n",
      "HEADER_DISP4MIN [0.0]\n",
      "\n",
      "Read_PTC_Twiss_Return_Dict found Keywords: \n",
      "* NAME                                S               BETX               BETY               ALFX               ALFY              DISP1              DISP2              DISP3              DISP4                MU1                MU2                  X                 PX                  Y                 PY \n",
      "\n",
      "\n",
      "Read_PTC_Twiss_Return_Dict Dict Keys: \n",
      "['NAME', 'S', 'BETX', 'BETY', 'ALFX', 'ALFY', 'DISP1', 'DISP2', 'DISP3', 'DISP4', 'MU1', 'MU2', 'X', 'PX', 'Y', 'PY']\n",
      "\n",
      "Read_PTC_Twiss_Return_Dict header only dictionary \n",
      "\n",
      "HEADER_ETA_C [-0.1342179718]\n",
      "HEADER_TCOMIN [0.0]\n",
      "HEADER_BETA11MIN [11.51970813]\n",
      "HEADER_DELTAP [0.0]\n",
      "HEADER_BETA33MIN [0.0]\n",
      "HEADER_TCOMAX [0.0]\n",
      "HEADER_PC [2.14]\n",
      "HEADER_BETA22MAX [23.20611826]\n",
      "HEADER_BETA12MIN [0.0]\n",
      "HEADER_ALPHA_C [0.02702044938]\n",
      "HEADER_BETA_X_MAX [23.45375196]\n",
      "HEADER_BETA_X_MIN [11.51970813]\n",
      "HEADER_ALPHA_C_P2 [-1000000.0]\n",
      "HEADER_ALPHA_C_P3 [-1000000.0]\n",
      "HEADER_BETA13MIN [0.0]\n",
      "HEADER_TITLE ['Flat file generation for PTC-PyORBIT']\n",
      "HEADER_BETA21MAX [0.0]\n",
      "HEADER_BETA13MAX [0.0]\n",
      "HEADER_BETA11MAX [23.45375196]\n",
      "HEADER_ALPHA_C_P [-0.5920615104]\n",
      "HEADER_PXCOMIN [0.0]\n",
      "HEADER_PYCORMS [0.0]\n",
      "X []\n",
      "HEADER_PARTICLE ['PROTON']\n",
      "HEADER_KBUNCH [1.0]\n",
      "HEADER_PTCORMS [0.0]\n",
      "HEADER_GAMMA_TR [6.083502856]\n",
      "HEADER_ORBIT_PT [0.0]\n",
      "HEADER_BETA33MAX [0.0]\n",
      "HEADER_BETA12MAX [0.0]\n",
      "HEADER_ORBIT_PX [0.0]\n",
      "HEADER_ORBIT_PY [0.0]\n",
      "HEADER_PTCOMAX [0.0]\n",
      "HEADER_BETA32MIN [0.0]\n",
      "HEADER_BETA31MAX [0.0]\n",
      "HEADER_TCORMS [0.0]\n",
      "HEADER_BETA32MAX [0.0]\n",
      "HEADER_DISP2MAX [0.3899127413]\n",
      "HEADER_XCORMS [0.0]\n",
      "HEADER_DATE ['19/08/20']\n",
      "HEADER_DISP2MIN [-0.3913647248]\n",
      "HEADER_BCURRENT [0.0]\n",
      "HEADER_Q1 [0.2095109122]\n",
      "HEADER_Q2 [0.2401215592]\n",
      "HEADER_BETA22MIN [11.51436908]\n",
      "PX []\n",
      "PY []\n",
      "HEADER_PTCOMIN [0.0]\n",
      "HEADER_GAMMA [2.49038064]\n",
      "HEADER_DISP3MAX [0.0]\n",
      "HEADER_QS [0.0]\n",
      "S []\n",
      "HEADER_BETA21MIN [0.0]\n",
      "HEADER_BETA_Y_MAX [23.20611826]\n",
      "HEADER_ENERGY [2.336654539]\n",
      "HEADER_BETA31MIN [0.0]\n",
      "HEADER_SEQUENCE ['PS']\n",
      "HEADER_PXCORMS [0.0]\n",
      "HEADER_BETA_Y_MIN [11.51436908]\n",
      "HEADER_MASS [0.938272046]\n",
      "HEADER_DISP1MIN [0.0]\n",
      "HEADER_DISP1MAX [3.526245385]\n",
      "HEADER_YCORMS [0.0]\n",
      "HEADER_BETA23MIN [0.0]\n",
      "HEADER_ORBIT_Y [0.0]\n",
      "HEADER_ORBIT_X [0.0]\n",
      "HEADER_EX [1.0]\n",
      "HEADER_EY [1.0]\n",
      "HEADER_ET [1.0]\n",
      "BETY []\n",
      "BETX []\n",
      "HEADER_XCOMIN [0.0]\n",
      "HEADER_YCOMIN [0.0]\n",
      "ALFY []\n",
      "ALFX []\n",
      "HEADER_BETA23MAX [0.0]\n",
      "MU1 []\n",
      "NAME []\n",
      "MU2 []\n",
      "HEADER_TYPE ['TWISS']\n",
      "HEADER_FILENAME ['../PTC_Twiss/V_24.tfs']\n",
      "HEADER_YCOMAX [0.0]\n",
      "HEADER_XCOMAX [0.0]\n",
      "HEADER_TIME ['02.42.46']\n",
      "HEADER_SIGT [0.0]\n",
      "HEADER_DISP3MIN [0.0]\n",
      "HEADER_ORBIT_-CT [0.0]\n",
      "HEADER_DQ2 [-7.793328622]\n",
      "HEADER_DQ1 [-5.764661948]\n",
      "HEADER_PYCOMIN [0.0]\n",
      "HEADER_SIGE [0.0]\n",
      "HEADER_NPART [0.0]\n",
      "HEADER_LENGTH [628.3185]\n",
      "HEADER_NAME ['PTC_TWISS']\n",
      "HEADER_PYCOMAX [0.0]\n",
      "DISP1 []\n",
      "DISP3 []\n",
      "DISP2 []\n",
      "DISP4 []\n",
      "HEADER_ORIGIN ['MAD-X 5.02.00 Linux 64']\n",
      "Y []\n",
      "HEADER_PXCOMAX [0.0]\n",
      "HEADER_CHARGE [1.0]\n",
      "HEADER_DISP4MAX [0.0]\n",
      "HEADER_DISP4MIN [0.0]\n"
     ]
    }
   ],
   "source": [
    "LEQ_V_10_keys, LEQ_V_10 = Read_PTC_Twiss_Return_Dict('../PTC_Twiss/V_10.tfs')\n",
    "LEQ_V_11_keys, LEQ_V_11 = Read_PTC_Twiss_Return_Dict('../PTC_Twiss/V_11.tfs')\n",
    "LEQ_V_12_keys, LEQ_V_12 = Read_PTC_Twiss_Return_Dict('../PTC_Twiss/V_12.tfs')\n",
    "LEQ_V_13_keys, LEQ_V_13 = Read_PTC_Twiss_Return_Dict('../PTC_Twiss/V_13.tfs')\n",
    "LEQ_V_14_keys, LEQ_V_14 = Read_PTC_Twiss_Return_Dict('../PTC_Twiss/V_14.tfs')\n",
    "LEQ_V_15_keys, LEQ_V_15 = Read_PTC_Twiss_Return_Dict('../PTC_Twiss/V_15.tfs')\n",
    "LEQ_V_16_keys, LEQ_V_16 = Read_PTC_Twiss_Return_Dict('../PTC_Twiss/V_16.tfs')\n",
    "LEQ_V_17_keys, LEQ_V_17 = Read_PTC_Twiss_Return_Dict('../PTC_Twiss/V_17.tfs')\n",
    "LEQ_V_18_keys, LEQ_V_18 = Read_PTC_Twiss_Return_Dict('../PTC_Twiss/V_18.tfs')\n",
    "LEQ_V_19_keys, LEQ_V_19 = Read_PTC_Twiss_Return_Dict('../PTC_Twiss/V_19.tfs')\n",
    "LEQ_V_20_keys, LEQ_V_20 = Read_PTC_Twiss_Return_Dict('../PTC_Twiss/V_20.tfs')\n",
    "LEQ_V_21_keys, LEQ_V_21 = Read_PTC_Twiss_Return_Dict('../PTC_Twiss/V_21.tfs')\n",
    "LEQ_V_22_keys, LEQ_V_22 = Read_PTC_Twiss_Return_Dict('../PTC_Twiss/V_22.tfs')\n",
    "LEQ_V_23_keys, LEQ_V_23 = Read_PTC_Twiss_Return_Dict('../PTC_Twiss/V_23.tfs')\n",
    "LEQ_V_24_keys, LEQ_V_24 = Read_PTC_Twiss_Return_Dict('../PTC_Twiss/V_24.tfs')\n",
    "LEQ_V_List = [LEQ_V_10, LEQ_V_11, LEQ_V_12, LEQ_V_13, LEQ_V_14, LEQ_V_15, LEQ_V_16, LEQ_V_17, LEQ_V_18, LEQ_V_19, LEQ_V_20, LEQ_V_21, LEQ_V_22, LEQ_V_23, LEQ_V_24]"
   ]
  },
  {
   "cell_type": "code",
   "execution_count": 24,
   "metadata": {},
   "outputs": [
    {
     "name": "stdout",
     "output_type": "stream",
     "text": [
      "(Qx, Qy) = ( 0.21 , 0.1 )\n",
      "(Qx, Qy) = ( 0.21 , 0.11 )\n",
      "(Qx, Qy) = ( 0.21 , 0.12 )\n",
      "(Qx, Qy) = ( 0.21 , 0.13 )\n",
      "(Qx, Qy) = ( 0.21 , 0.14 )\n",
      "(Qx, Qy) = ( 0.21 , 0.15 )\n",
      "(Qx, Qy) = ( 0.21 , 0.16 )\n",
      "(Qx, Qy) = ( 0.21 , 0.17 )\n",
      "(Qx, Qy) = ( 0.21 , 0.18 )\n",
      "(Qx, Qy) = ( 0.21 , 0.19 )\n",
      "(Qx, Qy) = ( 0.21 , 0.2 )\n",
      "(Qx, Qy) = ( 0.21 , 0.21 )\n",
      "(Qx, Qy) = ( 0.21 , 0.22 )\n",
      "(Qx, Qy) = ( 0.21 , 0.23 )\n",
      "(Qx, Qy) = ( 0.21 , 0.24 )\n"
     ]
    }
   ],
   "source": [
    "for d in LEQ_V_List:\n",
    "    print_Twiss_Dict_Tunes(d)"
   ]
  },
  {
   "cell_type": "markdown",
   "metadata": {},
   "source": [
    "# Create dictionary of initial BETX, DX for all tunes - needed for normalisation"
   ]
  },
  {
   "cell_type": "code",
   "execution_count": 25,
   "metadata": {},
   "outputs": [
    {
     "data": {
      "text/plain": [
       "12.36665664"
      ]
     },
     "execution_count": 25,
     "metadata": {},
     "output_type": "execute_result"
    }
   ],
   "source": [
    "LEQ_V_14['BETX'][0]"
   ]
  },
  {
   "cell_type": "code",
   "execution_count": 26,
   "metadata": {},
   "outputs": [],
   "source": [
    "twiss_dict = dict()     \n",
    "\n",
    "Extract_initial_values(twiss_dict, 'V_10', LEQ_V_10)\n",
    "Extract_initial_values(twiss_dict, 'V_11', LEQ_V_11)\n",
    "Extract_initial_values(twiss_dict, 'V_12', LEQ_V_12)\n",
    "Extract_initial_values(twiss_dict, 'V_13', LEQ_V_13)\n",
    "Extract_initial_values(twiss_dict, 'V_14', LEQ_V_14)\n",
    "Extract_initial_values(twiss_dict, 'V_15', LEQ_V_15)\n",
    "Extract_initial_values(twiss_dict, 'V_16', LEQ_V_16)\n",
    "Extract_initial_values(twiss_dict, 'V_17', LEQ_V_17)\n",
    "Extract_initial_values(twiss_dict, 'V_18', LEQ_V_18)\n",
    "Extract_initial_values(twiss_dict, 'V_19', LEQ_V_19)\n",
    "Extract_initial_values(twiss_dict, 'V_20', LEQ_V_20)\n",
    "Extract_initial_values(twiss_dict, 'V_21', LEQ_V_21)\n",
    "Extract_initial_values(twiss_dict, 'V_22', LEQ_V_22)\n",
    "Extract_initial_values(twiss_dict, 'V_23', LEQ_V_23)\n",
    "Extract_initial_values(twiss_dict, 'V_24', LEQ_V_24)\n",
    "\n",
    "Extract_initial_values(twiss_dict, 'H_07', LEQ_H_07)\n",
    "Extract_initial_values(twiss_dict, 'H_08', LEQ_H_08)\n",
    "Extract_initial_values(twiss_dict, 'H_09', LEQ_H_09)\n",
    "Extract_initial_values(twiss_dict, 'H_10', LEQ_H_10)\n",
    "Extract_initial_values(twiss_dict, 'H_11', LEQ_H_11)\n",
    "Extract_initial_values(twiss_dict, 'H_12', LEQ_H_12)\n",
    "Extract_initial_values(twiss_dict, 'H_13', LEQ_H_13)\n",
    "Extract_initial_values(twiss_dict, 'H_14', LEQ_H_14)\n",
    "Extract_initial_values(twiss_dict, 'H_15', LEQ_H_15)\n",
    "Extract_initial_values(twiss_dict, 'H_16', LEQ_H_16)\n",
    "Extract_initial_values(twiss_dict, 'H_17', LEQ_H_17)\n",
    "Extract_initial_values(twiss_dict, 'H_18', LEQ_H_18)\n",
    "Extract_initial_values(twiss_dict, 'H_19', LEQ_H_19)\n",
    "Extract_initial_values(twiss_dict, 'H_20', LEQ_H_20)\n",
    "Extract_initial_values(twiss_dict, 'H_21', LEQ_H_21)\n",
    "\n"
   ]
  },
  {
   "cell_type": "code",
   "execution_count": 27,
   "metadata": {},
   "outputs": [
    {
     "data": {
      "text/plain": [
       "{'H_07': {'BETX': 19.84948902, 'DISP1': 3.93488301},\n",
       " 'H_08': {'BETX': 20.33893362, 'DISP1': 3.866761257},\n",
       " 'H_09': {'BETX': 20.72166098, 'DISP1': 3.806972182},\n",
       " 'H_10': {'BETX': 21.02688357, 'DISP1': 3.754316764},\n",
       " 'H_11': {'BETX': 21.27416871, 'DISP1': 3.707614758},\n",
       " 'H_12': {'BETX': 21.47709206, 'DISP1': 3.665848354},\n",
       " 'H_13': {'BETX': 21.6453541, 'DISP1': 3.628177997},\n",
       " 'H_14': {'BETX': 21.78606198, 'DISP1': 3.593921639},\n",
       " 'H_15': {'BETX': 21.90453569, 'DISP1': 3.562526931},\n",
       " 'H_16': {'BETX': 22.00483203, 'DISP1': 3.533545503},\n",
       " 'H_17': {'BETX': 22.09009496, 'DISP1': 3.506611576},\n",
       " 'H_18': {'BETX': 22.16279577, 'DISP1': 3.481424908},\n",
       " 'H_19': {'BETX': 22.22490142, 'DISP1': 3.457737414},\n",
       " 'H_20': {'BETX': 22.27799481, 'DISP1': 3.435342736},\n",
       " 'H_21': {'BETX': 22.32336233, 'DISP1': 3.414068095},\n",
       " 'V_10': {'BETX': 12.31655507, 'DISP1': 2.641941387},\n",
       " 'V_11': {'BETX': 12.32914236, 'DISP1': 2.637001304},\n",
       " 'V_12': {'BETX': 12.34169412, 'DISP1': 2.632067558},\n",
       " 'V_13': {'BETX': 12.35420107, 'DISP1': 2.627143859},\n",
       " 'V_14': {'BETX': 12.36665664, 'DISP1': 2.622232862},\n",
       " 'V_15': {'BETX': 12.37905618, 'DISP1': 2.617336495},\n",
       " 'V_16': {'BETX': 12.39139631, 'DISP1': 2.612456179},\n",
       " 'V_17': {'BETX': 12.40367461, 'DISP1': 2.60759297},\n",
       " 'V_18': {'BETX': 12.41588937, 'DISP1': 2.602747656},\n",
       " 'V_19': {'BETX': 12.42803938, 'DISP1': 2.597920824},\n",
       " 'V_20': {'BETX': 12.44012383, 'DISP1': 2.593112905},\n",
       " 'V_21': {'BETX': 12.45214221, 'DISP1': 2.588324217},\n",
       " 'V_22': {'BETX': 12.46409426, 'DISP1': 2.583554981},\n",
       " 'V_23': {'BETX': 12.4759799, 'DISP1': 2.578805347},\n",
       " 'V_24': {'BETX': 12.48779919, 'DISP1': 2.574075409}}"
      ]
     },
     "execution_count": 27,
     "metadata": {},
     "output_type": "execute_result"
    }
   ],
   "source": [
    "twiss_dict"
   ]
  },
  {
   "cell_type": "markdown",
   "metadata": {},
   "source": [
    "# Attempt plotting"
   ]
  },
  {
   "cell_type": "code",
   "execution_count": 28,
   "metadata": {},
   "outputs": [
    {
     "name": "stdout",
     "output_type": "stream",
     "text": [
      "Creation of the directory Test_Plots failed\n"
     ]
    }
   ],
   "source": [
    "test_save_folder = 'Test_Plots'\n",
    "make_directory(test_save_folder)"
   ]
  },
  {
   "cell_type": "code",
   "execution_count": 29,
   "metadata": {},
   "outputs": [
    {
     "data": {
      "text/plain": [
       "array([-5.16306721e-04,  9.80982771e-03, -1.03261344e-02,  3.29348668e-13,\n",
       "        1.03261344e-02, -9.80982771e-03,  5.16306722e-04, -9.29352099e-03,\n",
       "        1.03261344e-03, -8.77721427e-03,  1.54892017e-03, -8.26090755e-03,\n",
       "        2.06522689e-03, -7.74460083e-03,  2.58153361e-03, -7.22829411e-03,\n",
       "        3.09784033e-03, -6.71198738e-03,  3.61414705e-03, -6.19568066e-03,\n",
       "        4.13045377e-03, -5.67937394e-03,  4.64676050e-03, -5.16306722e-03,\n",
       "        5.16306722e-03, -4.64676050e-03,  5.67937394e-03, -4.13045377e-03,\n",
       "        6.19568066e-03, -3.61414705e-03,  6.71198738e-03, -3.09784033e-03,\n",
       "        7.22829411e-03, -2.58153361e-03,  7.74460083e-03, -2.06522689e-03,\n",
       "        8.26090755e-03, -1.54892017e-03,  8.77721427e-03, -1.03261344e-03,\n",
       "        9.29352099e-03])"
      ]
     },
     "execution_count": 29,
     "metadata": {},
     "output_type": "execute_result"
    }
   ],
   "source": [
    "### Access the x data for turn n like:\n",
    "n = 0\n",
    "d1_H_07[n]['particles']['x'][0][0][0]"
   ]
  },
  {
   "cell_type": "code",
   "execution_count": 30,
   "metadata": {},
   "outputs": [
    {
     "data": {
      "text/plain": [
       "array([-4.78040388e-04,  9.08276735e-03, -9.56080773e-03, -8.59742967e-13,\n",
       "        9.56080773e-03, -9.08276735e-03,  4.78040386e-04, -8.60472696e-03,\n",
       "        9.56080773e-04, -8.12668657e-03,  1.43412116e-03, -7.64864619e-03,\n",
       "        1.91216155e-03, -7.17060580e-03,  2.39020193e-03, -6.69256541e-03,\n",
       "        2.86824232e-03, -6.21452503e-03,  3.34628271e-03, -5.73648464e-03,\n",
       "        3.82432309e-03, -5.25844425e-03,  4.30236348e-03, -4.78040387e-03,\n",
       "        4.78040387e-03, -4.30236348e-03,  5.25844425e-03, -3.82432309e-03,\n",
       "        5.73648464e-03, -3.34628271e-03,  6.21452503e-03, -2.86824232e-03,\n",
       "        6.69256541e-03, -2.39020193e-03,  7.17060580e-03, -1.91216155e-03,\n",
       "        7.64864619e-03, -1.43412116e-03,  8.12668657e-03, -9.56080774e-04,\n",
       "        8.60472696e-03])"
      ]
     },
     "execution_count": 30,
     "metadata": {},
     "output_type": "execute_result"
    }
   ],
   "source": [
    "### Access the x data for turn n like:\n",
    "n = 0\n",
    "d1_H_21[n]['particles']['x'][0][0][0]"
   ]
  },
  {
   "cell_type": "code",
   "execution_count": 31,
   "metadata": {},
   "outputs": [
    {
     "name": "stderr",
     "output_type": "stream",
     "text": [
      "/usr/lib64/python2.7/site-packages/matplotlib/figure.py:2299: UserWarning: This figure includes Axes that are not compatible with tight_layout, so results might be incorrect.\n",
      "  warnings.warn(\"This figure includes Axes that are not compatible \"\n"
     ]
    },
    {
     "data": {
      "image/png": "[encoded data removed]",
      "text/plain": [
       "<Figure size 1000x900 with 1 Axes>"
      ]
     },
     "metadata": {
      "needs_background": "light"
     },
     "output_type": "display_data"
    }
   ],
   "source": [
    "### Our dispersion vector can be plotted like:\n",
    "n = 0;\n",
    "fig1, ax1 = plt.subplots(1, tight_layout=True);\n",
    "\n",
    "parameter1 = 'dE';\n",
    "parameter2 = 'x';\n",
    "multi1 = 1E3;\n",
    "multi2 = 1E3;\n",
    "\n",
    "ax1.set_title('Dispersion Vector Example');\n",
    "ax1.set_xlabel(r'dp [$10^{-3}$]');\n",
    "ax1.set_ylabel('x [mm]');\n",
    "ax1.grid(which='both',linewidth=0.5, ls=':');\n",
    "#ax1.set_ylim(-15, 15);\n",
    "\n",
    "x = np.array(multi1 * d1_H_07[n]['particles'][parameter1][0][0][0]/E/beta**2) #Conversion from dE to dpp\n",
    "y = np.array(multi2 * d1_H_07[n]['particles'][parameter2][0][0][0])\n",
    "\n",
    "ax1.scatter(x, y, marker='x');\n",
    "\n",
    "savename = test_save_folder +'/Dispersion_Vector_Example.png'\n",
    "plt.savefig(savename);"
   ]
  },
  {
   "cell_type": "code",
   "execution_count": 32,
   "metadata": {},
   "outputs": [
    {
     "name": "stderr",
     "output_type": "stream",
     "text": [
      "/usr/lib64/python2.7/site-packages/scipy/optimize/minpack.py:785: OptimizeWarning: Covariance of the parameters could not be estimated\n",
      "  category=OptimizeWarning)\n"
     ]
    },
    {
     "name": "stdout",
     "output_type": "stream",
     "text": [
      "Fitted linear dispersion =  5.163  m\n"
     ]
    },
    {
     "data": {
      "image/png": "[encoded data removed]",
      "text/plain": [
       "<Figure size 1000x900 with 1 Axes>"
      ]
     },
     "metadata": {
      "needs_background": "light"
     },
     "output_type": "display_data"
    }
   ],
   "source": [
    "### Add fitting of the vector to find the linear dispersion:\n",
    "n = 0;\n",
    "fig1, ax1 = plt.subplots(1, tight_layout=True);\n",
    "\n",
    "d = d1_H_07\n",
    "\n",
    "D_test = []  \n",
    "D2_test = [] \n",
    "D3_test = [] \n",
    "Intercept_test = []   \n",
    "\n",
    "parameter1 = 'dE';\n",
    "parameter2 = 'x';\n",
    "multi1 = 1E3;\n",
    "multi2 = 1E3;\n",
    "\n",
    "ax1.set_title('Dispersion Vector Example');\n",
    "ax1.set_xlabel(r'dp [$10^{-3}$]');\n",
    "ax1.set_ylabel('x [mm]');\n",
    "ax1.grid(which='both',linewidth=0.5, ls=':');\n",
    "ax1.set_ylim(-15, 15);\n",
    "\n",
    "\n",
    "x = np.array(multi1 * d[n]['particles'][parameter1][0][0][0]/E/beta**2) #Conversion from dE to dpp\n",
    "y = np.array(multi2 * d[n]['particles'][parameter2][0][0][0])\n",
    "ax1.scatter(x, y, marker='x', label='Simulation Data');\n",
    "\n",
    "min_dp = np.min(x)\n",
    "max_dp = np.max(x)\n",
    "DELTAP_range = np.arange(min_dp, max_dp, 1E-3);\n",
    "\n",
    "popt_test, pcov_test = curve_fit(cubic, x, y);\n",
    "                                 \n",
    "D_test.append(popt_test[1]);\n",
    "D2_test.append(popt_test[0]);\n",
    "D3_test.append(popt_test[3]);\n",
    "Intercept_test.append(popt_test[2]);\n",
    "ax1.plot(DELTAP_range, cubic(DELTAP_range,popt_test[0],popt_test[1],popt_test[2],popt_test[3]),'-k', label='Cubic fit');\n",
    "\n",
    "ax1.legend();\n",
    "\n",
    "savename = test_save_folder +'/Fitted_Dispersion_Vector_Example.png'\n",
    "plt.savefig(savename);\n",
    "\n",
    "print 'Fitted linear dispersion = ',round_sig(D_test[0]), ' m'\n"
   ]
  },
  {
   "cell_type": "markdown",
   "metadata": {},
   "source": [
    "### Create a master dictionary to hold:\n",
    "- All fitted dispersionn values D_1, D_2, D_3, and intercept D_i\n",
    "- For all turns\n",
    "- For all simulated cases in format 0_H_07\n",
    "\n",
    "d[case][D_1] = [list of linear dispersion for all turns]\n",
    "d[case][BETX] = initial horizontal beta function"
   ]
  },
  {
   "cell_type": "code",
   "execution_count": 33,
   "metadata": {},
   "outputs": [],
   "source": [
    "master_dict = dict()"
   ]
  },
  {
   "cell_type": "code",
   "execution_count": 34,
   "metadata": {},
   "outputs": [
    {
     "name": "stdout",
     "output_type": "stream",
     "text": [
      "Creation of the directory Dispersion_Vectors failed\n"
     ]
    }
   ],
   "source": [
    "dispersion_vector_save_folder = 'Dispersion_Vectors'\n",
    "make_directory(dispersion_vector_save_folder)"
   ]
  },
  {
   "cell_type": "code",
   "execution_count": 35,
   "metadata": {},
   "outputs": [
    {
     "data": {
      "image/png": "[encoded data removed]",
      "text/plain": [
       "<Figure size 1000x1000 with 2 Axes>"
      ]
     },
     "metadata": {
      "needs_background": "light"
     },
     "output_type": "display_data"
    }
   ],
   "source": [
    "d_case = d1_H_07\n",
    "case_label = '1_H_07'\n",
    "\n",
    "# arrays to hold fitted values\n",
    "D_1 = []\n",
    "D_2 = []\n",
    "D_3 = []\n",
    "D_i = []\n",
    "\n",
    "# Plot parameters\n",
    "plt.rcParams['figure.figsize'] = [5.0, 5.0]\n",
    "plt.rcParams['figure.dpi'] = 200\n",
    "plt.rcParams['savefig.dpi'] = 200\n",
    "plt.rcParams['axes.titlesize'] = 10\n",
    "plt.rcParams['font.size'] = 10\n",
    "plt.rcParams['legend.fontsize'] = 8\n",
    "plt.rcParams['lines.linewidth'] = 1\n",
    "\n",
    "# Create figure\n",
    "#fig1, ax1 = plt.subplots(1);\n",
    "fig = plt.figure(tight_layout=True)\n",
    "gs = gridspec.GridSpec(2, 1, height_ratios=[1, 20]) \n",
    "ax2 = plt.subplot(gs[0])\n",
    "ax1 = plt.subplot(gs[1])\n",
    "\n",
    "#fig1, (ax1, ax2) = plt.subplots(ncols=1, nrows=2, constrained_layout=True, width_ratios=widths, height_ratios=heights)\n",
    "\n",
    "# Select parameters and labels etc\n",
    "parameter1 = 'dE';\n",
    "parameter2 = 'x';\n",
    "multi1 = 1E3;\n",
    "multi2 = 1E3;\n",
    "ax1.set_xlabel(r'dp [$10^{-3}$]');\n",
    "ax1.set_ylabel('x [mm]');\n",
    "ax1.grid(which='both',linewidth=0.5, ls=':');\n",
    "ax1.set_ylim(-15, 15);\n",
    "\n",
    "transverse_plane = case_label.split('_')[1]\n",
    "dispersion_mismatch = int(case_label.split('_')[0][-1])\n",
    "tune = int(case_label.split('_')[2])\n",
    "if transverse_plane is 'H':\n",
    "    full_tune = str('(6.'+ case_label.split('_')[2] +', 6.24)')\n",
    "else:\n",
    "    full_tune = str('(6.21, 6.'+ case_label.split('_')[2] +')')\n",
    "    \n",
    "if dispersion_mismatch:\n",
    "    d_mismatch_label = 'Mismatched Dispersion '\n",
    "else:\n",
    "    d_mismatch_label = 'Lattice Dispersion '\n",
    "\n",
    "full_title = d_mismatch_label+full_tune\n",
    "\n",
    "ax1.set_title(full_title)\n",
    "\n",
    "# Iterate over turn\n",
    "maxi = 30\n",
    "turns = range(0,maxi)\n",
    "\n",
    "colors = cm.rainbow(np.linspace(0, 1, len(turns)))\n",
    "c_it = 0\n",
    "\n",
    "cmap = mpl.cm.rainbow\n",
    "norm = mpl.colors.Normalize(vmin=np.min(turns), vmax=np.max(turns))\n",
    "cb1 = mpl.colorbar.ColorbarBase(ax2, cmap=cmap, norm=norm, orientation='horizontal')\n",
    "cb1.set_label('Turn')\n",
    "\n",
    "for n in turns:  \n",
    "   \n",
    "    x = np.array(multi1 * d[n]['particles'][parameter1][0][0][0]/E/beta**2) #Conversion from dE to dpp\n",
    "    y = np.array(multi2 * d[n]['particles'][parameter2][0][0][0])\n",
    "    ax1.scatter(x, y, marker='x', label=str(n), color=colors[c_it]);\n",
    "\n",
    "    min_dp = np.min(x)\n",
    "    max_dp = np.max(x)\n",
    "    DELTAP_range = np.arange(min_dp, max_dp, 1E-3);\n",
    "\n",
    "    popt, pcov = curve_fit(cubic, x, y);\n",
    "\n",
    "    D_1.append(popt[1]);\n",
    "    D_2.append(popt[0]);\n",
    "    D_3.append(popt[3]);\n",
    "    D_i.append(popt[2]);\n",
    "    ax1.plot(DELTAP_range, cubic(DELTAP_range,popt[0],popt[1],popt[2],popt[3]), color=colors[c_it]);\n",
    "    c_it = c_it + 1;\n",
    "    \n",
    "savename = dispersion_vector_save_folder +'/' + case_label + '_dispersion_vector.png'\n",
    "plt.savefig(savename);\n",
    "\n",
    "master_dict[case_label] = dict()\n",
    "master_dict[case_label]['D_1'] = D_1\n",
    "master_dict[case_label]['D_2'] = D_2\n",
    "master_dict[case_label]['D_3'] = D_3\n",
    "master_dict[case_label]['D_i'] = D_i"
   ]
  },
  {
   "cell_type": "code",
   "execution_count": 36,
   "metadata": {},
   "outputs": [
    {
     "data": {
      "image/png": "[encoded data removed]",
      "text/plain": [
       "<Figure size 1000x1000 with 2 Axes>"
      ]
     },
     "metadata": {
      "needs_background": "light"
     },
     "output_type": "display_data"
    }
   ],
   "source": [
    "d_case = d1_H_21\n",
    "case_label = '1_H_21'\n",
    "\n",
    "# arrays to hold fitted values\n",
    "D_1 = []\n",
    "D_2 = []\n",
    "D_3 = []\n",
    "D_i = []\n",
    "\n",
    "# Plot parameters\n",
    "plt.rcParams['figure.figsize'] = [5.0, 5.0]\n",
    "plt.rcParams['figure.dpi'] = 200\n",
    "plt.rcParams['savefig.dpi'] = 200\n",
    "plt.rcParams['axes.titlesize'] = 10\n",
    "plt.rcParams['font.size'] = 10\n",
    "plt.rcParams['legend.fontsize'] = 8\n",
    "plt.rcParams['lines.linewidth'] = 1\n",
    "\n",
    "# Create figure\n",
    "#fig1, ax1 = plt.subplots(1);\n",
    "fig = plt.figure(tight_layout=True)\n",
    "gs = gridspec.GridSpec(2, 1, height_ratios=[1, 20]) \n",
    "ax2 = plt.subplot(gs[0])\n",
    "ax1 = plt.subplot(gs[1])\n",
    "\n",
    "#fig1, (ax1, ax2) = plt.subplots(ncols=1, nrows=2, constrained_layout=True, width_ratios=widths, height_ratios=heights)\n",
    "\n",
    "# Select parameters and labels etc\n",
    "parameter1 = 'dE';\n",
    "parameter2 = 'x';\n",
    "multi1 = 1E3;\n",
    "multi2 = 1E3;\n",
    "ax1.set_xlabel(r'dp [$10^{-3}$]');\n",
    "ax1.set_ylabel('x [mm]');\n",
    "ax1.grid(which='both',linewidth=0.5, ls=':');\n",
    "ax1.set_ylim(-15, 15);\n",
    "\n",
    "transverse_plane = case_label.split('_')[1]\n",
    "dispersion_mismatch = int(case_label.split('_')[0][-1])\n",
    "tune = int(case_label.split('_')[2])\n",
    "if transverse_plane is 'H':\n",
    "    full_tune = str('(6.'+ case_label.split('_')[2] +', 6.24)')\n",
    "else:\n",
    "    full_tune = str('(6.21, 6.'+ case_label.split('_')[2] +')')\n",
    "    \n",
    "if dispersion_mismatch:\n",
    "    d_mismatch_label = 'Mismatched Dispersion '\n",
    "else:\n",
    "    d_mismatch_label = 'Lattice Dispersion '\n",
    "\n",
    "full_title = d_mismatch_label+full_tune\n",
    "\n",
    "ax1.set_title(full_title)\n",
    "\n",
    "# Iterate over turn\n",
    "maxi = 30\n",
    "turns = range(0,maxi)\n",
    "\n",
    "colors = cm.rainbow(np.linspace(0, 1, len(turns)))\n",
    "c_it = 0\n",
    "\n",
    "cmap = mpl.cm.rainbow\n",
    "norm = mpl.colors.Normalize(vmin=np.min(turns), vmax=np.max(turns))\n",
    "cb1 = mpl.colorbar.ColorbarBase(ax2, cmap=cmap, norm=norm, orientation='horizontal')\n",
    "cb1.set_label('Turn')\n",
    "\n",
    "for n in turns:  \n",
    "   \n",
    "    x = np.array(multi1 * d[n]['particles'][parameter1][0][0][0]/E/beta**2) #Conversion from dE to dpp\n",
    "    y = np.array(multi2 * d[n]['particles'][parameter2][0][0][0])\n",
    "    ax1.scatter(x, y, marker='x', label=str(n), color=colors[c_it]);\n",
    "\n",
    "    min_dp = np.min(x)\n",
    "    max_dp = np.max(x)\n",
    "    DELTAP_range = np.arange(min_dp, max_dp, 1E-3);\n",
    "\n",
    "    popt, pcov = curve_fit(cubic, x, y);\n",
    "\n",
    "    D_1.append(popt[1]);\n",
    "    D_2.append(popt[0]);\n",
    "    D_3.append(popt[3]);\n",
    "    D_i.append(popt[2]);\n",
    "    ax1.plot(DELTAP_range, cubic(DELTAP_range,popt[0],popt[1],popt[2],popt[3]), color=colors[c_it]);\n",
    "    c_it = c_it + 1;\n",
    "    \n",
    "savename = dispersion_vector_save_folder +'/' + case_label + '_dispersion_vector.png'\n",
    "plt.savefig(savename);\n",
    "\n",
    "master_dict[case_label] = dict()\n",
    "master_dict[case_label]['D_1'] = D_1\n",
    "master_dict[case_label]['D_2'] = D_2\n",
    "master_dict[case_label]['D_3'] = D_3\n",
    "master_dict[case_label]['D_i'] = D_i"
   ]
  },
  {
   "cell_type": "code",
   "execution_count": 37,
   "metadata": {},
   "outputs": [
    {
     "data": {
      "text/plain": [
       "5.163067143737946"
      ]
     },
     "execution_count": 37,
     "metadata": {},
     "output_type": "execute_result"
    }
   ],
   "source": [
    "master_dict['1_H_07']['D_1'][0]"
   ]
  },
  {
   "cell_type": "code",
   "execution_count": 38,
   "metadata": {
    "scrolled": true
   },
   "outputs": [
    {
     "data": {
      "text/plain": [
       "<Figure size 1000x1000 with 0 Axes>"
      ]
     },
     "metadata": {},
     "output_type": "display_data"
    },
    {
     "data": {
      "text/plain": [
       "<Figure size 1000x1000 with 0 Axes>"
      ]
     },
     "metadata": {},
     "output_type": "display_data"
    },
    {
     "data": {
      "text/plain": [
       "<Figure size 1000x1000 with 0 Axes>"
      ]
     },
     "metadata": {},
     "output_type": "display_data"
    },
    {
     "data": {
      "text/plain": [
       "<Figure size 1000x1000 with 0 Axes>"
      ]
     },
     "metadata": {},
     "output_type": "display_data"
    },
    {
     "data": {
      "text/plain": [
       "<Figure size 1000x1000 with 0 Axes>"
      ]
     },
     "metadata": {},
     "output_type": "display_data"
    },
    {
     "data": {
      "text/plain": [
       "<Figure size 1000x1000 with 0 Axes>"
      ]
     },
     "metadata": {},
     "output_type": "display_data"
    },
    {
     "data": {
      "text/plain": [
       "<Figure size 1000x1000 with 0 Axes>"
      ]
     },
     "metadata": {},
     "output_type": "display_data"
    },
    {
     "data": {
      "text/plain": [
       "<Figure size 1000x1000 with 0 Axes>"
      ]
     },
     "metadata": {},
     "output_type": "display_data"
    },
    {
     "data": {
      "text/plain": [
       "<Figure size 1000x1000 with 0 Axes>"
      ]
     },
     "metadata": {},
     "output_type": "display_data"
    },
    {
     "data": {
      "text/plain": [
       "<Figure size 1000x1000 with 0 Axes>"
      ]
     },
     "metadata": {},
     "output_type": "display_data"
    },
    {
     "data": {
      "text/plain": [
       "<Figure size 1000x1000 with 0 Axes>"
      ]
     },
     "metadata": {},
     "output_type": "display_data"
    },
    {
     "data": {
      "text/plain": [
       "<Figure size 1000x1000 with 0 Axes>"
      ]
     },
     "metadata": {},
     "output_type": "display_data"
    },
    {
     "data": {
      "text/plain": [
       "<Figure size 1000x1000 with 0 Axes>"
      ]
     },
     "metadata": {},
     "output_type": "display_data"
    },
    {
     "data": {
      "text/plain": [
       "<Figure size 1000x1000 with 0 Axes>"
      ]
     },
     "metadata": {},
     "output_type": "display_data"
    },
    {
     "data": {
      "text/plain": [
       "<Figure size 1000x1000 with 0 Axes>"
      ]
     },
     "metadata": {},
     "output_type": "display_data"
    }
   ],
   "source": [
    "for key, value in H_Mismatch_Dict.iteritems():\n",
    "\n",
    "    d = value\n",
    "    case_label = key\n",
    "\n",
    "    # arrays to hold fitted values\n",
    "    D_1 = []\n",
    "    D_2 = []\n",
    "    D_3 = []\n",
    "    D_i = []\n",
    "\n",
    "    # Plot parameters\n",
    "    plt.rcParams['figure.figsize'] = [5.0, 5.0]\n",
    "    plt.rcParams['figure.dpi'] = 200\n",
    "    plt.rcParams['savefig.dpi'] = 200\n",
    "    plt.rcParams['axes.titlesize'] = 10\n",
    "    plt.rcParams['font.size'] = 10\n",
    "    plt.rcParams['legend.fontsize'] = 8\n",
    "    plt.rcParams['lines.linewidth'] = 1\n",
    "\n",
    "    # Create figure\n",
    "    #fig1, ax1 = plt.subplots(1);\n",
    "    fig = plt.figure(tight_layout=True);\n",
    "    gs = gridspec.GridSpec(2, 1, height_ratios=[1, 20]);\n",
    "    ax2 = plt.subplot(gs[0]);\n",
    "    ax1 = plt.subplot(gs[1]);\n",
    "\n",
    "    #fig1, (ax1, ax2) = plt.subplots(ncols=1, nrows=2, constrained_layout=True, width_ratios=widths, height_ratios=heights)\n",
    "\n",
    "    # Select parameters and labels etc\n",
    "    parameter1 = 'dE';\n",
    "    parameter2 = 'x';\n",
    "    multi1 = 1E3;\n",
    "    multi2 = 1E3;\n",
    "    ax1.set_xlabel(r'dp [$10^{-3}$]');\n",
    "    ax1.set_ylabel('x [mm]');\n",
    "    ax1.grid(which='both',linewidth=0.5, ls=':');\n",
    "    ax1.set_ylim(-15, 15);\n",
    "\n",
    "    transverse_plane = case_label.split('_')[1];\n",
    "    dispersion_mismatch = int(case_label.split('_')[0][-1]);\n",
    "    tune = int(case_label.split('_')[2]);\n",
    "    if transverse_plane is 'H':\n",
    "        full_tune = str('(6.'+ case_label.split('_')[2] +', 6.24)');\n",
    "    else:\n",
    "        full_tune = str('(6.21, 6.'+ case_label.split('_')[2] +')');\n",
    "\n",
    "    if dispersion_mismatch:\n",
    "        d_mismatch_label = 'Mismatched Dispersion ';\n",
    "    else:\n",
    "        d_mismatch_label = 'Lattice Dispersion ';\n",
    "\n",
    "    full_title = d_mismatch_label+full_tune;\n",
    "\n",
    "    ax1.set_title(full_title);\n",
    "\n",
    "    # Iterate over turn\n",
    "    maxi = 30;\n",
    "    turns = range(0,maxi);\n",
    "\n",
    "    colors = cm.rainbow(np.linspace(0, 1, len(turns)));\n",
    "    c_it = 0;\n",
    "\n",
    "    cmap = mpl.cm.rainbow;\n",
    "    norm = mpl.colors.Normalize(vmin=np.min(turns), vmax=np.max(turns));\n",
    "    cb1 = mpl.colorbar.ColorbarBase(ax2, cmap=cmap, norm=norm, orientation='horizontal');\n",
    "    cb1.set_label('Turn');\n",
    "\n",
    "    for n in turns:  \n",
    "\n",
    "        x = np.array(multi1 * d[n]['particles'][parameter1][0][0][0]/E/beta**2); #Conversion from dE to dpp\n",
    "        y = np.array(multi2 * d[n]['particles'][parameter2][0][0][0]);\n",
    "        ax1.scatter(x, y, marker='x', label=str(n), color=colors[c_it]);\n",
    "\n",
    "        min_dp = np.min(x);\n",
    "        max_dp = np.max(x);\n",
    "        DELTAP_range = np.arange(min_dp, max_dp, 1E-3);\n",
    "\n",
    "        popt, pcov = curve_fit(cubic, x, y);\n",
    "\n",
    "        D_1.append(popt[1]);\n",
    "        D_2.append(popt[0]);\n",
    "        D_3.append(popt[3]);\n",
    "        D_i.append(popt[2]);\n",
    "        ax1.plot(DELTAP_range, cubic(DELTAP_range,popt[0],popt[1],popt[2],popt[3]), color=colors[c_it]);\n",
    "        c_it = c_it + 1;\n",
    "\n",
    "    savename = dispersion_vector_save_folder +'/' + case_label + '_dispersion_vector.png';\n",
    "    plt.savefig(savename);\n",
    "    plt.clf();\n",
    "\n",
    "    master_dict[case_label] = dict()\n",
    "    master_dict[case_label]['D_1'] = D_1\n",
    "    master_dict[case_label]['D_2'] = D_2\n",
    "    master_dict[case_label]['D_3'] = D_3\n",
    "    master_dict[case_label]['D_i'] = D_i"
   ]
  },
  {
   "cell_type": "code",
   "execution_count": 39,
   "metadata": {
    "scrolled": false
   },
   "outputs": [
    {
     "data": {
      "text/plain": [
       "<Figure size 1000x1000 with 0 Axes>"
      ]
     },
     "metadata": {},
     "output_type": "display_data"
    },
    {
     "data": {
      "text/plain": [
       "<Figure size 1000x1000 with 0 Axes>"
      ]
     },
     "metadata": {},
     "output_type": "display_data"
    },
    {
     "data": {
      "text/plain": [
       "<Figure size 1000x1000 with 0 Axes>"
      ]
     },
     "metadata": {},
     "output_type": "display_data"
    },
    {
     "data": {
      "text/plain": [
       "<Figure size 1000x1000 with 0 Axes>"
      ]
     },
     "metadata": {},
     "output_type": "display_data"
    },
    {
     "data": {
      "text/plain": [
       "<Figure size 1000x1000 with 0 Axes>"
      ]
     },
     "metadata": {},
     "output_type": "display_data"
    },
    {
     "data": {
      "text/plain": [
       "<Figure size 1000x1000 with 0 Axes>"
      ]
     },
     "metadata": {},
     "output_type": "display_data"
    },
    {
     "data": {
      "text/plain": [
       "<Figure size 1000x1000 with 0 Axes>"
      ]
     },
     "metadata": {},
     "output_type": "display_data"
    },
    {
     "data": {
      "text/plain": [
       "<Figure size 1000x1000 with 0 Axes>"
      ]
     },
     "metadata": {},
     "output_type": "display_data"
    },
    {
     "data": {
      "text/plain": [
       "<Figure size 1000x1000 with 0 Axes>"
      ]
     },
     "metadata": {},
     "output_type": "display_data"
    },
    {
     "data": {
      "text/plain": [
       "<Figure size 1000x1000 with 0 Axes>"
      ]
     },
     "metadata": {},
     "output_type": "display_data"
    },
    {
     "data": {
      "text/plain": [
       "<Figure size 1000x1000 with 0 Axes>"
      ]
     },
     "metadata": {},
     "output_type": "display_data"
    },
    {
     "data": {
      "text/plain": [
       "<Figure size 1000x1000 with 0 Axes>"
      ]
     },
     "metadata": {},
     "output_type": "display_data"
    },
    {
     "data": {
      "text/plain": [
       "<Figure size 1000x1000 with 0 Axes>"
      ]
     },
     "metadata": {},
     "output_type": "display_data"
    },
    {
     "data": {
      "text/plain": [
       "<Figure size 1000x1000 with 0 Axes>"
      ]
     },
     "metadata": {},
     "output_type": "display_data"
    },
    {
     "data": {
      "text/plain": [
       "<Figure size 1000x1000 with 0 Axes>"
      ]
     },
     "metadata": {},
     "output_type": "display_data"
    }
   ],
   "source": [
    "for key, value in H_No_Mismatch_Dict.iteritems():\n",
    "\n",
    "    d = value\n",
    "    case_label = key\n",
    "\n",
    "    # arrays to hold fitted values\n",
    "    D_1 = []\n",
    "    D_2 = []\n",
    "    D_3 = []\n",
    "    D_i = []\n",
    "\n",
    "    # Plot parameters\n",
    "    plt.rcParams['figure.figsize'] = [5.0, 5.0]\n",
    "    plt.rcParams['figure.dpi'] = 200\n",
    "    plt.rcParams['savefig.dpi'] = 200\n",
    "    plt.rcParams['axes.titlesize'] = 10\n",
    "    plt.rcParams['font.size'] = 10\n",
    "    plt.rcParams['legend.fontsize'] = 8\n",
    "    plt.rcParams['lines.linewidth'] = 1\n",
    "\n",
    "    # Create figure\n",
    "    #fig1, ax1 = plt.subplots(1);\n",
    "    fig = plt.figure(tight_layout=True);\n",
    "    gs = gridspec.GridSpec(2, 1, height_ratios=[1, 20]);\n",
    "    ax2 = plt.subplot(gs[0]);\n",
    "    ax1 = plt.subplot(gs[1]);\n",
    "\n",
    "    #fig1, (ax1, ax2) = plt.subplots(ncols=1, nrows=2, constrained_layout=True, width_ratios=widths, height_ratios=heights)\n",
    "\n",
    "    # Select parameters and labels etc\n",
    "    parameter1 = 'dE';\n",
    "    parameter2 = 'x';\n",
    "    multi1 = 1E3;\n",
    "    multi2 = 1E3;\n",
    "    ax1.set_xlabel(r'dp [$10^{-3}$]');\n",
    "    ax1.set_ylabel('x [mm]');\n",
    "    ax1.grid(which='both',linewidth=0.5, ls=':');\n",
    "    ax1.set_ylim(-15, 15);\n",
    "\n",
    "    transverse_plane = case_label.split('_')[1];\n",
    "    dispersion_mismatch = int(case_label.split('_')[0][-1]);\n",
    "    tune = int(case_label.split('_')[2]);\n",
    "    if transverse_plane is 'H':\n",
    "        full_tune = str('(6.'+ case_label.split('_')[2] +', 6.24)');\n",
    "    else:\n",
    "        full_tune = str('(6.21, 6.'+ case_label.split('_')[2] +')');\n",
    "\n",
    "    if dispersion_mismatch:\n",
    "        d_mismatch_label = 'Mismatched Dispersion ';\n",
    "    else:\n",
    "        d_mismatch_label = 'Lattice Dispersion ';\n",
    "\n",
    "    full_title = d_mismatch_label+full_tune;\n",
    "\n",
    "    ax1.set_title(full_title);\n",
    "\n",
    "    # Iterate over turn\n",
    "    maxi = 30;\n",
    "    turns = range(0,maxi);\n",
    "\n",
    "    colors = cm.rainbow(np.linspace(0, 1, len(turns)));\n",
    "    c_it = 0;\n",
    "\n",
    "    cmap = mpl.cm.rainbow;\n",
    "    norm = mpl.colors.Normalize(vmin=np.min(turns), vmax=np.max(turns));\n",
    "    cb1 = mpl.colorbar.ColorbarBase(ax2, cmap=cmap, norm=norm, orientation='horizontal');\n",
    "    cb1.set_label('Turn');\n",
    "\n",
    "    for n in turns:  \n",
    "\n",
    "        x = np.array(multi1 * d[n]['particles'][parameter1][0][0][0]/E/beta**2); #Conversion from dE to dpp\n",
    "        y = np.array(multi2 * d[n]['particles'][parameter2][0][0][0]);\n",
    "        ax1.scatter(x, y, marker='x', label=str(n), color=colors[c_it]);\n",
    "\n",
    "        min_dp = np.min(x);\n",
    "        max_dp = np.max(x);\n",
    "        DELTAP_range = np.arange(min_dp, max_dp, 1E-3);\n",
    "\n",
    "        popt, pcov = curve_fit(cubic, x, y);\n",
    "\n",
    "        D_1.append(popt[1]);\n",
    "        D_2.append(popt[0]);\n",
    "        D_3.append(popt[3]);\n",
    "        D_i.append(popt[2]);\n",
    "        ax1.plot(DELTAP_range, cubic(DELTAP_range,popt[0],popt[1],popt[2],popt[3]), color=colors[c_it]);\n",
    "        c_it = c_it + 1;\n",
    "\n",
    "    savename = dispersion_vector_save_folder +'/' + case_label + '_dispersion_vector.png';\n",
    "    plt.savefig(savename);\n",
    "    plt.clf();\n",
    "\n",
    "    master_dict[case_label] = dict()\n",
    "    master_dict[case_label]['D_1'] = D_1\n",
    "    master_dict[case_label]['D_2'] = D_2\n",
    "    master_dict[case_label]['D_3'] = D_3\n",
    "    master_dict[case_label]['D_i'] = D_i"
   ]
  },
  {
   "cell_type": "code",
   "execution_count": 40,
   "metadata": {},
   "outputs": [
    {
     "data": {
      "text/plain": [
       "<Figure size 1000x1000 with 0 Axes>"
      ]
     },
     "metadata": {},
     "output_type": "display_data"
    },
    {
     "data": {
      "text/plain": [
       "<Figure size 1000x1000 with 0 Axes>"
      ]
     },
     "metadata": {},
     "output_type": "display_data"
    },
    {
     "data": {
      "text/plain": [
       "<Figure size 1000x1000 with 0 Axes>"
      ]
     },
     "metadata": {},
     "output_type": "display_data"
    },
    {
     "data": {
      "text/plain": [
       "<Figure size 1000x1000 with 0 Axes>"
      ]
     },
     "metadata": {},
     "output_type": "display_data"
    },
    {
     "data": {
      "text/plain": [
       "<Figure size 1000x1000 with 0 Axes>"
      ]
     },
     "metadata": {},
     "output_type": "display_data"
    },
    {
     "data": {
      "text/plain": [
       "<Figure size 1000x1000 with 0 Axes>"
      ]
     },
     "metadata": {},
     "output_type": "display_data"
    },
    {
     "data": {
      "text/plain": [
       "<Figure size 1000x1000 with 0 Axes>"
      ]
     },
     "metadata": {},
     "output_type": "display_data"
    },
    {
     "data": {
      "text/plain": [
       "<Figure size 1000x1000 with 0 Axes>"
      ]
     },
     "metadata": {},
     "output_type": "display_data"
    },
    {
     "data": {
      "text/plain": [
       "<Figure size 1000x1000 with 0 Axes>"
      ]
     },
     "metadata": {},
     "output_type": "display_data"
    },
    {
     "data": {
      "text/plain": [
       "<Figure size 1000x1000 with 0 Axes>"
      ]
     },
     "metadata": {},
     "output_type": "display_data"
    },
    {
     "data": {
      "text/plain": [
       "<Figure size 1000x1000 with 0 Axes>"
      ]
     },
     "metadata": {},
     "output_type": "display_data"
    },
    {
     "data": {
      "text/plain": [
       "<Figure size 1000x1000 with 0 Axes>"
      ]
     },
     "metadata": {},
     "output_type": "display_data"
    },
    {
     "data": {
      "text/plain": [
       "<Figure size 1000x1000 with 0 Axes>"
      ]
     },
     "metadata": {},
     "output_type": "display_data"
    },
    {
     "data": {
      "text/plain": [
       "<Figure size 1000x1000 with 0 Axes>"
      ]
     },
     "metadata": {},
     "output_type": "display_data"
    },
    {
     "data": {
      "text/plain": [
       "<Figure size 1000x1000 with 0 Axes>"
      ]
     },
     "metadata": {},
     "output_type": "display_data"
    }
   ],
   "source": [
    "for key, value in V_No_Mismatch_Dict.iteritems():\n",
    "\n",
    "    d = value\n",
    "    case_label = key\n",
    "\n",
    "    # arrays to hold fitted values\n",
    "    D_1 = []\n",
    "    D_2 = []\n",
    "    D_3 = []\n",
    "    D_i = []\n",
    "\n",
    "    # Plot parameters\n",
    "    plt.rcParams['figure.figsize'] = [5.0, 5.0]\n",
    "    plt.rcParams['figure.dpi'] = 200\n",
    "    plt.rcParams['savefig.dpi'] = 200\n",
    "    plt.rcParams['axes.titlesize'] = 10\n",
    "    plt.rcParams['font.size'] = 10\n",
    "    plt.rcParams['legend.fontsize'] = 8\n",
    "    plt.rcParams['lines.linewidth'] = 1\n",
    "\n",
    "    # Create figure\n",
    "    #fig1, ax1 = plt.subplots(1);\n",
    "    fig = plt.figure(tight_layout=True);\n",
    "    gs = gridspec.GridSpec(2, 1, height_ratios=[1, 20]);\n",
    "    ax2 = plt.subplot(gs[0]);\n",
    "    ax1 = plt.subplot(gs[1]);\n",
    "\n",
    "    #fig1, (ax1, ax2) = plt.subplots(ncols=1, nrows=2, constrained_layout=True, width_ratios=widths, height_ratios=heights)\n",
    "\n",
    "    # Select parameters and labels etc\n",
    "    parameter1 = 'dE';\n",
    "    parameter2 = 'x';\n",
    "    multi1 = 1E3;\n",
    "    multi2 = 1E3;\n",
    "    ax1.set_xlabel(r'dp [$10^{-3}$]');\n",
    "    ax1.set_ylabel('x [mm]');\n",
    "    ax1.grid(which='both',linewidth=0.5, ls=':');\n",
    "    ax1.set_ylim(-15, 15);\n",
    "\n",
    "    transverse_plane = case_label.split('_')[1];\n",
    "    dispersion_mismatch = int(case_label.split('_')[0][-1]);\n",
    "    tune = int(case_label.split('_')[2]);\n",
    "    if transverse_plane is 'H':\n",
    "        full_tune = str('(6.'+ case_label.split('_')[2] +', 6.24)');\n",
    "    else:\n",
    "        full_tune = str('(6.21, 6.'+ case_label.split('_')[2] +')');\n",
    "\n",
    "    if dispersion_mismatch:\n",
    "        d_mismatch_label = 'Mismatched Dispersion ';\n",
    "    else:\n",
    "        d_mismatch_label = 'Lattice Dispersion ';\n",
    "\n",
    "    full_title = d_mismatch_label+full_tune;\n",
    "\n",
    "    ax1.set_title(full_title);\n",
    "\n",
    "    # Iterate over turn\n",
    "    maxi = 30;\n",
    "    turns = range(0,maxi);\n",
    "\n",
    "    colors = cm.rainbow(np.linspace(0, 1, len(turns)));\n",
    "    c_it = 0;\n",
    "\n",
    "    cmap = mpl.cm.rainbow;\n",
    "    norm = mpl.colors.Normalize(vmin=np.min(turns), vmax=np.max(turns));\n",
    "    cb1 = mpl.colorbar.ColorbarBase(ax2, cmap=cmap, norm=norm, orientation='horizontal');\n",
    "    cb1.set_label('Turn');\n",
    "\n",
    "    for n in turns:  \n",
    "\n",
    "        x = np.array(multi1 * d[n]['particles'][parameter1][0][0][0]/E/beta**2); #Conversion from dE to dpp\n",
    "        y = np.array(multi2 * d[n]['particles'][parameter2][0][0][0]);\n",
    "        ax1.scatter(x, y, marker='x', label=str(n), color=colors[c_it]);\n",
    "\n",
    "        min_dp = np.min(x);\n",
    "        max_dp = np.max(x);\n",
    "        DELTAP_range = np.arange(min_dp, max_dp, 1E-3);\n",
    "\n",
    "        popt, pcov = curve_fit(cubic, x, y);\n",
    "\n",
    "        D_1.append(popt[1]);\n",
    "        D_2.append(popt[0]);\n",
    "        D_3.append(popt[3]);\n",
    "        D_i.append(popt[2]);\n",
    "        ax1.plot(DELTAP_range, cubic(DELTAP_range,popt[0],popt[1],popt[2],popt[3]), color=colors[c_it]);\n",
    "        c_it = c_it + 1;\n",
    "\n",
    "    savename = dispersion_vector_save_folder +'/' + case_label + '_dispersion_vector.png';\n",
    "    plt.savefig(savename);\n",
    "    plt.clf();\n",
    "\n",
    "    master_dict[case_label] = dict()\n",
    "    master_dict[case_label]['D_1'] = D_1\n",
    "    master_dict[case_label]['D_2'] = D_2\n",
    "    master_dict[case_label]['D_3'] = D_3\n",
    "    master_dict[case_label]['D_i'] = D_i"
   ]
  },
  {
   "cell_type": "code",
   "execution_count": 41,
   "metadata": {},
   "outputs": [
    {
     "data": {
      "text/plain": [
       "<Figure size 1000x1000 with 0 Axes>"
      ]
     },
     "metadata": {},
     "output_type": "display_data"
    },
    {
     "data": {
      "text/plain": [
       "<Figure size 1000x1000 with 0 Axes>"
      ]
     },
     "metadata": {},
     "output_type": "display_data"
    },
    {
     "data": {
      "text/plain": [
       "<Figure size 1000x1000 with 0 Axes>"
      ]
     },
     "metadata": {},
     "output_type": "display_data"
    },
    {
     "data": {
      "text/plain": [
       "<Figure size 1000x1000 with 0 Axes>"
      ]
     },
     "metadata": {},
     "output_type": "display_data"
    },
    {
     "data": {
      "text/plain": [
       "<Figure size 1000x1000 with 0 Axes>"
      ]
     },
     "metadata": {},
     "output_type": "display_data"
    },
    {
     "data": {
      "text/plain": [
       "<Figure size 1000x1000 with 0 Axes>"
      ]
     },
     "metadata": {},
     "output_type": "display_data"
    },
    {
     "data": {
      "text/plain": [
       "<Figure size 1000x1000 with 0 Axes>"
      ]
     },
     "metadata": {},
     "output_type": "display_data"
    },
    {
     "data": {
      "text/plain": [
       "<Figure size 1000x1000 with 0 Axes>"
      ]
     },
     "metadata": {},
     "output_type": "display_data"
    },
    {
     "data": {
      "text/plain": [
       "<Figure size 1000x1000 with 0 Axes>"
      ]
     },
     "metadata": {},
     "output_type": "display_data"
    },
    {
     "data": {
      "text/plain": [
       "<Figure size 1000x1000 with 0 Axes>"
      ]
     },
     "metadata": {},
     "output_type": "display_data"
    },
    {
     "data": {
      "text/plain": [
       "<Figure size 1000x1000 with 0 Axes>"
      ]
     },
     "metadata": {},
     "output_type": "display_data"
    },
    {
     "data": {
      "text/plain": [
       "<Figure size 1000x1000 with 0 Axes>"
      ]
     },
     "metadata": {},
     "output_type": "display_data"
    },
    {
     "data": {
      "text/plain": [
       "<Figure size 1000x1000 with 0 Axes>"
      ]
     },
     "metadata": {},
     "output_type": "display_data"
    },
    {
     "data": {
      "text/plain": [
       "<Figure size 1000x1000 with 0 Axes>"
      ]
     },
     "metadata": {},
     "output_type": "display_data"
    },
    {
     "data": {
      "text/plain": [
       "<Figure size 1000x1000 with 0 Axes>"
      ]
     },
     "metadata": {},
     "output_type": "display_data"
    }
   ],
   "source": [
    "for key, value in V_Mismatch_Dict.iteritems():\n",
    "\n",
    "    d = value\n",
    "    case_label = key\n",
    "\n",
    "    # arrays to hold fitted values\n",
    "    D_1 = []\n",
    "    D_2 = []\n",
    "    D_3 = []\n",
    "    D_i = []\n",
    "\n",
    "    # Plot parameters\n",
    "    plt.rcParams['figure.figsize'] = [5.0, 5.0]\n",
    "    plt.rcParams['figure.dpi'] = 200\n",
    "    plt.rcParams['savefig.dpi'] = 200\n",
    "    plt.rcParams['axes.titlesize'] = 10\n",
    "    plt.rcParams['font.size'] = 10\n",
    "    plt.rcParams['legend.fontsize'] = 8\n",
    "    plt.rcParams['lines.linewidth'] = 1\n",
    "\n",
    "    # Create figure\n",
    "    #fig1, ax1 = plt.subplots(1);\n",
    "    fig = plt.figure(tight_layout=True);\n",
    "    gs = gridspec.GridSpec(2, 1, height_ratios=[1, 20]);\n",
    "    ax2 = plt.subplot(gs[0]);\n",
    "    ax1 = plt.subplot(gs[1]);\n",
    "\n",
    "    #fig1, (ax1, ax2) = plt.subplots(ncols=1, nrows=2, constrained_layout=True, width_ratios=widths, height_ratios=heights)\n",
    "\n",
    "    # Select parameters and labels etc\n",
    "    parameter1 = 'dE';\n",
    "    parameter2 = 'x';\n",
    "    multi1 = 1E3;\n",
    "    multi2 = 1E3;\n",
    "    ax1.set_xlabel(r'dp [$10^{-3}$]');\n",
    "    ax1.set_ylabel('x [mm]');\n",
    "    ax1.grid(which='both',linewidth=0.5, ls=':');\n",
    "    ax1.set_ylim(-15, 15);\n",
    "\n",
    "    transverse_plane = case_label.split('_')[1];\n",
    "    dispersion_mismatch = int(case_label.split('_')[0][-1]);\n",
    "    tune = int(case_label.split('_')[2]);\n",
    "    if transverse_plane is 'H':\n",
    "        full_tune = str('(6.'+ case_label.split('_')[2] +', 6.24)');\n",
    "    else:\n",
    "        full_tune = str('(6.21, 6.'+ case_label.split('_')[2] +')');\n",
    "\n",
    "    if dispersion_mismatch:\n",
    "        d_mismatch_label = 'Mismatched Dispersion ';\n",
    "    else:\n",
    "        d_mismatch_label = 'Lattice Dispersion ';\n",
    "\n",
    "    full_title = d_mismatch_label+full_tune;\n",
    "\n",
    "    ax1.set_title(full_title);\n",
    "\n",
    "    # Iterate over turn\n",
    "    maxi = 30;\n",
    "    turns = range(0,maxi);\n",
    "\n",
    "    colors = cm.rainbow(np.linspace(0, 1, len(turns)));\n",
    "    c_it = 0;\n",
    "\n",
    "    cmap = mpl.cm.rainbow;\n",
    "    norm = mpl.colors.Normalize(vmin=np.min(turns), vmax=np.max(turns));\n",
    "    cb1 = mpl.colorbar.ColorbarBase(ax2, cmap=cmap, norm=norm, orientation='horizontal');\n",
    "    cb1.set_label('Turn');\n",
    "\n",
    "    for n in turns:  \n",
    "\n",
    "        x = np.array(multi1 * d[n]['particles'][parameter1][0][0][0]/E/beta**2); #Conversion from dE to dpp\n",
    "        y = np.array(multi2 * d[n]['particles'][parameter2][0][0][0]);\n",
    "        ax1.scatter(x, y, marker='x', label=str(n), color=colors[c_it]);\n",
    "\n",
    "        min_dp = np.min(x);\n",
    "        max_dp = np.max(x);\n",
    "        DELTAP_range = np.arange(min_dp, max_dp, 1E-3);\n",
    "\n",
    "        popt, pcov = curve_fit(cubic, x, y);\n",
    "\n",
    "        D_1.append(popt[1]);\n",
    "        D_2.append(popt[0]);\n",
    "        D_3.append(popt[3]);\n",
    "        D_i.append(popt[2]);\n",
    "        ax1.plot(DELTAP_range, cubic(DELTAP_range,popt[0],popt[1],popt[2],popt[3]), color=colors[c_it]);\n",
    "        c_it = c_it + 1;\n",
    "\n",
    "    savename = dispersion_vector_save_folder +'/' + case_label + '_dispersion_vector.png';\n",
    "    plt.savefig(savename);\n",
    "    plt.clf();\n",
    "\n",
    "    master_dict[case_label] = dict()\n",
    "    master_dict[case_label]['D_1'] = D_1\n",
    "    master_dict[case_label]['D_2'] = D_2\n",
    "    master_dict[case_label]['D_3'] = D_3\n",
    "    master_dict[case_label]['D_i'] = D_i"
   ]
  },
  {
   "cell_type": "markdown",
   "metadata": {},
   "source": [
    "# Test plotting of linear dispersion"
   ]
  },
  {
   "cell_type": "code",
   "execution_count": 42,
   "metadata": {},
   "outputs": [
    {
     "name": "stdout",
     "output_type": "stream",
     "text": [
      "Creation of the directory Linear_Dispersion failed\n"
     ]
    }
   ],
   "source": [
    "dispersion_save_folder = 'Linear_Dispersion'\n",
    "make_directory(dispersion_save_folder)"
   ]
  },
  {
   "cell_type": "code",
   "execution_count": 43,
   "metadata": {
    "scrolled": false
   },
   "outputs": [
    {
     "name": "stdout",
     "output_type": "stream",
     "text": [
      "1_V_10 2.416 1.21 1.317 -0.004735\n",
      "1_V_11 2.412 1.21 1.317 -0.004036\n",
      "1_V_12 2.407 1.211 1.317 -0.003336\n",
      "1_V_13 2.403 1.211 1.317 -0.002634\n",
      "1_V_19 2.376 1.214 1.317 0.001579\n",
      "1_V_15 2.394 1.212 1.317 -0.00123\n"
     ]
    },
    {
     "name": "stderr",
     "output_type": "stream",
     "text": [
      "/usr/lib64/python2.7/site-packages/matplotlib/pyplot.py:522: RuntimeWarning: More than 20 figures have been opened. Figures created through the pyplot interface (`matplotlib.pyplot.figure`) are retained until explicitly closed and may consume too much memory. (To control this warning, see the rcParam `figure.max_open_warning`).\n",
      "  max_open_warning, RuntimeWarning)\n"
     ]
    },
    {
     "name": "stdout",
     "output_type": "stream",
     "text": [
      "1_H_09 3.491 1.576 0.5632 -0.03323\n",
      "1_H_08 3.536 1.57 0.5004 -0.03745\n",
      "1_H_21 3.123 1.627 1.317 -0.03242\n",
      "1_H_20 3.148 1.557 1.254 -0.02967\n",
      "1_V_16 2.389 1.213 1.317 -0.0005272\n",
      "1_H_17 3.211 1.622 1.065 -0.02465\n",
      "1_V_14 2.398 1.212 1.317 -0.001932\n",
      "1_V_21 2.367 1.215 1.317 0.00298\n",
      "1_V_20 2.372 1.215 1.317 0.00228\n",
      "1_V_23 2.358 1.216 1.317 0.004378\n",
      "1_V_22 2.363 1.216 1.317 0.003679\n",
      "1_H_14 3.288 1.611 0.8771 -0.02785\n",
      "1_H_15 3.26 1.619 0.9397 -0.02591\n",
      "1_H_12 3.358 1.602 0.7511 -0.02436\n",
      "1_H_13 3.326 1.611 0.8144 -0.02816\n",
      "1_H_10 3.44 1.591 0.6255 -0.02664\n",
      "1_H_11 3.389 1.597 0.6891 -0.03397\n",
      "1_V_17 2.385 1.213 1.317 0.0001752\n",
      "1_H_18 3.184 1.626 1.129 -0.0311\n",
      "1_H_19 3.169 1.624 1.191 -0.02739\n",
      "1_H_16 3.24 1.619 1.003 -0.02971\n",
      "1_V_24 2.354 1.217 1.317 0.005075\n",
      "1_H_07 3.6 1.55 0.4374 -0.04038\n",
      "1_V_18 2.38 1.214 1.317 0.0008773\n"
     ]
    },
    {
     "data": {
      "text/plain": [
       "<Figure size 1000x1000 with 0 Axes>"
      ]
     },
     "metadata": {},
     "output_type": "display_data"
    },
    {
     "data": {
      "text/plain": [
       "<Figure size 1000x1000 with 0 Axes>"
      ]
     },
     "metadata": {},
     "output_type": "display_data"
    },
    {
     "data": {
      "text/plain": [
       "<Figure size 1000x1000 with 0 Axes>"
      ]
     },
     "metadata": {},
     "output_type": "display_data"
    },
    {
     "data": {
      "text/plain": [
       "<Figure size 1000x1000 with 0 Axes>"
      ]
     },
     "metadata": {},
     "output_type": "display_data"
    },
    {
     "data": {
      "text/plain": [
       "<Figure size 1000x1000 with 0 Axes>"
      ]
     },
     "metadata": {},
     "output_type": "display_data"
    },
    {
     "data": {
      "text/plain": [
       "<Figure size 1000x1000 with 0 Axes>"
      ]
     },
     "metadata": {},
     "output_type": "display_data"
    },
    {
     "data": {
      "text/plain": [
       "<Figure size 1000x1000 with 0 Axes>"
      ]
     },
     "metadata": {},
     "output_type": "display_data"
    },
    {
     "data": {
      "text/plain": [
       "<Figure size 1000x1000 with 0 Axes>"
      ]
     },
     "metadata": {},
     "output_type": "display_data"
    },
    {
     "data": {
      "text/plain": [
       "<Figure size 1000x1000 with 0 Axes>"
      ]
     },
     "metadata": {},
     "output_type": "display_data"
    },
    {
     "data": {
      "text/plain": [
       "<Figure size 1000x1000 with 0 Axes>"
      ]
     },
     "metadata": {},
     "output_type": "display_data"
    },
    {
     "data": {
      "text/plain": [
       "<Figure size 1000x1000 with 0 Axes>"
      ]
     },
     "metadata": {},
     "output_type": "display_data"
    },
    {
     "data": {
      "text/plain": [
       "<Figure size 1000x1000 with 0 Axes>"
      ]
     },
     "metadata": {},
     "output_type": "display_data"
    },
    {
     "data": {
      "text/plain": [
       "<Figure size 1000x1000 with 0 Axes>"
      ]
     },
     "metadata": {},
     "output_type": "display_data"
    },
    {
     "data": {
      "text/plain": [
       "<Figure size 1000x1000 with 0 Axes>"
      ]
     },
     "metadata": {},
     "output_type": "display_data"
    },
    {
     "data": {
      "text/plain": [
       "<Figure size 1000x1000 with 0 Axes>"
      ]
     },
     "metadata": {},
     "output_type": "display_data"
    },
    {
     "data": {
      "text/plain": [
       "<Figure size 1000x1000 with 0 Axes>"
      ]
     },
     "metadata": {},
     "output_type": "display_data"
    },
    {
     "data": {
      "text/plain": [
       "<Figure size 1000x1000 with 0 Axes>"
      ]
     },
     "metadata": {},
     "output_type": "display_data"
    },
    {
     "data": {
      "text/plain": [
       "<Figure size 1000x1000 with 0 Axes>"
      ]
     },
     "metadata": {},
     "output_type": "display_data"
    },
    {
     "data": {
      "text/plain": [
       "<Figure size 1000x1000 with 0 Axes>"
      ]
     },
     "metadata": {},
     "output_type": "display_data"
    },
    {
     "data": {
      "text/plain": [
       "<Figure size 1000x1000 with 0 Axes>"
      ]
     },
     "metadata": {},
     "output_type": "display_data"
    },
    {
     "data": {
      "text/plain": [
       "<Figure size 1000x1000 with 0 Axes>"
      ]
     },
     "metadata": {},
     "output_type": "display_data"
    },
    {
     "data": {
      "text/plain": [
       "<Figure size 1000x1000 with 0 Axes>"
      ]
     },
     "metadata": {},
     "output_type": "display_data"
    },
    {
     "data": {
      "text/plain": [
       "<Figure size 1000x1000 with 0 Axes>"
      ]
     },
     "metadata": {},
     "output_type": "display_data"
    },
    {
     "data": {
      "text/plain": [
       "<Figure size 1000x1000 with 0 Axes>"
      ]
     },
     "metadata": {},
     "output_type": "display_data"
    },
    {
     "data": {
      "text/plain": [
       "<Figure size 1000x1000 with 0 Axes>"
      ]
     },
     "metadata": {},
     "output_type": "display_data"
    },
    {
     "data": {
      "text/plain": [
       "<Figure size 1000x1000 with 0 Axes>"
      ]
     },
     "metadata": {},
     "output_type": "display_data"
    },
    {
     "data": {
      "text/plain": [
       "<Figure size 1000x1000 with 0 Axes>"
      ]
     },
     "metadata": {},
     "output_type": "display_data"
    },
    {
     "data": {
      "text/plain": [
       "<Figure size 1000x1000 with 0 Axes>"
      ]
     },
     "metadata": {},
     "output_type": "display_data"
    },
    {
     "data": {
      "text/plain": [
       "<Figure size 1000x1000 with 0 Axes>"
      ]
     },
     "metadata": {},
     "output_type": "display_data"
    },
    {
     "data": {
      "text/plain": [
       "<Figure size 1000x1000 with 0 Axes>"
      ]
     },
     "metadata": {},
     "output_type": "display_data"
    },
    {
     "data": {
      "text/plain": [
       "<Figure size 1000x1000 with 0 Axes>"
      ]
     },
     "metadata": {},
     "output_type": "display_data"
    },
    {
     "data": {
      "text/plain": [
       "<Figure size 1000x1000 with 0 Axes>"
      ]
     },
     "metadata": {},
     "output_type": "display_data"
    },
    {
     "data": {
      "text/plain": [
       "<Figure size 1000x1000 with 0 Axes>"
      ]
     },
     "metadata": {},
     "output_type": "display_data"
    },
    {
     "data": {
      "text/plain": [
       "<Figure size 1000x1000 with 0 Axes>"
      ]
     },
     "metadata": {},
     "output_type": "display_data"
    },
    {
     "data": {
      "text/plain": [
       "<Figure size 1000x1000 with 0 Axes>"
      ]
     },
     "metadata": {},
     "output_type": "display_data"
    },
    {
     "data": {
      "text/plain": [
       "<Figure size 1000x1000 with 0 Axes>"
      ]
     },
     "metadata": {},
     "output_type": "display_data"
    },
    {
     "data": {
      "text/plain": [
       "<Figure size 1000x1000 with 0 Axes>"
      ]
     },
     "metadata": {},
     "output_type": "display_data"
    },
    {
     "data": {
      "text/plain": [
       "<Figure size 1000x1000 with 0 Axes>"
      ]
     },
     "metadata": {},
     "output_type": "display_data"
    },
    {
     "data": {
      "text/plain": [
       "<Figure size 1000x1000 with 0 Axes>"
      ]
     },
     "metadata": {},
     "output_type": "display_data"
    },
    {
     "data": {
      "text/plain": [
       "<Figure size 1000x1000 with 0 Axes>"
      ]
     },
     "metadata": {},
     "output_type": "display_data"
    },
    {
     "data": {
      "text/plain": [
       "<Figure size 1000x1000 with 0 Axes>"
      ]
     },
     "metadata": {},
     "output_type": "display_data"
    },
    {
     "data": {
      "text/plain": [
       "<Figure size 1000x1000 with 0 Axes>"
      ]
     },
     "metadata": {},
     "output_type": "display_data"
    },
    {
     "data": {
      "text/plain": [
       "<Figure size 1000x1000 with 0 Axes>"
      ]
     },
     "metadata": {},
     "output_type": "display_data"
    },
    {
     "data": {
      "text/plain": [
       "<Figure size 1000x1000 with 0 Axes>"
      ]
     },
     "metadata": {},
     "output_type": "display_data"
    },
    {
     "data": {
      "text/plain": [
       "<Figure size 1000x1000 with 0 Axes>"
      ]
     },
     "metadata": {},
     "output_type": "display_data"
    },
    {
     "data": {
      "text/plain": [
       "<Figure size 1000x1000 with 0 Axes>"
      ]
     },
     "metadata": {},
     "output_type": "display_data"
    },
    {
     "data": {
      "text/plain": [
       "<Figure size 1000x1000 with 0 Axes>"
      ]
     },
     "metadata": {},
     "output_type": "display_data"
    },
    {
     "data": {
      "text/plain": [
       "<Figure size 1000x1000 with 0 Axes>"
      ]
     },
     "metadata": {},
     "output_type": "display_data"
    },
    {
     "data": {
      "text/plain": [
       "<Figure size 1000x1000 with 0 Axes>"
      ]
     },
     "metadata": {},
     "output_type": "display_data"
    },
    {
     "data": {
      "text/plain": [
       "<Figure size 1000x1000 with 0 Axes>"
      ]
     },
     "metadata": {},
     "output_type": "display_data"
    },
    {
     "data": {
      "text/plain": [
       "<Figure size 1000x1000 with 0 Axes>"
      ]
     },
     "metadata": {},
     "output_type": "display_data"
    },
    {
     "data": {
      "text/plain": [
       "<Figure size 1000x1000 with 0 Axes>"
      ]
     },
     "metadata": {},
     "output_type": "display_data"
    },
    {
     "data": {
      "text/plain": [
       "<Figure size 1000x1000 with 0 Axes>"
      ]
     },
     "metadata": {},
     "output_type": "display_data"
    },
    {
     "data": {
      "text/plain": [
       "<Figure size 1000x1000 with 0 Axes>"
      ]
     },
     "metadata": {},
     "output_type": "display_data"
    },
    {
     "data": {
      "text/plain": [
       "<Figure size 1000x1000 with 0 Axes>"
      ]
     },
     "metadata": {},
     "output_type": "display_data"
    },
    {
     "data": {
      "text/plain": [
       "<Figure size 1000x1000 with 0 Axes>"
      ]
     },
     "metadata": {},
     "output_type": "display_data"
    },
    {
     "data": {
      "text/plain": [
       "<Figure size 1000x1000 with 0 Axes>"
      ]
     },
     "metadata": {},
     "output_type": "display_data"
    },
    {
     "data": {
      "text/plain": [
       "<Figure size 1000x1000 with 0 Axes>"
      ]
     },
     "metadata": {},
     "output_type": "display_data"
    },
    {
     "data": {
      "text/plain": [
       "<Figure size 1000x1000 with 0 Axes>"
      ]
     },
     "metadata": {},
     "output_type": "display_data"
    },
    {
     "data": {
      "text/plain": [
       "<Figure size 1000x1000 with 0 Axes>"
      ]
     },
     "metadata": {},
     "output_type": "display_data"
    }
   ],
   "source": [
    "linear_dispersion_fit_dict = dict()\n",
    "\n",
    "for key, value in master_dict.iteritems():\n",
    "\n",
    "    d = value\n",
    "    case_label = key\n",
    "\n",
    "    # Plot parameters\n",
    "    plt.rcParams['figure.figsize'] = [5.0, 5.0]\n",
    "    plt.rcParams['figure.dpi'] = 200\n",
    "    plt.rcParams['savefig.dpi'] = 200\n",
    "    plt.rcParams['axes.titlesize'] = 10\n",
    "    plt.rcParams['font.size'] = 10\n",
    "    plt.rcParams['legend.fontsize'] = 8\n",
    "    plt.rcParams['lines.linewidth'] = 1\n",
    "\n",
    "    # Create figure\n",
    "    #fig1, ax1 = plt.subplots(1);\n",
    "    fig = plt.figure(tight_layout=True)\n",
    "    gs = gridspec.GridSpec(1, 1) \n",
    "    ax1 = plt.subplot(gs[0])\n",
    "\n",
    "    #fig1, (ax1, ax2) = plt.subplots(ncols=1, nrows=2, constrained_layout=True, width_ratios=widths, height_ratios=heights)\n",
    "\n",
    "    # Select parameters and labels etc\n",
    "    parameter1 = 'D_1';\n",
    "    \n",
    "    multi1 = 1;\n",
    "    \n",
    "    ax1.set_xlabel('Turn [-]');\n",
    "    ax1.set_ylabel(r'$D_x$ [m]');    \n",
    "    ax1.grid(which='both',linewidth=0.5, ls=':');\n",
    "    ax1.set_ylim(0.5, 5.5);\n",
    "\n",
    "    transverse_plane = case_label.split('_')[1]\n",
    "    dispersion_mismatch = int(case_label.split('_')[0][-1])\n",
    "    tune = int(case_label.split('_')[2])\n",
    "    if transverse_plane is 'H':\n",
    "        full_tune = str('(6.'+ case_label.split('_')[2] +', 6.24)')\n",
    "    else:\n",
    "        full_tune = str('(6.21, 6.'+ case_label.split('_')[2] +')')\n",
    "        \n",
    "\n",
    "    if dispersion_mismatch:\n",
    "        d_mismatch_label = 'Mismatched Dispersion '\n",
    "    else:\n",
    "        d_mismatch_label = 'Lattice Dispersion '\n",
    "\n",
    "    full_title = d_mismatch_label+full_tune\n",
    "\n",
    "    ax1.set_title(full_title)\n",
    "    \n",
    "    y = np.array(multi1 * d[parameter1])\n",
    "    x = range(0,30)\n",
    "    turns_fine = np.arange(0, 31, 0.1)\n",
    "    \n",
    "    if dispersion_mismatch:\n",
    "        D_0_min = -np.inf# 2.0\n",
    "        D_0_max = np.inf# 4.0\n",
    "        M_D_min = 0.98* (np.max(y) - np.min(y))/2\n",
    "        M_D_max = 1.02* (np.max(y) - np.min(y))/2\n",
    "        theta_min = -np.inf;\n",
    "        theta_max = np.inf;\n",
    "        if transverse_plane is 'H':\n",
    "            qx_min = (int(case_label.split('_')[2])/100.)*(6+(int(case_label.split('_')[2])/100.))* 0.9\n",
    "            qx_max = (int(case_label.split('_')[2])/100.)*(6+(int(case_label.split('_')[2])/100.))* 1.1\n",
    "        else:\n",
    "            qx_min = 0.21*6.21*0.95 # 1.3#0.\n",
    "            qx_max = 0.21*6.21*1.05 # 1.4#2*np.pi\n",
    "\n",
    "\n",
    "        popt, pcov = curve_fit(Md_fit, x, y, method = 'trf', bounds =((D_0_min,M_D_min,qx_min,theta_min),(D_0_max,M_D_max,qx_max,theta_max)));\n",
    "        \n",
    "        linear_dispersion_fit_dict[case_label] = dict();\n",
    "        linear_dispersion_fit_dict[case_label]['D_0'] = popt[0];\n",
    "        linear_dispersion_fit_dict[case_label]['Amplitude'] = popt[1];\n",
    "        linear_dispersion_fit_dict[case_label]['Frequency'] = popt[2];\n",
    "        linear_dispersion_fit_dict[case_label]['Theta'] = popt[3];\n",
    "        \n",
    "        plt.plot(turns_fine, Md_fit(turns_fine, popt[0], popt[1], popt[2], popt[3]),'r', label='Harmonic Fit');        \n",
    "        \n",
    "        print case_label, round_sig(popt[0]), round_sig(popt[1]), round_sig(popt[2]), round_sig(popt[3]);\n",
    "        lab_ = 'Mean Dispersion = ' + str(round_sig(popt[0])) + ' m'\n",
    "        plt.plot([x[0], x[-1]], [popt[0],popt[0]],'--k', label=lab_); \n",
    "        \n",
    "        \n",
    "    ax1.plot(x, y, marker='x', label='Dispersion Vector: Fitted Linear Dispersion');\n",
    "    ax1.legend(fontsize=8);\n",
    "    \n",
    "    savename = dispersion_save_folder +'/' + case_label + '_dispersion.png'\n",
    "    plt.savefig(savename);\n",
    "    plt.clf();"
   ]
  },
  {
   "cell_type": "code",
   "execution_count": 44,
   "metadata": {},
   "outputs": [
    {
     "name": "stdout",
     "output_type": "stream",
     "text": [
      "H 1 0.07 0.4249 0.4374 0.0720593080725\n",
      "H 1 0.08 0.4864 0.5004 0.0823026315789\n",
      "H 1 0.09 0.5481 0.5632 0.0924794745484\n",
      "H 1 0.1 0.61 0.6255 0.102540983607\n",
      "H 1 0.11 0.6721 0.6891 0.112782324059\n",
      "H 1 0.12 0.7344 0.7511 0.12272875817\n",
      "H 1 0.13 0.7969 0.8144 0.132854812398\n",
      "H 1 0.14 0.8596 0.8771 0.142850162866\n",
      "H 1 0.15 0.9225 0.9397 0.152796747967\n",
      "H 1 0.16 0.9856 1.003 0.162824675325\n",
      "H 1 0.17 1.0489 1.065 0.172609400324\n",
      "H 1 0.18 1.1124 1.129 0.182686084142\n",
      "H 1 0.19 1.1761 1.191 0.192407108239\n",
      "H 1 0.2 1.24 1.254 0.202258064516\n",
      "H 1 0.21 1.3041 1.317 0.212077294686\n",
      "V 1 0.1 1.3041 1.317 0.212077294686\n",
      "V 1 0.11 1.3041 1.317 0.212077294686\n",
      "V 1 0.12 1.3041 1.317 0.212077294686\n",
      "V 1 0.13 1.3041 1.317 0.212077294686\n",
      "V 1 0.14 1.3041 1.317 0.212077294686\n",
      "V 1 0.15 1.3041 1.317 0.212077294686\n",
      "V 1 0.16 1.3041 1.317 0.212077294686\n",
      "V 1 0.17 1.3041 1.317 0.212077294686\n",
      "V 1 0.18 1.3041 1.317 0.212077294686\n",
      "V 1 0.19 1.3041 1.317 0.212077294686\n",
      "V 1 0.2 1.3041 1.317 0.212077294686\n",
      "V 1 0.21 1.3041 1.317 0.212077294686\n",
      "V 1 0.22 1.3041 1.317 0.212077294686\n",
      "V 1 0.23 1.3041 1.317 0.212077294686\n",
      "V 1 0.24 1.3041 1.317 0.212077294686\n"
     ]
    }
   ],
   "source": [
    "for key, value in sorted(linear_dispersion_fit_dict.iteritems()):\n",
    "    transverse_plane = key.split('_')[1]\n",
    "    dispersion_mismatch = int(key.split('_')[0][-1])\n",
    "    tune = int(key.split('_')[2])/100.\n",
    "    \n",
    "    if transverse_plane is 'H':\n",
    "        print transverse_plane, dispersion_mismatch, tune, (tune*(6.+tune)), round_sig(linear_dispersion_fit_dict[key]['Frequency']), round_sig(linear_dispersion_fit_dict[key]['Frequency'])/(6.+tune)\n",
    "    else:\n",
    "        print transverse_plane, dispersion_mismatch, tune, (0.21*(6.21)), round_sig(linear_dispersion_fit_dict[key]['Frequency']), round_sig(linear_dispersion_fit_dict[key]['Frequency'])/6.21\n",
    "        "
   ]
  },
  {
   "cell_type": "markdown",
   "metadata": {},
   "source": [
    "## Interesting point:\n",
    "- The frequency of the dispersion mismatch oscillation is equal to $q_x \\cdot Q_x$\n",
    "- where $q_x$ is the fractional horizontal tune (e.g. 0.07), and $Q_x$ is the complete horizontal tune (e.g. 6.07)\n"
   ]
  },
  {
   "cell_type": "markdown",
   "metadata": {},
   "source": [
    "# Plot normalised dispersion"
   ]
  },
  {
   "cell_type": "code",
   "execution_count": 45,
   "metadata": {},
   "outputs": [
    {
     "name": "stdout",
     "output_type": "stream",
     "text": [
      "Creation of the directory Normalised_Dispersion failed\n"
     ]
    }
   ],
   "source": [
    "normalised_dispersion_save_folder = 'Normalised_Dispersion'\n",
    "make_directory(normalised_dispersion_save_folder)"
   ]
  },
  {
   "cell_type": "code",
   "execution_count": 46,
   "metadata": {},
   "outputs": [
    {
     "name": "stdout",
     "output_type": "stream",
     "text": [
      "1_V_10 0.6885 0.3447 1.317 -0.004735\n",
      "1_V_11 0.6869 0.3447 1.317 -0.004036\n",
      "1_V_12 0.6852 0.3447 1.317 -0.003336\n",
      "1_V_13 0.6836 0.3447 1.317 -0.002634\n",
      "1_V_19 0.674 0.3445 1.317 0.001579\n",
      "1_V_15 0.6804 0.3446 1.317 -0.00123\n",
      "1_H_09 0.767 0.3462 0.5632 -0.03323\n",
      "1_H_08 0.7842 0.3482 0.5004 -0.03745\n",
      "1_H_21 0.6611 0.3444 1.317 -0.03242\n",
      "1_H_20 0.667 0.3299 1.254 -0.02967\n",
      "1_V_16 0.6787 0.3446 1.317 -0.0005272\n",
      "1_H_17 0.6833 0.3452 1.065 -0.02465\n",
      "1_V_14 0.682 0.3446 1.317 -0.001932\n",
      "1_V_21 0.6708 0.3444 1.317 0.00298\n",
      "1_V_20 0.6724 0.3444 1.317 0.00228\n",
      "1_V_23 0.6677 0.3444 1.317 0.004378\n",
      "1_V_22 0.6692 0.3444 1.317 0.003679\n",
      "1_H_14 0.7043 0.3451 0.8771 -0.02785\n",
      "1_H_15 0.6966 0.3459 0.9397 -0.02591\n",
      "1_H_12 0.7247 0.3458 0.7511 -0.02436\n",
      "1_H_13 0.715 0.3462 0.8144 -0.02816\n",
      "1_H_10 0.7501 0.3469 0.6255 -0.02664\n",
      "1_H_11 0.7348 0.3462 0.6891 -0.03397\n",
      "1_V_17 0.6771 0.3445 1.317 0.0001752\n",
      "1_H_18 0.6764 0.3454 1.129 -0.0311\n",
      "1_H_19 0.6722 0.3445 1.191 -0.02739\n",
      "1_H_16 0.6907 0.345 1.003 -0.02971\n",
      "1_V_24 0.6661 0.3443 1.317 0.005075\n",
      "1_H_07 0.808 0.3478 0.4374 -0.04038\n",
      "1_V_18 0.6755 0.3445 1.317 0.0008773\n"
     ]
    },
    {
     "data": {
      "text/plain": [
       "<Figure size 1000x1000 with 0 Axes>"
      ]
     },
     "metadata": {},
     "output_type": "display_data"
    },
    {
     "data": {
      "text/plain": [
       "<Figure size 1000x1000 with 0 Axes>"
      ]
     },
     "metadata": {},
     "output_type": "display_data"
    },
    {
     "data": {
      "text/plain": [
       "<Figure size 1000x1000 with 0 Axes>"
      ]
     },
     "metadata": {},
     "output_type": "display_data"
    },
    {
     "data": {
      "text/plain": [
       "<Figure size 1000x1000 with 0 Axes>"
      ]
     },
     "metadata": {},
     "output_type": "display_data"
    },
    {
     "data": {
      "text/plain": [
       "<Figure size 1000x1000 with 0 Axes>"
      ]
     },
     "metadata": {},
     "output_type": "display_data"
    },
    {
     "data": {
      "text/plain": [
       "<Figure size 1000x1000 with 0 Axes>"
      ]
     },
     "metadata": {},
     "output_type": "display_data"
    },
    {
     "data": {
      "text/plain": [
       "<Figure size 1000x1000 with 0 Axes>"
      ]
     },
     "metadata": {},
     "output_type": "display_data"
    },
    {
     "data": {
      "text/plain": [
       "<Figure size 1000x1000 with 0 Axes>"
      ]
     },
     "metadata": {},
     "output_type": "display_data"
    },
    {
     "data": {
      "text/plain": [
       "<Figure size 1000x1000 with 0 Axes>"
      ]
     },
     "metadata": {},
     "output_type": "display_data"
    },
    {
     "data": {
      "text/plain": [
       "<Figure size 1000x1000 with 0 Axes>"
      ]
     },
     "metadata": {},
     "output_type": "display_data"
    },
    {
     "data": {
      "text/plain": [
       "<Figure size 1000x1000 with 0 Axes>"
      ]
     },
     "metadata": {},
     "output_type": "display_data"
    },
    {
     "data": {
      "text/plain": [
       "<Figure size 1000x1000 with 0 Axes>"
      ]
     },
     "metadata": {},
     "output_type": "display_data"
    },
    {
     "data": {
      "text/plain": [
       "<Figure size 1000x1000 with 0 Axes>"
      ]
     },
     "metadata": {},
     "output_type": "display_data"
    },
    {
     "data": {
      "text/plain": [
       "<Figure size 1000x1000 with 0 Axes>"
      ]
     },
     "metadata": {},
     "output_type": "display_data"
    },
    {
     "data": {
      "text/plain": [
       "<Figure size 1000x1000 with 0 Axes>"
      ]
     },
     "metadata": {},
     "output_type": "display_data"
    },
    {
     "data": {
      "text/plain": [
       "<Figure size 1000x1000 with 0 Axes>"
      ]
     },
     "metadata": {},
     "output_type": "display_data"
    },
    {
     "data": {
      "text/plain": [
       "<Figure size 1000x1000 with 0 Axes>"
      ]
     },
     "metadata": {},
     "output_type": "display_data"
    },
    {
     "data": {
      "text/plain": [
       "<Figure size 1000x1000 with 0 Axes>"
      ]
     },
     "metadata": {},
     "output_type": "display_data"
    },
    {
     "data": {
      "text/plain": [
       "<Figure size 1000x1000 with 0 Axes>"
      ]
     },
     "metadata": {},
     "output_type": "display_data"
    },
    {
     "data": {
      "text/plain": [
       "<Figure size 1000x1000 with 0 Axes>"
      ]
     },
     "metadata": {},
     "output_type": "display_data"
    },
    {
     "data": {
      "text/plain": [
       "<Figure size 1000x1000 with 0 Axes>"
      ]
     },
     "metadata": {},
     "output_type": "display_data"
    },
    {
     "data": {
      "text/plain": [
       "<Figure size 1000x1000 with 0 Axes>"
      ]
     },
     "metadata": {},
     "output_type": "display_data"
    },
    {
     "data": {
      "text/plain": [
       "<Figure size 1000x1000 with 0 Axes>"
      ]
     },
     "metadata": {},
     "output_type": "display_data"
    },
    {
     "data": {
      "text/plain": [
       "<Figure size 1000x1000 with 0 Axes>"
      ]
     },
     "metadata": {},
     "output_type": "display_data"
    },
    {
     "data": {
      "text/plain": [
       "<Figure size 1000x1000 with 0 Axes>"
      ]
     },
     "metadata": {},
     "output_type": "display_data"
    },
    {
     "data": {
      "text/plain": [
       "<Figure size 1000x1000 with 0 Axes>"
      ]
     },
     "metadata": {},
     "output_type": "display_data"
    },
    {
     "data": {
      "text/plain": [
       "<Figure size 1000x1000 with 0 Axes>"
      ]
     },
     "metadata": {},
     "output_type": "display_data"
    },
    {
     "data": {
      "text/plain": [
       "<Figure size 1000x1000 with 0 Axes>"
      ]
     },
     "metadata": {},
     "output_type": "display_data"
    },
    {
     "data": {
      "text/plain": [
       "<Figure size 1000x1000 with 0 Axes>"
      ]
     },
     "metadata": {},
     "output_type": "display_data"
    },
    {
     "data": {
      "text/plain": [
       "<Figure size 1000x1000 with 0 Axes>"
      ]
     },
     "metadata": {},
     "output_type": "display_data"
    },
    {
     "data": {
      "text/plain": [
       "<Figure size 1000x1000 with 0 Axes>"
      ]
     },
     "metadata": {},
     "output_type": "display_data"
    },
    {
     "data": {
      "text/plain": [
       "<Figure size 1000x1000 with 0 Axes>"
      ]
     },
     "metadata": {},
     "output_type": "display_data"
    },
    {
     "data": {
      "text/plain": [
       "<Figure size 1000x1000 with 0 Axes>"
      ]
     },
     "metadata": {},
     "output_type": "display_data"
    },
    {
     "data": {
      "text/plain": [
       "<Figure size 1000x1000 with 0 Axes>"
      ]
     },
     "metadata": {},
     "output_type": "display_data"
    },
    {
     "data": {
      "text/plain": [
       "<Figure size 1000x1000 with 0 Axes>"
      ]
     },
     "metadata": {},
     "output_type": "display_data"
    },
    {
     "data": {
      "text/plain": [
       "<Figure size 1000x1000 with 0 Axes>"
      ]
     },
     "metadata": {},
     "output_type": "display_data"
    },
    {
     "data": {
      "text/plain": [
       "<Figure size 1000x1000 with 0 Axes>"
      ]
     },
     "metadata": {},
     "output_type": "display_data"
    },
    {
     "data": {
      "text/plain": [
       "<Figure size 1000x1000 with 0 Axes>"
      ]
     },
     "metadata": {},
     "output_type": "display_data"
    },
    {
     "data": {
      "text/plain": [
       "<Figure size 1000x1000 with 0 Axes>"
      ]
     },
     "metadata": {},
     "output_type": "display_data"
    },
    {
     "data": {
      "text/plain": [
       "<Figure size 1000x1000 with 0 Axes>"
      ]
     },
     "metadata": {},
     "output_type": "display_data"
    },
    {
     "data": {
      "text/plain": [
       "<Figure size 1000x1000 with 0 Axes>"
      ]
     },
     "metadata": {},
     "output_type": "display_data"
    },
    {
     "data": {
      "text/plain": [
       "<Figure size 1000x1000 with 0 Axes>"
      ]
     },
     "metadata": {},
     "output_type": "display_data"
    },
    {
     "data": {
      "text/plain": [
       "<Figure size 1000x1000 with 0 Axes>"
      ]
     },
     "metadata": {},
     "output_type": "display_data"
    },
    {
     "data": {
      "text/plain": [
       "<Figure size 1000x1000 with 0 Axes>"
      ]
     },
     "metadata": {},
     "output_type": "display_data"
    },
    {
     "data": {
      "text/plain": [
       "<Figure size 1000x1000 with 0 Axes>"
      ]
     },
     "metadata": {},
     "output_type": "display_data"
    },
    {
     "data": {
      "text/plain": [
       "<Figure size 1000x1000 with 0 Axes>"
      ]
     },
     "metadata": {},
     "output_type": "display_data"
    },
    {
     "data": {
      "text/plain": [
       "<Figure size 1000x1000 with 0 Axes>"
      ]
     },
     "metadata": {},
     "output_type": "display_data"
    },
    {
     "data": {
      "text/plain": [
       "<Figure size 1000x1000 with 0 Axes>"
      ]
     },
     "metadata": {},
     "output_type": "display_data"
    },
    {
     "data": {
      "text/plain": [
       "<Figure size 1000x1000 with 0 Axes>"
      ]
     },
     "metadata": {},
     "output_type": "display_data"
    },
    {
     "data": {
      "text/plain": [
       "<Figure size 1000x1000 with 0 Axes>"
      ]
     },
     "metadata": {},
     "output_type": "display_data"
    },
    {
     "data": {
      "text/plain": [
       "<Figure size 1000x1000 with 0 Axes>"
      ]
     },
     "metadata": {},
     "output_type": "display_data"
    },
    {
     "data": {
      "text/plain": [
       "<Figure size 1000x1000 with 0 Axes>"
      ]
     },
     "metadata": {},
     "output_type": "display_data"
    },
    {
     "data": {
      "text/plain": [
       "<Figure size 1000x1000 with 0 Axes>"
      ]
     },
     "metadata": {},
     "output_type": "display_data"
    },
    {
     "data": {
      "text/plain": [
       "<Figure size 1000x1000 with 0 Axes>"
      ]
     },
     "metadata": {},
     "output_type": "display_data"
    },
    {
     "data": {
      "text/plain": [
       "<Figure size 1000x1000 with 0 Axes>"
      ]
     },
     "metadata": {},
     "output_type": "display_data"
    },
    {
     "data": {
      "text/plain": [
       "<Figure size 1000x1000 with 0 Axes>"
      ]
     },
     "metadata": {},
     "output_type": "display_data"
    },
    {
     "data": {
      "text/plain": [
       "<Figure size 1000x1000 with 0 Axes>"
      ]
     },
     "metadata": {},
     "output_type": "display_data"
    },
    {
     "data": {
      "text/plain": [
       "<Figure size 1000x1000 with 0 Axes>"
      ]
     },
     "metadata": {},
     "output_type": "display_data"
    },
    {
     "data": {
      "text/plain": [
       "<Figure size 1000x1000 with 0 Axes>"
      ]
     },
     "metadata": {},
     "output_type": "display_data"
    },
    {
     "data": {
      "text/plain": [
       "<Figure size 1000x1000 with 0 Axes>"
      ]
     },
     "metadata": {},
     "output_type": "display_data"
    }
   ],
   "source": [
    "normalised_linear_dispersion_fit_dict = dict()\n",
    "\n",
    "for key, value in master_dict.iteritems():\n",
    "\n",
    "    d = value\n",
    "    case_label = key\n",
    "\n",
    "    # Plot parameters\n",
    "    plt.rcParams['figure.figsize'] = [5.0, 5.0]\n",
    "    plt.rcParams['figure.dpi'] = 200\n",
    "    plt.rcParams['savefig.dpi'] = 200\n",
    "    plt.rcParams['axes.titlesize'] = 10\n",
    "    plt.rcParams['font.size'] = 10\n",
    "    plt.rcParams['legend.fontsize'] = 8\n",
    "    plt.rcParams['lines.linewidth'] = 1\n",
    "\n",
    "    # Create figure\n",
    "    #fig1, ax1 = plt.subplots(1);\n",
    "    fig = plt.figure(tight_layout=True)\n",
    "    gs = gridspec.GridSpec(1, 1) \n",
    "    ax1 = plt.subplot(gs[0])\n",
    "\n",
    "    #fig1, (ax1, ax2) = plt.subplots(ncols=1, nrows=2, constrained_layout=True, width_ratios=widths, height_ratios=heights)\n",
    "\n",
    "    # Select parameters and labels etc\n",
    "    parameter1 = 'D_1';\n",
    "    \n",
    "    multi1 = 1;\n",
    "    \n",
    "    ax1.set_xlabel('Turn [-]');\n",
    "    ax1.set_ylabel(r'$\\frac{D_x}{\\sqrt{\\beta_x}}$ [m$^{\\frac{1}{2}}$]');    \n",
    "    ax1.grid(which='both',linewidth=0.5, ls=':');\n",
    "    ax1.set_ylim(0.0, 1.25);\n",
    "\n",
    "    transverse_plane = case_label.split('_')[1]\n",
    "    dispersion_mismatch = int(case_label.split('_')[0][-1])\n",
    "    tune = int(case_label.split('_')[2])\n",
    "    twiss_dict_label = transverse_plane + '_' + case_label.split('_')[2]\n",
    "    \n",
    "    if transverse_plane is 'H':\n",
    "        full_tune = str('(6.'+ case_label.split('_')[2] +', 6.24)')\n",
    "    else:\n",
    "        full_tune = str('(6.21, 6.'+ case_label.split('_')[2] +')')\n",
    "        \n",
    "\n",
    "    if dispersion_mismatch:\n",
    "        d_mismatch_label = 'Mismatched Dispersion '\n",
    "    else:\n",
    "        d_mismatch_label = 'Lattice Dispersion '\n",
    "\n",
    "    full_title = d_mismatch_label+full_tune\n",
    "\n",
    "    ax1.set_title(full_title)\n",
    "    \n",
    "    y = np.array(multi1 * d[parameter1])/np.sqrt(twiss_dict[twiss_dict_label]['BETX'])\n",
    "    x = range(0,30)\n",
    "    turns_fine = np.arange(0, 31, 0.1)\n",
    "    \n",
    "    if dispersion_mismatch:\n",
    "        D_0_min = -np.inf# 2.0\n",
    "        D_0_max = np.inf# 4.0\n",
    "        M_D_min = 0.98* (np.max(y) - np.min(y))/2\n",
    "        M_D_max = 1.02* (np.max(y) - np.min(y))/2\n",
    "        theta_min = -np.inf;\n",
    "        theta_max = np.inf;\n",
    "        if transverse_plane is 'H':\n",
    "            qx_min = (int(case_label.split('_')[2])/100.)*(6+(int(case_label.split('_')[2])/100.))* 0.9\n",
    "            qx_max = (int(case_label.split('_')[2])/100.)*(6+(int(case_label.split('_')[2])/100.))* 1.1\n",
    "        else:\n",
    "            qx_min = 0.21*6.21*0.95 # 1.3#0.\n",
    "            qx_max = 0.21*6.21*1.05 # 1.4#2*np.pi\n",
    "\n",
    "\n",
    "        popt, pcov = curve_fit(Md_fit, x, y, method = 'trf', bounds =((D_0_min,M_D_min,qx_min,theta_min),(D_0_max,M_D_max,qx_max,theta_max)));\n",
    "        \n",
    "        normalised_linear_dispersion_fit_dict[case_label] = dict();\n",
    "        normalised_linear_dispersion_fit_dict[case_label]['D_0'] = popt[0];\n",
    "        normalised_linear_dispersion_fit_dict[case_label]['Amplitude'] = popt[1];\n",
    "        normalised_linear_dispersion_fit_dict[case_label]['Frequency'] = popt[2];\n",
    "        normalised_linear_dispersion_fit_dict[case_label]['Theta'] = popt[3];\n",
    "        lab_2 = 'Harmonic Fit, Amplitude = ' + str(round_sig(popt[1]))        \n",
    "        plt.plot(turns_fine, Md_fit(turns_fine, popt[0], popt[1], popt[2], popt[3]),'r', label=lab_2);        \n",
    "        \n",
    "        print case_label, round_sig(popt[0]), round_sig(popt[1]), round_sig(popt[2]), round_sig(popt[3]);\n",
    "        lab_ = 'Mean Normalised Dispersion = ' + str(round_sig(popt[0]))\n",
    "        plt.plot([x[0], x[-1]], [popt[0],popt[0]],'--k', label=lab_); \n",
    "        \n",
    "    ax1.plot(x, y, marker='x', label='Dispersion Vector: Fitted Normalised Linear Dispersion');\n",
    "    ax1.legend(fontsize=8, loc=3);\n",
    "    \n",
    "    savename = normalised_dispersion_save_folder +'/' + case_label + '_normalised_dispersion.png'\n",
    "    plt.savefig(savename);\n",
    "    plt.clf();"
   ]
  }
 ],
 "metadata": {
  "kernelspec": {
   "display_name": "Python 2",
   "language": "python",
   "name": "python2"
  },
  "language_info": {
   "codemirror_mode": {
    "name": "ipython",
    "version": 2
   },
   "file_extension": ".py",
   "mimetype": "text/x-python",
   "name": "python",
   "nbconvert_exporter": "python",
   "pygments_lexer": "ipython2",
   "version": "2.7.15"
  }
 },
 "nbformat": 4,
 "nbformat_minor": 2
}
